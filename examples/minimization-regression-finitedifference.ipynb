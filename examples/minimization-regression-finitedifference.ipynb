{
 "cells": [
  {
   "cell_type": "markdown",
   "id": "298283e1",
   "metadata": {},
   "source": [
    "# 1. Set up the notebook"
   ]
  },
  {
   "cell_type": "markdown",
   "id": "b4fec2e2",
   "metadata": {},
   "source": [
    "Do imports."
   ]
  },
  {
   "cell_type": "code",
   "execution_count": null,
   "id": "1bb778c0",
   "metadata": {},
   "outputs": [],
   "source": [
    "import numpy as np\n",
    "import matplotlib.pyplot as plt"
   ]
  },
  {
   "cell_type": "markdown",
   "id": "a8d62167",
   "metadata": {},
   "source": [
    "Create a random number generator (used to generate example data)."
   ]
  },
  {
   "cell_type": "code",
   "execution_count": null,
   "id": "95472964",
   "metadata": {},
   "outputs": [],
   "source": [
    "rng = np.random.default_rng()"
   ]
  },
  {
   "cell_type": "markdown",
   "id": "7ce359e7",
   "metadata": {},
   "source": [
    "# 2. See an example of minimization"
   ]
  },
  {
   "cell_type": "markdown",
   "id": "8e60bd21",
   "metadata": {},
   "source": [
    "Create example data."
   ]
  },
  {
   "cell_type": "code",
   "execution_count": null,
   "id": "bae6860b",
   "metadata": {},
   "outputs": [],
   "source": [
    "x = np.linspace(-5., 5., 100)\n",
    "y = -1. + (x - 1.)**2"
   ]
  },
  {
   "cell_type": "markdown",
   "id": "02681311",
   "metadata": {},
   "source": [
    "Plot example data."
   ]
  },
  {
   "cell_type": "code",
   "execution_count": null,
   "id": "851a4809",
   "metadata": {},
   "outputs": [],
   "source": [
    "plt.plot(x, y)"
   ]
  },
  {
   "cell_type": "markdown",
   "id": "67a12343",
   "metadata": {},
   "source": [
    "Find the index of the minimum value of $y$."
   ]
  },
  {
   "cell_type": "code",
   "execution_count": null,
   "id": "a096561f",
   "metadata": {},
   "outputs": [],
   "source": [
    "i_min = np.argmin(y)"
   ]
  },
  {
   "cell_type": "markdown",
   "id": "cd36037d",
   "metadata": {},
   "source": [
    "Find the minimum $y$ and the minimizing $x$."
   ]
  },
  {
   "cell_type": "code",
   "execution_count": null,
   "id": "76f59a07",
   "metadata": {},
   "outputs": [],
   "source": [
    "y_min = y[i_min]\n",
    "x_min = x[i_min]"
   ]
  },
  {
   "cell_type": "markdown",
   "id": "e42cbd58",
   "metadata": {},
   "source": [
    "Plot example data, showing the minimum."
   ]
  },
  {
   "cell_type": "code",
   "execution_count": null,
   "id": "238ce993",
   "metadata": {},
   "outputs": [],
   "source": [
    "plt.plot(x, y)\n",
    "plt.plot(x_min, y_min, '.', markersize=12)"
   ]
  },
  {
   "cell_type": "markdown",
   "id": "f301c380",
   "metadata": {},
   "source": [
    "# 3. See an example of linear regression"
   ]
  },
  {
   "cell_type": "markdown",
   "id": "4c9f9a8e",
   "metadata": {},
   "source": [
    "Create example data."
   ]
  },
  {
   "cell_type": "code",
   "execution_count": null,
   "id": "8ac43dbd",
   "metadata": {},
   "outputs": [],
   "source": [
    "# number of data points\n",
    "n = 20\n",
    "\n",
    "# sample c uniformly at random in [-2, 2]\n",
    "c = rng.uniform(low=-2., high=2.)\n",
    "\n",
    "# sample n values of x uniformly at random in [-10, 10]\n",
    "x = rng.uniform(low=-10., high=10., size=n)\n",
    "\n",
    "# sample each value of y from a normal distribution about\n",
    "# the corresponding value of x\n",
    "y = c * x + rng.standard_normal(size=n)"
   ]
  },
  {
   "cell_type": "markdown",
   "id": "b2d835c7",
   "metadata": {},
   "source": [
    "Apply least-squares linear regression to estimate $c$.\n",
    "\n",
    "Note that `y * x` performs *arithmetic* multiplication *element-wise* - that is, it produces an array of the same size as `y` and `x` with the following elements:\n",
    "\n",
    "```\n",
    "[y[0] * x[0], y[1] * x[1], ...]\n",
    "```\n",
    "\n",
    "The same is true of `x**2` - it takes the square of each *element* of `x`."
   ]
  },
  {
   "cell_type": "code",
   "execution_count": null,
   "id": "441f5be4",
   "metadata": {},
   "outputs": [],
   "source": [
    "c_est = np.sum(y * x) / np.sum(x**2)"
   ]
  },
  {
   "cell_type": "markdown",
   "id": "9c79d467",
   "metadata": {},
   "source": [
    "Print the result. We expect `c_est` to be close to `c` but not exactly the same. We also expect `c_est` to be a better and better estimate as we increase the amount of data - **try increasing `n` and see what happens**."
   ]
  },
  {
   "cell_type": "code",
   "execution_count": null,
   "id": "fc90c89b",
   "metadata": {},
   "outputs": [],
   "source": [
    "print(f'    c = {c:6.3f}')\n",
    "print(f'c_est = {c_est:6.3f}')"
   ]
  },
  {
   "cell_type": "markdown",
   "id": "a8f9b05e",
   "metadata": {},
   "source": [
    "Plot the result."
   ]
  },
  {
   "cell_type": "code",
   "execution_count": null,
   "id": "6bddd6a2",
   "metadata": {},
   "outputs": [],
   "source": [
    "plt.figure(figsize=(8, 4))\n",
    "plt.plot(x, y, '.', markersize=12, label='raw data')\n",
    "plt.plot([-10, 10], [c_est * -10, c_est * 10], label='linear fit')\n",
    "plt.xlim(-10, 10)\n",
    "plt.xlabel('x')\n",
    "plt.ylim(-20, 20)\n",
    "plt.ylabel('y')\n",
    "plt.grid()\n",
    "plt.legend()"
   ]
  },
  {
   "cell_type": "markdown",
   "id": "e23cfe02",
   "metadata": {},
   "source": [
    "# 3. See an example of finite difference approximation"
   ]
  },
  {
   "cell_type": "markdown",
   "id": "6effb031",
   "metadata": {},
   "source": [
    "Create example data."
   ]
  },
  {
   "cell_type": "code",
   "execution_count": null,
   "id": "2375087a",
   "metadata": {},
   "outputs": [],
   "source": [
    "# time step\n",
    "dt = 0.01\n",
    "\n",
    "# array of t\n",
    "t = np.linspace(0., 5., 1 + int(5 / dt))\n",
    "\n",
    "# array of x(t)\n",
    "x = np.sin(t)\n",
    "\n",
    "# array of xdot(t)\n",
    "xdot = np.cos(t)"
   ]
  },
  {
   "cell_type": "markdown",
   "id": "ccc0b055",
   "metadata": {},
   "source": [
    "Estimate $\\dot{x}(t)$ by finite difference approximation.\n",
    "\n",
    "Remember that, if there are `n` elements in `x`, then:\n",
    "\n",
    "* `x[1:]` is the array `[x[1], x[2], ..., x[n-1]]`\n",
    "* `x[:-1]` is the array `[x[0], x[1], ..., x[n-2]]`\n",
    "\n",
    "So:\n",
    "\n",
    "* `x[1:] - x[:-1]` is the array `[x[1] - x[0], x[2] - x[1], ..., x[n-1] - x[n-2]]`"
   ]
  },
  {
   "cell_type": "code",
   "execution_count": null,
   "id": "28b65564",
   "metadata": {},
   "outputs": [],
   "source": [
    "xdot_est = (x[1:] - x[:-1]) / dt"
   ]
  },
  {
   "cell_type": "markdown",
   "id": "aad5e72c",
   "metadata": {},
   "source": [
    "Note that the length of `xdot_est` is one less than the length of `x`."
   ]
  },
  {
   "cell_type": "code",
   "execution_count": null,
   "id": "45526e43",
   "metadata": {},
   "outputs": [],
   "source": [
    "print(f'length of x is {len(x)}')\n",
    "print(f'length of xdot_est is {len(xdot_est)}')"
   ]
  },
  {
   "cell_type": "markdown",
   "id": "7c514813",
   "metadata": {},
   "source": [
    "For this reason, it is common to truncate the other data (in this case, `t`, `x`, and `xdot`), removing the last element of each array so it, too, has the same length as `xdot_est`."
   ]
  },
  {
   "cell_type": "code",
   "execution_count": null,
   "id": "8e5c9762",
   "metadata": {},
   "outputs": [],
   "source": [
    "t = t[:-1]\n",
    "x = x[:-1]\n",
    "xdot=xdot[:-1]"
   ]
  },
  {
   "cell_type": "markdown",
   "id": "7479aad5",
   "metadata": {},
   "source": [
    "Plot $x(t)$, the true value of $\\dot{x}(t)$, and our finite-difference estimate of $\\dot{x}(t)$. Note that, because `xdot_est` has one fewer element than `x` and `t`, we need to plot `xdot_est` versus `t[:-1]` (i.e., all but the last element of `t`) rather than versus `t`."
   ]
  },
  {
   "cell_type": "code",
   "execution_count": null,
   "id": "1a1ca8a8",
   "metadata": {},
   "outputs": [],
   "source": [
    "plt.figure(figsize=(8, 4))\n",
    "plt.plot(t, x, label='$x$')\n",
    "plt.plot(t, xdot, linewidth=2, label=r'$\\dot{x}$')\n",
    "plt.plot(t, xdot_est, '-.', linewidth=2, label=r'$\\dot{x}$ (estimate)')\n",
    "plt.legend(fontsize=16)\n",
    "plt.grid()\n",
    "plt.ylim(-1.5, 1.5)"
   ]
  },
  {
   "cell_type": "markdown",
   "id": "18ea8462",
   "metadata": {},
   "source": [
    "**Beware!** The finite difference approximation amplifies noise. Here is the result if we add a small amount of Gaussian noise to each sample of $x(t)$. Notice that $x(t)$ looks exactly the same as before, but the estimate of $\\dot{x}(t)$ looks very noise (100 times noisier than $x(t)$)."
   ]
  },
  {
   "cell_type": "code",
   "execution_count": null,
   "id": "7c97ba00",
   "metadata": {},
   "outputs": [],
   "source": [
    "# create noisy data\n",
    "x = np.sin(t) + 0.001 * rng.standard_normal(len(t))\n",
    "\n",
    "# recompute estimate of xdot\n",
    "xdot_est = (x[1:] - x[:-1]) / dt\n",
    "\n",
    "# trunace other data\n",
    "t = t[:-1]\n",
    "x = x[:-1]\n",
    "xdot=xdot[:-1]\n",
    "\n",
    "# plot result\n",
    "plt.figure(figsize=(8, 4))\n",
    "plt.plot(t, x, label=r'$x$')\n",
    "plt.plot(t, xdot, linewidth=2, label=r'$\\dot{x}$')\n",
    "plt.plot(t, xdot_est, '-.', linewidth=2, label=r'$\\dot{x}$ (estimate)')\n",
    "plt.legend(fontsize=16)\n",
    "plt.grid()\n",
    "plt.ylim(-1.5, 1.5)"
   ]
  }
 ],
 "metadata": {
  "kernelspec": {
   "display_name": "Python 3 (ipykernel)",
   "language": "python",
   "name": "python3"
  },
  "language_info": {
   "codemirror_mode": {
    "name": "ipython",
    "version": 3
   },
   "file_extension": ".py",
   "mimetype": "text/x-python",
   "name": "python",
   "nbconvert_exporter": "python",
   "pygments_lexer": "ipython3",
   "version": "3.12.4"
  }
 },
 "nbformat": 4,
 "nbformat_minor": 5
}
