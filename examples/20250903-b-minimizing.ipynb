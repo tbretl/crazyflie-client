{
 "cells": [
  {
   "cell_type": "markdown",
   "id": "298283e1",
   "metadata": {},
   "source": [
    "# Minimum and minimizer of a sampled function"
   ]
  },
  {
   "cell_type": "markdown",
   "id": "b4fec2e2",
   "metadata": {},
   "source": [
    "Do imports."
   ]
  },
  {
   "cell_type": "code",
   "execution_count": null,
   "id": "1bb778c0",
   "metadata": {},
   "outputs": [],
   "source": [
    "import numpy as np\n",
    "import matplotlib.pyplot as plt"
   ]
  },
  {
   "cell_type": "markdown",
   "id": "2dbc6b25",
   "metadata": {},
   "source": [
    "With a little bit of calculus, you could verify that the **minimizer** of\n",
    "\n",
    "$$ f(x) = \\left(x - 1\\right)^2 - 1 $$\n",
    "\n",
    "is\n",
    "\n",
    "$$ x^\\ast = 1 $$\n",
    "\n",
    "and that the **minimum** is\n",
    "\n",
    "$$ f(x^\\ast) = -1. $$\n",
    "\n",
    "Suppose we want to approximate these results by *sampling* the function and then finding the minimum and the minimizer of the sampled data. Here is one way to do that."
   ]
  },
  {
   "cell_type": "markdown",
   "id": "3734d39c",
   "metadata": {},
   "source": [
    "Sample values $\\{x_1, \\dotsc, x_n\\}$ of $x$ and compute $\\{f(x_1), \\dotsc, f(x_n)\\}$ at each sampled value."
   ]
  },
  {
   "cell_type": "code",
   "execution_count": null,
   "id": "6570c2cc",
   "metadata": {},
   "outputs": [],
   "source": [
    "# Range over which to sample\n",
    "x_bnds = [-5., 5.]\n",
    "\n",
    "# Resolution with which to sample\n",
    "x_res = 0.5\n",
    "\n",
    "# Number of points to sample (must be an integer that is large enough\n",
    "# so that consecutive points are no farther than the given resolution)\n",
    "n = int(1 + np.ceil((x_bnds[1] - x_bnds[0]) / x_res))\n",
    "\n",
    "# Array of sampled points\n",
    "x_sampled = np.linspace(x_bnds[0], x_bnds[1], n)\n",
    "\n",
    "# Value of function at sampled points\n",
    "f_of_x_sampled = (x_sampled - 1.)**2 - 1."
   ]
  },
  {
   "cell_type": "markdown",
   "id": "564d7ea4",
   "metadata": {},
   "source": [
    "Find the index $i$ that minimizes $f(x_i)$."
   ]
  },
  {
   "cell_type": "code",
   "execution_count": null,
   "id": "3fae369d",
   "metadata": {},
   "outputs": [],
   "source": [
    "i_min = np.argmin(f_of_x_sampled)"
   ]
  },
  {
   "cell_type": "markdown",
   "id": "b74df3f3",
   "metadata": {},
   "source": [
    "Find the minimum $f(x_i)$ and the minimizing $x_i$."
   ]
  },
  {
   "cell_type": "code",
   "execution_count": null,
   "id": "1d6e8543",
   "metadata": {},
   "outputs": [],
   "source": [
    "f_min = f_of_x_sampled[i_min]\n",
    "x_min = x_sampled[i_min]"
   ]
  },
  {
   "cell_type": "markdown",
   "id": "79fdeff7",
   "metadata": {},
   "source": [
    "Print results."
   ]
  },
  {
   "cell_type": "code",
   "execution_count": null,
   "id": "78a04d5a",
   "metadata": {},
   "outputs": [],
   "source": [
    "print(f'minimizer (x_min) = {x_min:10.4f}')\n",
    "print(f'  minimum (f_min) = {f_min:10.4f}')"
   ]
  },
  {
   "cell_type": "markdown",
   "id": "b052c795",
   "metadata": {},
   "source": [
    "Plot results."
   ]
  },
  {
   "cell_type": "code",
   "execution_count": null,
   "id": "4cc15423",
   "metadata": {},
   "outputs": [],
   "source": [
    "# Get \"ground truth\"\n",
    "x = np.linspace(-5., 5., 1000)\n",
    "f_of_x = (x - 1.)**2 - 1.\n",
    "\n",
    "# Create plot\n",
    "fig, ax = plt.subplots(1, 1, figsize=(6, 3))\n",
    "ax.plot(x, f_of_x, '-', linewidth=2, label='true data')\n",
    "ax.plot(x_sampled, f_of_x_sampled, '.', markersize=8, label='sampled data')\n",
    "ax.plot(1, -1, '.', markersize=24, color='C0', zorder=1.6)\n",
    "ax.plot(x_min, f_min, '.', markersize=20, color='C1', zorder=2)\n",
    "ax.grid()\n",
    "ax.legend()\n",
    "ax.set_xlabel('x')\n",
    "ax.set_ylabel('f(x)')\n",
    "ax.set_xlim(-5., 5.)\n",
    "ax.set_ylim(-5., 40.)\n",
    "plt.show()"
   ]
  },
  {
   "cell_type": "markdown",
   "id": "73dee181",
   "metadata": {},
   "source": [
    "**Be careful!** What happens to accuracy and to computation time if...\n",
    "\n",
    "* ...you change the sample range?\n",
    "* ...you change the sample resolution?\n",
    "\n",
    "Define a function that allows us to play around with these parameters."
   ]
  },
  {
   "cell_type": "code",
   "execution_count": null,
   "id": "96e4c478",
   "metadata": {},
   "outputs": [],
   "source": [
    "def minimize_sampled_function(x_bnds, x_res):\n",
    "    n = int(1 + np.ceil((x_bnds[1] - x_bnds[0]) / x_res))\n",
    "    x_sampled = np.linspace(x_bnds[0], x_bnds[1], n)\n",
    "    f_of_x_sampled = (x_sampled - 1.)**2 - 1.\n",
    "    i_min = np.argmin(f_of_x_sampled)\n",
    "    f_min = f_of_x_sampled[i_min]\n",
    "    x_min = x_sampled[i_min]\n",
    "\n",
    "    print(f'sampled {n} points\\n')\n",
    "    print(f'minimizer (x_min) = {x_min:10.4f}')\n",
    "    print(f'  minimum (f_min) = {f_min:10.4f}')\n",
    "\n",
    "    fig, ax = plt.subplots(1, 1, figsize=(6, 3))\n",
    "    ax.plot(x, f_of_x, '-', linewidth=2, label='true data')\n",
    "    ax.plot(x_sampled, f_of_x_sampled, '.', markersize=8, label='sampled data')\n",
    "    ax.plot(1, -1, '.', markersize=24, color='C0', zorder=1.6)\n",
    "    ax.plot(x_min, f_min, '.', markersize=20, color='C1', zorder=2)\n",
    "    ax.grid()\n",
    "    ax.legend()\n",
    "    ax.set_xlabel('x')\n",
    "    ax.set_ylabel('f(x)')\n",
    "    ax.set_xlim(-5., 5.)\n",
    "    ax.set_ylim(-5., 40.)\n",
    "    plt.show()"
   ]
  },
  {
   "cell_type": "markdown",
   "id": "db9edf83",
   "metadata": {},
   "source": [
    "Apply this function."
   ]
  },
  {
   "cell_type": "code",
   "execution_count": null,
   "id": "cd9a5bb9",
   "metadata": {},
   "outputs": [],
   "source": [
    "minimize_sampled_function([-5., 5.], 0.5)"
   ]
  }
 ],
 "metadata": {
  "kernelspec": {
   "display_name": "ae483",
   "language": "python",
   "name": "python3"
  },
  "language_info": {
   "codemirror_mode": {
    "name": "ipython",
    "version": 3
   },
   "file_extension": ".py",
   "mimetype": "text/x-python",
   "name": "python",
   "nbconvert_exporter": "python",
   "pygments_lexer": "ipython3",
   "version": "3.13.5"
  }
 },
 "nbformat": 4,
 "nbformat_minor": 5
}
