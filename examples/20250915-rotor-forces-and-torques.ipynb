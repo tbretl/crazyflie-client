{
 "cells": [
  {
   "cell_type": "markdown",
   "id": "f4233d19",
   "metadata": {},
   "source": [
    "# Rotor forces and torques (symbolic)"
   ]
  },
  {
   "cell_type": "markdown",
   "id": "80843289",
   "metadata": {},
   "source": [
    "## 1. Set up the notebook"
   ]
  },
  {
   "cell_type": "markdown",
   "id": "38bcc561",
   "metadata": {},
   "source": [
    "Do imports."
   ]
  },
  {
   "cell_type": "code",
   "execution_count": 1,
   "id": "294d9f2d",
   "metadata": {},
   "outputs": [],
   "source": [
    "import numpy as np\n",
    "import sympy as sym\n",
    "from IPython.display import display, Math"
   ]
  },
  {
   "cell_type": "markdown",
   "id": "78d876ec",
   "metadata": {},
   "source": [
    "## 2. Show how to take cross products with sympy"
   ]
  },
  {
   "cell_type": "markdown",
   "id": "a340d1a8",
   "metadata": {},
   "source": [
    "Suppose we want to take the cross product\n",
    "$ w \\times v $\n",
    "where $w$ and $v$ are described in coordinates as follows:\n",
    "\n",
    "$$w^B = \\begin{bmatrix} a \\\\ b \\\\ c \\end{bmatrix} \\qquad\\qquad v^B = \\begin{bmatrix} d \\\\ e \\\\ f \\end{bmatrix}.$$\n",
    "\n",
    "First, create symbolic variables."
   ]
  },
  {
   "cell_type": "code",
   "execution_count": 2,
   "id": "ac32c557",
   "metadata": {},
   "outputs": [],
   "source": [
    "a, b, c, d, e, f = sym.symbols('a, b, c, d, e, f')"
   ]
  },
  {
   "cell_type": "markdown",
   "id": "911d1c55",
   "metadata": {},
   "source": [
    "Second, create $w$ and $v$ as sympy matrices:"
   ]
  },
  {
   "cell_type": "code",
   "execution_count": 3,
   "id": "9a71300b",
   "metadata": {},
   "outputs": [],
   "source": [
    "w_inB = sym.Matrix([a, b, c])\n",
    "v_inB = sym.Matrix([d, e, f])"
   ]
  },
  {
   "cell_type": "markdown",
   "id": "622ffb67",
   "metadata": {},
   "source": [
    "Now, the easiest way to take the cross product is with [sympy.cross](https://docs.sympy.org/latest/modules/matrices/matrices.html#sympy.matrices.matrices.MatrixBase.cross)."
   ]
  },
  {
   "cell_type": "code",
   "execution_count": 4,
   "id": "e43d743b",
   "metadata": {},
   "outputs": [
    {
     "data": {
      "text/latex": [
       "$\\displaystyle \\left[\\begin{matrix}b f - c e\\\\- a f + c d\\\\a e - b d\\end{matrix}\\right]$"
      ],
      "text/plain": [
       "Matrix([\n",
       "[ b*f - c*e],\n",
       "[-a*f + c*d],\n",
       "[ a*e - b*d]])"
      ]
     },
     "execution_count": 4,
     "metadata": {},
     "output_type": "execute_result"
    }
   ],
   "source": [
    "w_inB.cross(v_inB)"
   ]
  },
  {
   "cell_type": "markdown",
   "id": "9a384265",
   "metadata": {},
   "source": [
    "An alternative is to use the wedge operator. If\n",
    "\n",
    "$$ w^B = \\begin{bmatrix} a \\\\ b \\\\ c \\end{bmatrix} $$\n",
    "\n",
    "then\n",
    "\n",
    "$$ \\widehat{w^B} = \\begin{bmatrix} 0 & -c & b \\\\ c & 0 & -a \\\\ -b & a & 0 \\end{bmatrix} $$\n",
    "\n",
    "and the cross product $w \\times v$ in the coordinates of frame $B$ can be found by matrix multiplication:\n",
    "\n",
    "$$ \\left( w \\times v \\right)^B = \\widehat{w^B} v^b. $$\n",
    "\n",
    "The \"wedge operator\" is the mapping from the column vector $w^B$ to the skew-symmetric matrix $\\widehat{w^B}$. The function [sympy.hat](https://docs.sympy.org/latest/modules/matrices/matrices.html#sympy.matrices.matrixbase.MatrixBase.hat) implements the wedge operator."
   ]
  },
  {
   "cell_type": "code",
   "execution_count": 5,
   "id": "643f66e7",
   "metadata": {},
   "outputs": [
    {
     "data": {
      "text/latex": [
       "$\\displaystyle \\left[\\begin{matrix}0 & - c & b\\\\c & 0 & - a\\\\- b & a & 0\\end{matrix}\\right]$"
      ],
      "text/plain": [
       "Matrix([\n",
       "[ 0, -c,  b],\n",
       "[ c,  0, -a],\n",
       "[-b,  a,  0]])"
      ]
     },
     "execution_count": 5,
     "metadata": {},
     "output_type": "execute_result"
    }
   ],
   "source": [
    "w_inB.hat()"
   ]
  },
  {
   "cell_type": "markdown",
   "id": "b15b64dc",
   "metadata": {},
   "source": [
    "Here is how we would use the wedge operator to take the same cross product as before."
   ]
  },
  {
   "cell_type": "code",
   "execution_count": 6,
   "id": "bec3cf26",
   "metadata": {},
   "outputs": [
    {
     "data": {
      "text/latex": [
       "$\\displaystyle \\left[\\begin{matrix}b f - c e\\\\- a f + c d\\\\a e - b d\\end{matrix}\\right]$"
      ],
      "text/plain": [
       "Matrix([\n",
       "[ b*f - c*e],\n",
       "[-a*f + c*d],\n",
       "[ a*e - b*d]])"
      ]
     },
     "execution_count": 6,
     "metadata": {},
     "output_type": "execute_result"
    }
   ],
   "source": [
    "w_inB.hat() @ v_inB"
   ]
  },
  {
   "cell_type": "markdown",
   "id": "4ec9f189",
   "metadata": {},
   "source": [
    "Make sure the result is the same."
   ]
  },
  {
   "cell_type": "code",
   "execution_count": 7,
   "id": "d186c3db",
   "metadata": {},
   "outputs": [],
   "source": [
    "assert(sym.simplify(w_inB.cross(v_inB) - w_inB.hat() @ v_inB) == sym.zeros(3, 1))"
   ]
  },
  {
   "cell_type": "markdown",
   "id": "7711dc82",
   "metadata": {},
   "source": [
    "## 3. Derive relationship between motor power commands and forces and torques"
   ]
  },
  {
   "cell_type": "markdown",
   "id": "a9f5d192",
   "metadata": {},
   "source": [
    "Define parameters as symbolic variables."
   ]
  },
  {
   "cell_type": "code",
   "execution_count": 8,
   "id": "3400e42e",
   "metadata": {},
   "outputs": [],
   "source": [
    "k_F, k_M, l = sym.symbols('k_F, k_M, l')"
   ]
  },
  {
   "cell_type": "markdown",
   "id": "72cab0f2",
   "metadata": {},
   "source": [
    "Define motor power commands as symbolic variables."
   ]
  },
  {
   "cell_type": "code",
   "execution_count": 9,
   "id": "12dad0fd",
   "metadata": {},
   "outputs": [],
   "source": [
    "m_1, m_2, m_3, m_4 = sym.symbols('m_1, m_2, m_3, m_4')"
   ]
  },
  {
   "cell_type": "markdown",
   "id": "882b47c2",
   "metadata": {},
   "source": [
    "Find net force and torque from the first motor."
   ]
  },
  {
   "cell_type": "code",
   "execution_count": 10,
   "id": "eeefe530",
   "metadata": {},
   "outputs": [],
   "source": [
    "# Net force\n",
    "f_inB_of1 = sym.Matrix([0, 0, k_F * m_1])\n",
    "\n",
    "# Point at which force is applied\n",
    "p_inB_of1 = sym.Matrix([l, -l, 0])\n",
    "\n",
    "# Net torque\n",
    "tau_inB_of1 = sym.Matrix([0, 0, -k_M * m_1]) + p_inB_of1.cross(f_inB_of1)"
   ]
  },
  {
   "cell_type": "markdown",
   "id": "bc25f220",
   "metadata": {},
   "source": [
    "Show the result."
   ]
  },
  {
   "cell_type": "code",
   "execution_count": 11,
   "id": "e6b6b1af",
   "metadata": {},
   "outputs": [
    {
     "name": "stdout",
     "output_type": "stream",
     "text": [
      "net force from rotor 1 (in the coordinates of frame B):\n"
     ]
    },
    {
     "data": {
      "text/latex": [
       "$\\displaystyle \\left[\\begin{matrix}0\\\\0\\\\k_{F} m_{1}\\end{matrix}\\right]$"
      ],
      "text/plain": [
       "Matrix([\n",
       "[      0],\n",
       "[      0],\n",
       "[k_F*m_1]])"
      ]
     },
     "metadata": {},
     "output_type": "display_data"
    },
    {
     "name": "stdout",
     "output_type": "stream",
     "text": [
      "net torque from rotor 1  (in the coordinates of frame B):\n"
     ]
    },
    {
     "data": {
      "text/latex": [
       "$\\displaystyle \\left[\\begin{matrix}- k_{F} l m_{1}\\\\- k_{F} l m_{1}\\\\- k_{M} m_{1}\\end{matrix}\\right]$"
      ],
      "text/plain": [
       "Matrix([\n",
       "[-k_F*l*m_1],\n",
       "[-k_F*l*m_1],\n",
       "[  -k_M*m_1]])"
      ]
     },
     "metadata": {},
     "output_type": "display_data"
    }
   ],
   "source": [
    "print('net force from rotor 1 (in the coordinates of frame B):')\n",
    "display(f_inB_of1)\n",
    "print('net torque from rotor 1  (in the coordinates of frame B):')\n",
    "display(tau_inB_of1)"
   ]
  },
  {
   "cell_type": "markdown",
   "id": "ba7169ef",
   "metadata": {},
   "source": [
    "Find net force and torque from all other motors."
   ]
  },
  {
   "cell_type": "code",
   "execution_count": 12,
   "id": "442f0327",
   "metadata": {},
   "outputs": [],
   "source": [
    "# Motor 2\n",
    "f_inB_of2 = sym.Matrix([0, 0, k_F * m_2])\n",
    "p_inB_of2 = sym.Matrix([-l, -l, 0])\n",
    "tau_inB_of2 = sym.Matrix([0, 0, k_M * m_2]) + p_inB_of2.cross(f_inB_of2)\n",
    "\n",
    "# Motor 3\n",
    "f_inB_of3 = sym.Matrix([0, 0, k_F * m_3])\n",
    "p_inB_of3 = sym.Matrix([-l, l, 0])\n",
    "tau_inB_of3 = sym.Matrix([0, 0, -k_M * m_3]) + p_inB_of3.cross(f_inB_of3)\n",
    "\n",
    "# Motor 4\n",
    "f_inB_of4 = sym.Matrix([0, 0, k_F * m_4])\n",
    "p_inB_of4 = sym.Matrix([l, l, 0])\n",
    "tau_inB_of4 = sym.Matrix([0, 0, k_M * m_4]) + p_inB_of4.cross(f_inB_of4)"
   ]
  },
  {
   "cell_type": "markdown",
   "id": "cbcc221c",
   "metadata": {},
   "source": [
    "Find total force and torque from all motors."
   ]
  },
  {
   "cell_type": "code",
   "execution_count": 13,
   "id": "b81f5467",
   "metadata": {},
   "outputs": [],
   "source": [
    "f_inB_ofRotors = f_inB_of1 + f_inB_of2 + f_inB_of3 + f_inB_of4\n",
    "tau_inB_ofRotors = tau_inB_of1 + tau_inB_of2 + tau_inB_of3 + tau_inB_of4"
   ]
  },
  {
   "cell_type": "markdown",
   "id": "acbfe124",
   "metadata": {},
   "source": [
    "Show the result."
   ]
  },
  {
   "cell_type": "code",
   "execution_count": 14,
   "id": "61995828",
   "metadata": {},
   "outputs": [
    {
     "name": "stdout",
     "output_type": "stream",
     "text": [
      "net force from all rotors (in the coordinates of frame B):\n"
     ]
    },
    {
     "data": {
      "text/latex": [
       "$\\displaystyle \\left[\\begin{matrix}0\\\\0\\\\k_{F} m_{1} + k_{F} m_{2} + k_{F} m_{3} + k_{F} m_{4}\\end{matrix}\\right]$"
      ],
      "text/plain": [
       "Matrix([\n",
       "[                                    0],\n",
       "[                                    0],\n",
       "[k_F*m_1 + k_F*m_2 + k_F*m_3 + k_F*m_4]])"
      ]
     },
     "metadata": {},
     "output_type": "display_data"
    },
    {
     "name": "stdout",
     "output_type": "stream",
     "text": [
      "net torque from all rotors  (in the coordinates of frame B):\n"
     ]
    },
    {
     "data": {
      "text/latex": [
       "$\\displaystyle \\left[\\begin{matrix}- k_{F} l m_{1} - k_{F} l m_{2} + k_{F} l m_{3} + k_{F} l m_{4}\\\\- k_{F} l m_{1} + k_{F} l m_{2} + k_{F} l m_{3} - k_{F} l m_{4}\\\\- k_{M} m_{1} + k_{M} m_{2} - k_{M} m_{3} + k_{M} m_{4}\\end{matrix}\\right]$"
      ],
      "text/plain": [
       "Matrix([\n",
       "[-k_F*l*m_1 - k_F*l*m_2 + k_F*l*m_3 + k_F*l*m_4],\n",
       "[-k_F*l*m_1 + k_F*l*m_2 + k_F*l*m_3 - k_F*l*m_4],\n",
       "[        -k_M*m_1 + k_M*m_2 - k_M*m_3 + k_M*m_4]])"
      ]
     },
     "metadata": {},
     "output_type": "display_data"
    }
   ],
   "source": [
    "print('net force from all rotors (in the coordinates of frame B):')\n",
    "display(f_inB_ofRotors)\n",
    "print('net torque from all rotors  (in the coordinates of frame B):')\n",
    "display(tau_inB_ofRotors)"
   ]
  },
  {
   "cell_type": "markdown",
   "id": "c052d4c9",
   "metadata": {},
   "source": [
    "Define the matrix $P$ that maps motor power commands to net forces and torques:\n",
    "\n",
    "$$\n",
    "\\begin{bmatrix} \\tau_x \\\\ \\tau_y \\\\ \\tau_z \\\\ f_z \\end{bmatrix}\n",
    "=\n",
    "P\n",
    "\\begin{bmatrix} m_1 \\\\ m_2 \\\\ m_3 \\\\ m_4 \\end{bmatrix}.\n",
    "$$"
   ]
  },
  {
   "cell_type": "code",
   "execution_count": 15,
   "id": "e87ee3e1",
   "metadata": {},
   "outputs": [],
   "source": [
    "P = sym.Matrix([\n",
    "    [tau_inB_ofRotors[0].coeff(a) for a in [m_1, m_2, m_3, m_4]],\n",
    "    [tau_inB_ofRotors[1].coeff(a) for a in [m_1, m_2, m_3, m_4]],\n",
    "    [tau_inB_ofRotors[2].coeff(a) for a in [m_1, m_2, m_3, m_4]],\n",
    "    [f_inB_ofRotors[2].coeff(a) for a in [m_1, m_2, m_3, m_4]],\n",
    "])"
   ]
  },
  {
   "cell_type": "markdown",
   "id": "26ca442b",
   "metadata": {},
   "source": [
    "Show the result."
   ]
  },
  {
   "cell_type": "code",
   "execution_count": 25,
   "id": "5904bf34",
   "metadata": {},
   "outputs": [
    {
     "data": {
      "text/latex": [
       "$\\displaystyle P=\\left[\\begin{matrix}- k_{F} l & - k_{F} l & k_{F} l & k_{F} l\\\\- k_{F} l & k_{F} l & k_{F} l & - k_{F} l\\\\- k_{M} & k_{M} & - k_{M} & k_{M}\\\\k_{F} & k_{F} & k_{F} & k_{F}\\end{matrix}\\right]$"
      ],
      "text/plain": [
       "<IPython.core.display.Math object>"
      ]
     },
     "metadata": {},
     "output_type": "display_data"
    }
   ],
   "source": [
    "display(Math(r'P=' + sym.latex(P)))"
   ]
  },
  {
   "cell_type": "markdown",
   "id": "cc043efe",
   "metadata": {},
   "source": [
    "Find the matrix $P^{-1}$ that maps net forces and torques to motor power commands:\n",
    "\n",
    "$$\n",
    "\\begin{bmatrix} m_1 \\\\ m_2 \\\\ m_3 \\\\ m_4 \\end{bmatrix}\n",
    "=\n",
    "P^{-1}\n",
    "\\begin{bmatrix} \\tau_x \\\\ \\tau_y \\\\ \\tau_z \\\\ f_z \\end{bmatrix}.\n",
    "$$"
   ]
  },
  {
   "cell_type": "code",
   "execution_count": 17,
   "id": "da702719",
   "metadata": {},
   "outputs": [],
   "source": [
    "Pinv = P.inv()"
   ]
  },
  {
   "cell_type": "markdown",
   "id": "bac9fef4",
   "metadata": {},
   "source": [
    "Show the result."
   ]
  },
  {
   "cell_type": "code",
   "execution_count": 26,
   "id": "f49933f6",
   "metadata": {},
   "outputs": [
    {
     "data": {
      "text/latex": [
       "$\\displaystyle P^{-1}=\\left[\\begin{matrix}- \\frac{1}{4 k_{F} l} & - \\frac{1}{4 k_{F} l} & - \\frac{1}{4 k_{M}} & \\frac{1}{4 k_{F}}\\\\- \\frac{1}{4 k_{F} l} & \\frac{1}{4 k_{F} l} & \\frac{1}{4 k_{M}} & \\frac{1}{4 k_{F}}\\\\\\frac{1}{4 k_{F} l} & \\frac{1}{4 k_{F} l} & - \\frac{1}{4 k_{M}} & \\frac{1}{4 k_{F}}\\\\\\frac{1}{4 k_{F} l} & - \\frac{1}{4 k_{F} l} & \\frac{1}{4 k_{M}} & \\frac{1}{4 k_{F}}\\end{matrix}\\right]$"
      ],
      "text/plain": [
       "<IPython.core.display.Math object>"
      ]
     },
     "metadata": {},
     "output_type": "display_data"
    }
   ],
   "source": [
    "display(Math(r'P^{-1}=' + sym.latex(Pinv)))"
   ]
  },
  {
   "cell_type": "markdown",
   "id": "f09b0a02",
   "metadata": {},
   "source": [
    "Show the result again in a way that is easier to read."
   ]
  },
  {
   "cell_type": "code",
   "execution_count": 24,
   "id": "714c563e",
   "metadata": {},
   "outputs": [
    {
     "data": {
      "text/latex": [
       "$\\displaystyle P^{-1}=\\begin{bmatrix}- \\dfrac{1}{4 k_{F} l} & - \\dfrac{1}{4 k_{F} l} & - \\dfrac{1}{4 k_{M}} & \\dfrac{1}{4 k_{F}}\\\\[1.5em]- \\dfrac{1}{4 k_{F} l} & \\dfrac{1}{4 k_{F} l} & \\dfrac{1}{4 k_{M}} & \\dfrac{1}{4 k_{F}}\\\\[1.5em]\\dfrac{1}{4 k_{F} l} & \\dfrac{1}{4 k_{F} l} & - \\dfrac{1}{4 k_{M}} & \\dfrac{1}{4 k_{F}}\\\\[1.5em]\\dfrac{1}{4 k_{F} l} & - \\dfrac{1}{4 k_{F} l} & \\dfrac{1}{4 k_{M}} & \\dfrac{1}{4 k_{F}}\\end{bmatrix}$"
      ],
      "text/plain": [
       "<IPython.core.display.Math object>"
      ]
     },
     "metadata": {},
     "output_type": "display_data"
    }
   ],
   "source": [
    "display(Math(r'P^{-1}=' + sym.latex(Pinv, mat_str='bmatrix', mat_delim='').replace('frac', 'dfrac').replace('\\\\\\\\', '\\\\\\\\[1.5em]')))"
   ]
  }
 ],
 "metadata": {
  "kernelspec": {
   "display_name": "ae483",
   "language": "python",
   "name": "python3"
  },
  "language_info": {
   "codemirror_mode": {
    "name": "ipython",
    "version": 3
   },
   "file_extension": ".py",
   "mimetype": "text/x-python",
   "name": "python",
   "nbconvert_exporter": "python",
   "pygments_lexer": "ipython3",
   "version": "3.13.5"
  }
 },
 "nbformat": 4,
 "nbformat_minor": 5
}
