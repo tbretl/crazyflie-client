{
 "cells": [
  {
   "cell_type": "markdown",
   "id": "298283e1",
   "metadata": {},
   "source": [
    "# Average of sampled data"
   ]
  },
  {
   "cell_type": "markdown",
   "id": "b4fec2e2",
   "metadata": {},
   "source": [
    "Do imports."
   ]
  },
  {
   "cell_type": "code",
   "execution_count": null,
   "id": "1bb778c0",
   "metadata": {},
   "outputs": [],
   "source": [
    "import numpy as np\n",
    "import matplotlib.pyplot as plt"
   ]
  },
  {
   "cell_type": "markdown",
   "id": "a8d62167",
   "metadata": {},
   "source": [
    "Create a random number generator (used to generate example data)."
   ]
  },
  {
   "cell_type": "code",
   "execution_count": null,
   "id": "95472964",
   "metadata": {},
   "outputs": [],
   "source": [
    "rng = np.random.default_rng()"
   ]
  },
  {
   "cell_type": "markdown",
   "id": "3f2783b4",
   "metadata": {},
   "source": [
    "Create example data."
   ]
  },
  {
   "cell_type": "code",
   "execution_count": null,
   "id": "60349b81",
   "metadata": {},
   "outputs": [],
   "source": [
    "# Choose number of data points\n",
    "n = 100\n",
    "\n",
    "# Choose mean and standard deviation of data points\n",
    "mu_z = 1.2\n",
    "std_z = 0.1\n",
    "\n",
    "# Sample the chosen number of data points from a normal\n",
    "# distribution with chosen mean and standard deviation\n",
    "z = rng.normal(loc=mu_z, scale=std_z, size=n)"
   ]
  },
  {
   "cell_type": "markdown",
   "id": "27fd3b98",
   "metadata": {},
   "source": [
    "Find the mean (i.e., the average) of the sampled data."
   ]
  },
  {
   "cell_type": "code",
   "execution_count": null,
   "id": "db39b780",
   "metadata": {},
   "outputs": [],
   "source": [
    "mean_of_z = np.mean(z)"
   ]
  },
  {
   "cell_type": "markdown",
   "id": "ebda3b43",
   "metadata": {},
   "source": [
    "Compare the mean that we computed to the mean that was used to generate the data."
   ]
  },
  {
   "cell_type": "code",
   "execution_count": null,
   "id": "d6934482",
   "metadata": {},
   "outputs": [],
   "source": [
    "print(f'     mu_z = {mu_z:10.4f}')\n",
    "print(f'mean_of_z = {mean_of_z:10.4f}')"
   ]
  },
  {
   "cell_type": "markdown",
   "id": "7085969f",
   "metadata": {},
   "source": [
    "Plot a histogram of the data."
   ]
  },
  {
   "cell_type": "code",
   "execution_count": null,
   "id": "51fb690d",
   "metadata": {},
   "outputs": [],
   "source": [
    "fig, ax = plt.subplots(1, 1, figsize=(6, 3))\n",
    "ax.hist(z, bins=np.linspace(mu_z - 10 * std_z, mu_z + 10 * std_z, 33))\n",
    "ax.plot([mean_of_z, mean_of_z], [0, n], '--', label='mean')\n",
    "ax.grid()\n",
    "ax.legend()\n",
    "ax.set_ylim(0, 0.4 * n)\n",
    "ax.set_xlabel('z')\n",
    "ax.set_ylabel('count')\n",
    "plt.show()"
   ]
  },
  {
   "cell_type": "markdown",
   "id": "d4b04aca",
   "metadata": {},
   "source": [
    "**Be careful!** Even one \"outlier\" — i.e., one data point that is very different from the others — can change the mean a lot."
   ]
  },
  {
   "cell_type": "code",
   "execution_count": null,
   "id": "76d05891",
   "metadata": {},
   "outputs": [],
   "source": [
    "# Add one outlier to the dataset\n",
    "z_with_outlier = np.append(z, mu_z + (100. * std_z))\n",
    "\n",
    "# Find the mean of the dataset with this outlier\n",
    "mean_of_z_with_outlier = np.mean(z_with_outlier)\n",
    "\n",
    "# Print the result\n",
    "print(f'                  mu_z = {mu_z:10.4f}')\n",
    "print(f'             mean_of_z = {mean_of_z:10.4f}')\n",
    "print(f'mean_of_z_with_outlier = {mean_of_z_with_outlier:10.4f}')"
   ]
  },
  {
   "cell_type": "markdown",
   "id": "21c52f40",
   "metadata": {},
   "source": [
    "Plot a histogram. (The outlier doesn't even show up in this plot!)"
   ]
  },
  {
   "cell_type": "code",
   "execution_count": null,
   "id": "09b404a4",
   "metadata": {},
   "outputs": [],
   "source": [
    "fig, ax = plt.subplots(1, 1, figsize=(6, 3))\n",
    "ax.hist(z_with_outlier, bins=np.linspace(mu_z - 10 * std_z, mu_z + 10 * std_z, 33))\n",
    "ax.plot([mean_of_z, mean_of_z], [0, n], '--', label='mean')\n",
    "ax.plot([mean_of_z_with_outlier, mean_of_z_with_outlier], [0, n], '-.', linewidth=2, label='mean with outlier')\n",
    "ax.grid()\n",
    "ax.legend()\n",
    "ax.set_ylim(0, 0.4 * n)\n",
    "ax.set_xlabel('z')\n",
    "ax.set_ylabel('count')\n",
    "plt.show()"
   ]
  },
  {
   "cell_type": "markdown",
   "id": "f507af0b",
   "metadata": {},
   "source": [
    "One way to lessen the impact of outliers is to remove them, for example by using a \"trimmed mean.\""
   ]
  },
  {
   "cell_type": "code",
   "execution_count": null,
   "id": "75159345",
   "metadata": {},
   "outputs": [],
   "source": [
    "# Choose percent of data to exclude at each end of the distribution\n",
    "percent_to_trim = 5\n",
    "\n",
    "# Convert from percent to number of data points\n",
    "number_to_trim = np.ceil(len(z_with_outlier) * (percent_to_trim / 100)).astype(int)\n",
    "print(f'We will exclude {number_to_trim} of the smallest values and {number_to_trim} of the largest values:\\n')\n",
    "\n",
    "# Get trimmed dataset (sort by value and then truncate)\n",
    "z_trimmed = np.sort(z_with_outlier)[number_to_trim:-number_to_trim]\n",
    "print(f' length of original dataset: {len(z_with_outlier)}')\n",
    "print(f'  length of trimmed dataset: {len(z_trimmed)}\\n')\n",
    "\n",
    "# Get mean of trimmed dataset\n",
    "mean_of_z_trimmed = np.mean(z_trimmed)\n",
    "\n",
    "# Print the result\n",
    "print(f'                  mu_z = {mu_z:10.4f}')\n",
    "print(f'             mean_of_z = {mean_of_z:10.4f}')\n",
    "print(f'mean_of_z_with_outlier = {mean_of_z_with_outlier:10.4f}')\n",
    "print(f'     mean_of_z_trimmed = {mean_of_z_trimmed:10.4f}')"
   ]
  },
  {
   "cell_type": "markdown",
   "id": "fdfd886c",
   "metadata": {},
   "source": [
    "Plot a histogram."
   ]
  },
  {
   "cell_type": "code",
   "execution_count": null,
   "id": "a835b6b5",
   "metadata": {},
   "outputs": [],
   "source": [
    "fig, ax = plt.subplots(1, 1, figsize=(6, 3))\n",
    "ax.hist(z_with_outlier, bins=np.linspace(mu_z - 10 * std_z, mu_z + 10 * std_z, 33))\n",
    "ax.plot([mean_of_z, mean_of_z], [0, n], '--', label='mean')\n",
    "ax.plot([mean_of_z_with_outlier, mean_of_z_with_outlier], [0, n], '-.', linewidth=2, label='mean with outlier')\n",
    "ax.plot([mean_of_z_trimmed, mean_of_z_trimmed], [0, n], '-.', linewidth=2, label='mean with outlier (trimmed)')\n",
    "ax.grid()\n",
    "ax.legend()\n",
    "ax.set_ylim(0, 0.4 * n)\n",
    "ax.set_xlabel('z')\n",
    "ax.set_ylabel('count')\n",
    "plt.show()"
   ]
  },
  {
   "cell_type": "markdown",
   "id": "b90b0d95",
   "metadata": {},
   "source": [
    "The \"trimmed mean\" is only one example of a *robust mean* (or, more generally, a robust estimator). There are many other approaches, e.g., M-estimators, Huber regressors, RANSAC, bootstrapping, etc."
   ]
  }
 ],
 "metadata": {
  "kernelspec": {
   "display_name": "ae483",
   "language": "python",
   "name": "python3"
  },
  "language_info": {
   "codemirror_mode": {
    "name": "ipython",
    "version": 3
   },
   "file_extension": ".py",
   "mimetype": "text/x-python",
   "name": "python",
   "nbconvert_exporter": "python",
   "pygments_lexer": "ipython3",
   "version": "3.13.5"
  }
 },
 "nbformat": 4,
 "nbformat_minor": 5
}
