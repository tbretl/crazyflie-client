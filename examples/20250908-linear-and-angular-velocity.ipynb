{
 "cells": [
  {
   "cell_type": "markdown",
   "id": "bd7091b7",
   "metadata": {},
   "source": [
    "# Linear and angular velocity"
   ]
  },
  {
   "cell_type": "markdown",
   "id": "7cfbcfb6",
   "metadata": {},
   "source": [
    "Do imports."
   ]
  },
  {
   "cell_type": "code",
   "execution_count": null,
   "id": "294d9f2d",
   "metadata": {},
   "outputs": [],
   "source": [
    "import numpy as np\n",
    "from scipy.spatial.transform import Rotation\n",
    "import sympy as sym\n",
    "import matplotlib.pyplot as plt"
   ]
  },
  {
   "cell_type": "markdown",
   "id": "b969275c",
   "metadata": {},
   "source": [
    "Define symbolic variables."
   ]
  },
  {
   "cell_type": "code",
   "execution_count": null,
   "id": "fcea1a70",
   "metadata": {},
   "outputs": [],
   "source": [
    "# Yaw, pitch, roll angles\n",
    "psi, theta, phi = sym.symbols('psi, theta, phi')\n",
    "\n",
    "# Components of linear velocity\n",
    "v_x, v_y, v_z = sym.symbols('v_x, v_y, v_z')\n",
    "\n",
    "# Linear velocity\n",
    "v_inB_ofWB = sym.Matrix([v_x, v_y, v_z])\n",
    "\n",
    "# Components of angular velocity\n",
    "w_x, w_y, w_z = sym.symbols('w_x, w_y, w_z')\n",
    "\n",
    "# Angular velocity\n",
    "w_inB_ofWB = sym.Matrix([w_x, w_y, w_z])"
   ]
  },
  {
   "cell_type": "markdown",
   "id": "6ae10ffa",
   "metadata": {},
   "source": [
    "## The relationship between linear velocity and the time-derivative of position"
   ]
  },
  {
   "cell_type": "markdown",
   "id": "cc3d17a6",
   "metadata": {},
   "source": [
    "Recall that\n",
    "\n",
    "$$ \\dot{p}^W_B = R^W_B v^B_{W, B}. $$\n",
    "\n",
    "The linear velocity is $v^B_{W, B}$ and the time-derivative of position is $\\dot{p}^W_B$. Here is how to derive a symbolic expression for both the rotation matrix $R^W_B$ and the entire right-hand side $R^W_B v^B_{W, B}$ of these three ordinary differential equations."
   ]
  },
  {
   "cell_type": "markdown",
   "id": "3c8fa6b3",
   "metadata": {},
   "source": [
    "Define individual rotation matrices."
   ]
  },
  {
   "cell_type": "code",
   "execution_count": null,
   "id": "03bedd42",
   "metadata": {},
   "outputs": [],
   "source": [
    "# Rotation about z by yaw angle\n",
    "Rz = sym.Matrix([[sym.cos(psi), -sym.sin(psi), 0],\n",
    "                 [sym.sin(psi), sym.cos(psi), 0],\n",
    "                 [0, 0, 1]])\n",
    "\n",
    "# Rotation about y by pitch angle\n",
    "Ry = sym.Matrix([[sym.cos(theta), 0, sym.sin(theta)],\n",
    "                 [0, 1, 0],\n",
    "                 [-sym.sin(theta), 0, sym.cos(theta)]])\n",
    "\n",
    "# Rotation about x by roll angle\n",
    "Rx = sym.Matrix([[1, 0, 0],\n",
    "                 [0, sym.cos(phi), -sym.sin(phi)],\n",
    "                 [0, sym.sin(phi), sym.cos(phi)]])"
   ]
  },
  {
   "cell_type": "markdown",
   "id": "c4b08aa6",
   "metadata": {},
   "source": [
    "Apply sequential transformation to compute the rotation matrix that describes the orientation $R^W_B$ of the drone."
   ]
  },
  {
   "cell_type": "code",
   "execution_count": null,
   "id": "ae45826c",
   "metadata": {},
   "outputs": [],
   "source": [
    "R_inW_ofB = Rz @ Ry @ Rx"
   ]
  },
  {
   "cell_type": "markdown",
   "id": "909fdd82",
   "metadata": {},
   "source": [
    "Confirm that this rotation matrix is consistent with what we have computed before."
   ]
  },
  {
   "cell_type": "code",
   "execution_count": null,
   "id": "34b8579c",
   "metadata": {},
   "outputs": [],
   "source": [
    "# Create a function that returns R_inW_ofB as a numpy array\n",
    "get_R_inW_ofB = sym.lambdify((psi, theta, phi), R_inW_ofB)\n",
    "\n",
    "# Check that this function returns the same result as the Rotation package\n",
    "assert(np.allclose(\n",
    "    get_R_inW_ofB(0.1, 0.2, 0.3),\n",
    "    Rotation.from_euler('ZYX', [0.1, 0.2, 0.3]).as_matrix(),\n",
    "))"
   ]
  },
  {
   "cell_type": "markdown",
   "id": "f384a7a5",
   "metadata": {},
   "source": [
    "Show $R^W_B$."
   ]
  },
  {
   "cell_type": "code",
   "execution_count": null,
   "id": "3518dc28",
   "metadata": {},
   "outputs": [],
   "source": [
    "R_inW_ofB"
   ]
  },
  {
   "cell_type": "markdown",
   "id": "ce19a8b0",
   "metadata": {},
   "source": [
    "Show $R^W_B v^B_{W, B}$."
   ]
  },
  {
   "cell_type": "code",
   "execution_count": null,
   "id": "7b5ff9ef",
   "metadata": {},
   "outputs": [],
   "source": [
    "R_inW_ofB @ v_inB_ofWB"
   ]
  },
  {
   "cell_type": "markdown",
   "id": "5ee86822",
   "metadata": {},
   "source": [
    "Do an example of finding the time derivative of position from linear velocity."
   ]
  },
  {
   "cell_type": "code",
   "execution_count": null,
   "id": "64227d74",
   "metadata": {},
   "outputs": [],
   "source": [
    "# Specify angles and linear velocity\n",
    "data = {\n",
    "    'psi': 0.1,\n",
    "    'theta': 0.2,\n",
    "    'phi': 0.,\n",
    "    'v_inB_ofWB': np.array([1., 0., 0.]),\n",
    "}\n",
    "\n",
    "# Find the time derivative of position for given angles and linear velocity\n",
    "p_inW_ofB_dot = get_R_inW_ofB(data['psi'], data['theta'], data['phi']) @ data['v_inB_ofWB']\n",
    "\n",
    "# Show results\n",
    "np.set_printoptions(precision=3, suppress=True, formatter={'float': lambda x: f'{x:8.3f}'})\n",
    "print(f'            LINEAR VELOCITY: {data['v_inB_ofWB']}')\n",
    "print(f'TIME DERIVATIVE OF POSITION: {p_inW_ofB_dot}')"
   ]
  },
  {
   "cell_type": "markdown",
   "id": "06425734",
   "metadata": {},
   "source": [
    "Some questions to consider:\n",
    "* What happens when the angles are zero?\n",
    "* What happens when the angles are close to zero?\n",
    "* What happens when the angles are far from zero?"
   ]
  },
  {
   "cell_type": "markdown",
   "id": "32aa6f6a",
   "metadata": {},
   "source": [
    "## The relationship between angular velocity and angular rates"
   ]
  },
  {
   "cell_type": "markdown",
   "id": "1233e93f",
   "metadata": {},
   "source": [
    "Recall that\n",
    "\n",
    "$$\\begin{bmatrix} \\dot{\\psi} \\\\ \\dot{\\theta} \\\\ \\dot{\\phi} \\end{bmatrix} = N w^W_{W, B}$$\n",
    "\n",
    "for some matrix $N$. Here is how to compute a symbolic expression for both $N$ and the entire right-hand side of these three ordinary differential equations.  First, we compute $N^{-1}$."
   ]
  },
  {
   "cell_type": "code",
   "execution_count": null,
   "id": "c528e6de",
   "metadata": {},
   "outputs": [],
   "source": [
    "Ninv = sym.Matrix.hstack((Ry @ Rx).T @ sym.Matrix([0, 0, 1]),\n",
    "                              (Rx).T @ sym.Matrix([0, 1, 0]),\n",
    "                                       sym.Matrix([1, 0, 0]))"
   ]
  },
  {
   "cell_type": "markdown",
   "id": "2a5b5b46",
   "metadata": {},
   "source": [
    "Then, we compute $N$ by taking the inverse of $N^{-1}$."
   ]
  },
  {
   "cell_type": "code",
   "execution_count": null,
   "id": "ca112e71",
   "metadata": {},
   "outputs": [],
   "source": [
    "N = sym.simplify(Ninv.inv())"
   ]
  },
  {
   "cell_type": "markdown",
   "id": "e8db0283",
   "metadata": {},
   "source": [
    "Show $N$."
   ]
  },
  {
   "cell_type": "code",
   "execution_count": null,
   "id": "e23a8329",
   "metadata": {},
   "outputs": [],
   "source": [
    "N"
   ]
  },
  {
   "cell_type": "markdown",
   "id": "4a2ab52c",
   "metadata": {},
   "source": [
    "Show $N$ again in a way that looks a little nicer and is easier to interpret."
   ]
  },
  {
   "cell_type": "code",
   "execution_count": null,
   "id": "e8e813cc",
   "metadata": {},
   "outputs": [],
   "source": [
    "# Import a function that converts tan to sin / cos\n",
    "from sympy.simplify.fu import TR2\n",
    "\n",
    "# Import functions that render latex\n",
    "from IPython.display import display, Math\n",
    "\n",
    "# Show N, using \"/\" instead of \"\\frac\" for fractions\n",
    "display(Math(sym.latex(TR2(N), fold_short_frac=True)))"
   ]
  },
  {
   "cell_type": "markdown",
   "id": "45c477ef",
   "metadata": {},
   "source": [
    "Show $N w^B_{W, B}$."
   ]
  },
  {
   "cell_type": "code",
   "execution_count": null,
   "id": "f1420417",
   "metadata": {},
   "outputs": [],
   "source": [
    "display(Math(sym.latex(TR2(N @ w_inB_ofWB), fold_short_frac=True)))"
   ]
  },
  {
   "cell_type": "markdown",
   "id": "b1147730",
   "metadata": {},
   "source": [
    "Create a function that returns $N$ as a numpy array."
   ]
  },
  {
   "cell_type": "code",
   "execution_count": null,
   "id": "82621310",
   "metadata": {},
   "outputs": [],
   "source": [
    "get_N = sym.lambdify((psi, theta, phi), N)"
   ]
  },
  {
   "cell_type": "markdown",
   "id": "db18cc6b",
   "metadata": {},
   "source": [
    "Do an example of finding angular rates from angular velocity."
   ]
  },
  {
   "cell_type": "code",
   "execution_count": null,
   "id": "c8176b69",
   "metadata": {},
   "outputs": [],
   "source": [
    "# Specify angles and angular velocity\n",
    "data = {\n",
    "    'psi': 0.,\n",
    "    'theta': 0.,\n",
    "    'phi': 0.,\n",
    "    'w_inB_ofWB': np.array([0., 0., 1.]),\n",
    "}\n",
    "\n",
    "# Find angular rates for given angles and angular velocity\n",
    "psi_dot, theta_dot, phi_dot = get_N(data['psi'], data['theta'], data['phi']) @ data['w_inB_ofWB']\n",
    "\n",
    "# Show results\n",
    "np.set_printoptions(precision=3, suppress=True, formatter={'float': lambda x: f'{x:8.3f}'})\n",
    "print(f'ANGULAR VELOCITY: {data['w_inB_ofWB']}')\n",
    "print(f'   ANGULAR RATES:   {psi_dot:7.3f}, {theta_dot:7.3f}, {phi_dot:7.3f}')"
   ]
  },
  {
   "cell_type": "markdown",
   "id": "1b310a61",
   "metadata": {},
   "source": [
    "Some questions to consider:\n",
    "* What happens when the angles are zero?\n",
    "* What happens when the angles are close to zero?\n",
    "* What happens when the angles are far from zero?\n",
    "* What happens, in particular, when the pitch angle is close to $\\pm \\pi / 2$?"
   ]
  },
  {
   "cell_type": "markdown",
   "id": "a40c9c79",
   "metadata": {},
   "source": [
    "## Path followed for constant linear velocity and angular velocity"
   ]
  },
  {
   "cell_type": "markdown",
   "id": "a71e6985",
   "metadata": {},
   "source": [
    "Import the function that allows us to solve ODEs."
   ]
  },
  {
   "cell_type": "code",
   "execution_count": null,
   "id": "8ac4db5d",
   "metadata": {},
   "outputs": [],
   "source": [
    "from scipy.integrate import solve_ivp"
   ]
  },
  {
   "cell_type": "markdown",
   "id": "4035b9f1",
   "metadata": {},
   "source": [
    "Define a function that returns the right-hand side of the six ODEs that describe the kinematics of the drone, given constant linear velocity and angular velocity."
   ]
  },
  {
   "cell_type": "code",
   "execution_count": null,
   "id": "14887067",
   "metadata": {},
   "outputs": [],
   "source": [
    "def f_kinematics(t, s, v_inB_ofWB, w_inB_ofWB):\n",
    "    psi, theta, phi = s[3:]\n",
    "    return np.concat([\n",
    "        get_R_inW_ofB(psi, theta, phi) @ v_inB_ofWB,\n",
    "        get_N(psi, theta, phi) @ w_inB_ofWB,\n",
    "    ])"
   ]
  },
  {
   "cell_type": "markdown",
   "id": "73bdc6fd",
   "metadata": {},
   "source": [
    "Choose linear velocity, angular velocity, and final time."
   ]
  },
  {
   "cell_type": "code",
   "execution_count": null,
   "id": "03d577ea",
   "metadata": {},
   "outputs": [],
   "source": [
    "data = {\n",
    "    't_1': 1.,\n",
    "    'v_inB_ofWB': np.array([2. * np.pi, 0., 0.]),\n",
    "    'w_inB_ofWB': np.array([0., 0., 2. * np.pi]),\n",
    "}"
   ]
  },
  {
   "cell_type": "markdown",
   "id": "6728c950",
   "metadata": {},
   "source": [
    "Solve ODEs."
   ]
  },
  {
   "cell_type": "code",
   "execution_count": null,
   "id": "78a1d5b4",
   "metadata": {},
   "outputs": [],
   "source": [
    "# Get solution\n",
    "sol = solve_ivp(\n",
    "    f_kinematics,\n",
    "    [0., data['t_1']],\n",
    "    np.zeros(6),\n",
    "    args=(data['v_inB_ofWB'], data['w_inB_ofWB']),\n",
    "    t_eval=np.linspace(0., data['t_1'], 1 + int(data['t_1'] / 0.01)),\n",
    ")\n",
    "\n",
    "# Parse solution\n",
    "t = sol.t\n",
    "p_x = sol.y[0, :]\n",
    "p_y = sol.y[1, :]\n",
    "p_z = sol.y[2, :]\n",
    "yaw = sol.y[3, :]\n",
    "pitch = sol.y[4, :]\n",
    "roll = sol.y[5, :]"
   ]
  },
  {
   "cell_type": "markdown",
   "id": "95089ca0",
   "metadata": {},
   "source": [
    "Plot trajectory in the $x, y$ plane."
   ]
  },
  {
   "cell_type": "code",
   "execution_count": null,
   "id": "dd101804",
   "metadata": {},
   "outputs": [],
   "source": [
    "fig, ax = plt.subplots(1, 1, figsize=(4, 4))\n",
    "ax.plot(p_x, p_y, '-', color='C4', linewidth=3)\n",
    "ax.plot([p_x[0], p_x[0] + 1.], [p_y[0], p_y[0]], 'r-', linewidth=2)\n",
    "ax.plot([p_x[0], p_x[0]], [p_y[0], p_y[0] + 1.], 'g-', linewidth=2)\n",
    "ax.plot(p_x[0], p_y[0], 'b.', markersize=14)\n",
    "ax.set_aspect('equal')\n",
    "ax.grid()\n",
    "ax.set_xlabel(r'$p_x$ (m)', fontsize=14)\n",
    "ax.set_ylabel(r'$p_y$ (m)', fontsize=14)\n",
    "ax.set_xlim(-2., 2.)\n",
    "ax.set_ylim(-1., 3.)\n",
    "plt.show()"
   ]
  }
 ],
 "metadata": {
  "kernelspec": {
   "display_name": "ae483",
   "language": "python",
   "name": "python3"
  },
  "language_info": {
   "codemirror_mode": {
    "name": "ipython",
    "version": 3
   },
   "file_extension": ".py",
   "mimetype": "text/x-python",
   "name": "python",
   "nbconvert_exporter": "python",
   "pygments_lexer": "ipython3",
   "version": "3.13.5"
  }
 },
 "nbformat": 4,
 "nbformat_minor": 5
}
