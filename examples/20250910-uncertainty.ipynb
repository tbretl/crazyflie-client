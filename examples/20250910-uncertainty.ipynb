{
 "cells": [
  {
   "cell_type": "markdown",
   "id": "bd7091b7",
   "metadata": {},
   "source": [
    "# Linear approximations of uncertainty in computed quantities"
   ]
  },
  {
   "cell_type": "markdown",
   "id": "3a3f809f",
   "metadata": {},
   "source": [
    "Do imports."
   ]
  },
  {
   "cell_type": "code",
   "execution_count": null,
   "id": "56afa3dc",
   "metadata": {},
   "outputs": [],
   "source": [
    "import numpy as np\n",
    "import matplotlib.pyplot as plt"
   ]
  },
  {
   "cell_type": "markdown",
   "id": "5495b206",
   "metadata": {},
   "source": [
    "Create a random number generator (used to generate example data)."
   ]
  },
  {
   "cell_type": "code",
   "execution_count": null,
   "id": "df0f66d7",
   "metadata": {},
   "outputs": [],
   "source": [
    "rng = np.random.default_rng()"
   ]
  },
  {
   "cell_type": "markdown",
   "id": "d09bc0f2",
   "metadata": {},
   "source": [
    "Create example data by sampling points from a normal distribution with mean $\\mu_x$ and standard deviation $\\sigma_x$. With very high likelihood, all sampled points will be in the interval\n",
    "\n",
    "$$\\left[\\mu_x - \\Delta_x, \\mu_x + \\Delta_x\\right]$$\n",
    "\n",
    "where $\\Delta_x = 6 \\sigma_x$."
   ]
  },
  {
   "cell_type": "code",
   "execution_count": null,
   "id": "77214ecd",
   "metadata": {},
   "outputs": [],
   "source": [
    "# Choose number of data points\n",
    "n = 5000\n",
    "\n",
    "# Choose mean and standard deviation of data points\n",
    "mu_x = 0.4\n",
    "sigma_x = 0.1\n",
    "\n",
    "# Define worst-case bound (six standard deviations away from the mean)\n",
    "delta_x = 6 * sigma_x\n",
    "\n",
    "# Sample the chosen number of data points from a normal\n",
    "# distribution with chosen mean and standard deviation\n",
    "x = rng.normal(loc=mu_x, scale=sigma_x, size=n)"
   ]
  },
  {
   "cell_type": "markdown",
   "id": "f6300104",
   "metadata": {},
   "source": [
    "Define a function that plots four things:\n",
    "\n",
    "* The sample density (this is like a histogram, but the y axis is probability density and not count).\n",
    "* The sample density that is predicted by theory.\n",
    "* The sample bounds (minimum and maximum values of the sampled data).\n",
    "* The sample bounds that is predicted by theory (worst-case)."
   ]
  },
  {
   "cell_type": "code",
   "execution_count": null,
   "id": "53a55688",
   "metadata": {},
   "outputs": [],
   "source": [
    "def show_data(z, mu_z, sigma_z, delta_z, z_label, n_bins=49, res_dens=0.01, fontsize=14):\n",
    "    # Create figure\n",
    "    fig, ax = plt.subplots(1, 1, figsize=(6, 3), layout='constrained')\n",
    "\n",
    "    # Plot the probability density from data\n",
    "    ax.hist(\n",
    "        z,\n",
    "        bins=np.linspace(mu_z - delta_z, mu_z + delta_z, n_bins),\n",
    "        density=True,\n",
    "        label='density (sample)',\n",
    "    )\n",
    "\n",
    "    # Plot the probability density from theory\n",
    "    z_vals = np.linspace(mu_z - delta_z, mu_z + delta_z, 1 + int(2 * delta_z / res_dens))\n",
    "    z_dens = (1 / np.sqrt(2 * np.pi * sigma_z**2)) * np.exp(- (z_vals - mu_z)**2 / (2 * sigma_z**2))\n",
    "    ax.plot(z_vals, z_dens, color='C1', linewidth=3, label='density (theory)')\n",
    "\n",
    "    # Plot the worst-case bounds from data\n",
    "    ax.plot([np.min(z), np.min(z)], [0., 2 * np.max(z_dens)], '--', color='C0', linewidth=3, label='bounds (sample)')\n",
    "    ax.plot([np.max(z), np.max(z)], [0., 2 * np.max(z_dens)], '--', color='C0', linewidth=3)\n",
    "\n",
    "    # Plot the worst-case bounds from theory\n",
    "    ax.plot([mu_z - delta_z, mu_z - delta_z], [0., 2 * np.max(z_dens)], '--', color='C1', linewidth=3, label='bounds (theory)')\n",
    "    ax.plot([mu_z + delta_z, mu_z + delta_z], [0., 2 * np.max(z_dens)], '--', color='C1', linewidth=3)\n",
    "    \n",
    "    ax.grid()\n",
    "    ax.legend()\n",
    "    ax.set_ylim(0, 1.25 * np.max(z_dens))\n",
    "    ax.set_xlabel(rf'${z_label}$', fontsize=fontsize)\n",
    "    ax.set_ylabel(rf'$p({z_label})$', fontsize=fontsize, rotation='horizontal', ha='right')\n",
    "    # plt.tight_layout()\n",
    "    plt.show()"
   ]
  },
  {
   "cell_type": "markdown",
   "id": "acda9cdb",
   "metadata": {},
   "source": [
    "Show probability density and worst-case bounds for the random variable $x$."
   ]
  },
  {
   "cell_type": "code",
   "execution_count": null,
   "id": "bb1abf5f",
   "metadata": {},
   "outputs": [],
   "source": [
    "show_data(x, mu_x, sigma_x, delta_x, 'x')"
   ]
  },
  {
   "cell_type": "markdown",
   "id": "9be88723",
   "metadata": {},
   "source": [
    "If\n",
    "\n",
    "$$ y = f(x) $$\n",
    "\n",
    "then the mean and standard deviation of $y$ can be approximated by\n",
    "\n",
    "$$\n",
    "\\mu_y = f(\\mu_x)\n",
    "\\qquad\\qquad\n",
    "\\sigma_y = \\frac{\\partial f}{\\partial x}\\biggr\\rvert_{x=\\mu_x} \\sigma_x\n",
    "$$\n",
    "\n",
    "and worst-case bounds on $y$ can be approximated by\n",
    "\n",
    "$$ [\\mu_y - \\Delta_y, \\mu_y + \\Delta_y] $$\n",
    "\n",
    "where\n",
    "\n",
    "$$ \\Delta_y = \\left| \\frac{\\partial f}{\\partial x}\\biggr\\rvert_{x=\\mu_x} \\Delta_x \\right|. $$\n",
    "\n",
    "Let's check these predictions for the particular case in which\n",
    "\n",
    "$$ f(x) = x^2.$$\n",
    "\n",
    "In this case,\n",
    "\n",
    "$$ \\mu_y = \\mu_x^2 \\qquad\\qquad \\sigma_y = 2 \\mu_x \\sigma_x \\qquad\\qquad \\delta_y = \\left| 2 \\mu_x \\Delta_x \\right|. $$"
   ]
  },
  {
   "cell_type": "code",
   "execution_count": null,
   "id": "0c468681",
   "metadata": {},
   "outputs": [],
   "source": [
    "show_data(x**2, mu_x**2, 2 * mu_x * sigma_x, np.abs(2 * mu_x * delta_x), 'x^2')"
   ]
  }
 ],
 "metadata": {
  "kernelspec": {
   "display_name": "ae483",
   "language": "python",
   "name": "python3"
  },
  "language_info": {
   "codemirror_mode": {
    "name": "ipython",
    "version": 3
   },
   "file_extension": ".py",
   "mimetype": "text/x-python",
   "name": "python",
   "nbconvert_exporter": "python",
   "pygments_lexer": "ipython3",
   "version": "3.13.5"
  }
 },
 "nbformat": 4,
 "nbformat_minor": 5
}
