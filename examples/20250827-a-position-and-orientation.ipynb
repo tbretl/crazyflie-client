{
 "cells": [
  {
   "cell_type": "markdown",
   "id": "839bf16e",
   "metadata": {},
   "source": [
    "# Position and orientation"
   ]
  },
  {
   "cell_type": "markdown",
   "id": "eb410579",
   "metadata": {},
   "source": [
    "Do imports."
   ]
  },
  {
   "cell_type": "code",
   "execution_count": null,
   "id": "ad826e16",
   "metadata": {},
   "outputs": [],
   "source": [
    "import numpy as np\n",
    "from scipy.spatial.transform import Rotation"
   ]
  },
  {
   "cell_type": "markdown",
   "id": "9deb402c",
   "metadata": {},
   "source": [
    "## Position"
   ]
  },
  {
   "cell_type": "markdown",
   "id": "793c83bc",
   "metadata": {},
   "source": [
    "### Get position from coordinates"
   ]
  },
  {
   "cell_type": "markdown",
   "id": "053cd93b",
   "metadata": {},
   "source": [
    "Define coordinates to use as an example."
   ]
  },
  {
   "cell_type": "code",
   "execution_count": null,
   "id": "438bce5e",
   "metadata": {},
   "outputs": [],
   "source": [
    "x_drone = 0.2\n",
    "y_drone = -1.1\n",
    "z_drone = 0.5"
   ]
  },
  {
   "cell_type": "markdown",
   "id": "18284014",
   "metadata": {},
   "source": [
    "Get position from coordinates."
   ]
  },
  {
   "cell_type": "code",
   "execution_count": null,
   "id": "377d26ed",
   "metadata": {},
   "outputs": [],
   "source": [
    "p_inW_ofB = np.array([x_drone, y_drone, z_drone])"
   ]
  },
  {
   "cell_type": "markdown",
   "id": "708bc63b",
   "metadata": {},
   "source": [
    "Print position."
   ]
  },
  {
   "cell_type": "code",
   "execution_count": null,
   "id": "5a1f848b",
   "metadata": {},
   "outputs": [],
   "source": [
    "print(p_inW_ofB)"
   ]
  },
  {
   "cell_type": "markdown",
   "id": "68e6665a",
   "metadata": {},
   "source": [
    "Print the type and shape of position."
   ]
  },
  {
   "cell_type": "code",
   "execution_count": null,
   "id": "86027bbe",
   "metadata": {},
   "outputs": [],
   "source": [
    "print(type(p_inW_ofB))\n",
    "print(p_inW_ofB.shape)"
   ]
  },
  {
   "cell_type": "markdown",
   "id": "7dfed002",
   "metadata": {},
   "source": [
    "### Get coordinates from position"
   ]
  },
  {
   "cell_type": "markdown",
   "id": "3ebd1241",
   "metadata": {},
   "source": [
    "Get coordinates from position."
   ]
  },
  {
   "cell_type": "code",
   "execution_count": null,
   "id": "20ca4b2c",
   "metadata": {},
   "outputs": [],
   "source": [
    "x_drone = p_inW_ofB[0]\n",
    "y_drone = p_inW_ofB[1]\n",
    "z_drone = p_inW_ofB[2]"
   ]
  },
  {
   "cell_type": "markdown",
   "id": "e8b5f048",
   "metadata": {},
   "source": [
    "Print coordinates."
   ]
  },
  {
   "cell_type": "code",
   "execution_count": null,
   "id": "97680ad6",
   "metadata": {},
   "outputs": [],
   "source": [
    "print(x_drone)\n",
    "print(y_drone)\n",
    "print(z_drone)"
   ]
  },
  {
   "cell_type": "markdown",
   "id": "4ed09069",
   "metadata": {},
   "source": [
    "Get coordinates from position with a single line of code."
   ]
  },
  {
   "cell_type": "code",
   "execution_count": null,
   "id": "c0830e9a",
   "metadata": {},
   "outputs": [],
   "source": [
    "x_drone, y_drone, z_drone = p_inW_ofB"
   ]
  },
  {
   "cell_type": "markdown",
   "id": "b952b5af",
   "metadata": {},
   "source": [
    "Print coordinates."
   ]
  },
  {
   "cell_type": "code",
   "execution_count": null,
   "id": "e001a0bf",
   "metadata": {},
   "outputs": [],
   "source": [
    "print(x_drone)\n",
    "print(y_drone)\n",
    "print(z_drone)"
   ]
  },
  {
   "cell_type": "markdown",
   "id": "59b32591",
   "metadata": {},
   "source": [
    "## Orientation"
   ]
  },
  {
   "cell_type": "markdown",
   "id": "09146c9d",
   "metadata": {},
   "source": [
    "### Get orientation from angles"
   ]
  },
  {
   "cell_type": "markdown",
   "id": "42fc79c9",
   "metadata": {},
   "source": [
    "Define yaw, pitch, and roll angles in **radians** to use as an example."
   ]
  },
  {
   "cell_type": "code",
   "execution_count": null,
   "id": "c65cb149",
   "metadata": {},
   "outputs": [],
   "source": [
    "psi_drone = 0.3\n",
    "theta_drone = 0.5\n",
    "phi_drone = -0.1"
   ]
  },
  {
   "cell_type": "markdown",
   "id": "9431ac8c",
   "metadata": {},
   "source": [
    "Get orientation from yaw, pitch, and roll angles (assuming a ZYX **body-fixed** Euler Angle sequence)."
   ]
  },
  {
   "cell_type": "code",
   "execution_count": null,
   "id": "615a26bb",
   "metadata": {},
   "outputs": [],
   "source": [
    "R_inW_ofB = Rotation.from_euler(\n",
    "                'ZYX',                                  # <-- which sequence (capital letters are VERY IMPORTANT)\n",
    "                [psi_drone, theta_drone, phi_drone],    # <-- angles\n",
    "                degrees=False,                          # <-- units (radians by default)\n",
    ").as_matrix()"
   ]
  },
  {
   "cell_type": "markdown",
   "id": "d868522c",
   "metadata": {},
   "source": [
    "Print orientation."
   ]
  },
  {
   "cell_type": "code",
   "execution_count": null,
   "id": "a0fcb003",
   "metadata": {},
   "outputs": [],
   "source": [
    "print(R_inW_ofB)"
   ]
  },
  {
   "cell_type": "markdown",
   "id": "a61c0979",
   "metadata": {},
   "source": [
    "Print the type and shape of orientation."
   ]
  },
  {
   "cell_type": "code",
   "execution_count": null,
   "id": "270d0005",
   "metadata": {},
   "outputs": [],
   "source": [
    "print(type(R_inW_ofB))\n",
    "print(R_inW_ofB.shape)"
   ]
  },
  {
   "cell_type": "markdown",
   "id": "8f68a983",
   "metadata": {},
   "source": [
    "### Get angles from orientation"
   ]
  },
  {
   "cell_type": "markdown",
   "id": "a5eff3df",
   "metadata": {},
   "source": [
    "Get yaw, pitch, and roll angles in **radians** from orientation (assuming a ZYX Euler Angle sequence)."
   ]
  },
  {
   "cell_type": "code",
   "execution_count": null,
   "id": "7e317c1d",
   "metadata": {},
   "outputs": [],
   "source": [
    "# Again, capital letters in 'ZYX' are VERY IMPORTANT\n",
    "psi_drone, theta_drone, phi_drone = Rotation.from_matrix(R_inW_ofB).as_euler('ZYX')"
   ]
  },
  {
   "cell_type": "markdown",
   "id": "892e9c28",
   "metadata": {},
   "source": [
    "Print yaw, pitch, and roll angles."
   ]
  },
  {
   "cell_type": "code",
   "execution_count": null,
   "id": "81ed9cc8",
   "metadata": {},
   "outputs": [],
   "source": [
    "print(psi_drone)\n",
    "print(theta_drone)\n",
    "print(phi_drone)"
   ]
  },
  {
   "cell_type": "markdown",
   "id": "24b3242c",
   "metadata": {},
   "source": [
    "Print yaw, pitch, and roll angles with only three digits after the decimal."
   ]
  },
  {
   "cell_type": "code",
   "execution_count": null,
   "id": "58b957cf",
   "metadata": {},
   "outputs": [],
   "source": [
    "print(f'{psi_drone:.3f}')\n",
    "print(f'{theta_drone:.3f}')\n",
    "print(f'{phi_drone:.3f}')"
   ]
  }
 ],
 "metadata": {
  "kernelspec": {
   "display_name": "ae483",
   "language": "python",
   "name": "python3"
  },
  "language_info": {
   "codemirror_mode": {
    "name": "ipython",
    "version": 3
   },
   "file_extension": ".py",
   "mimetype": "text/x-python",
   "name": "python",
   "nbconvert_exporter": "python",
   "pygments_lexer": "ipython3",
   "version": "3.13.5"
  }
 },
 "nbformat": 4,
 "nbformat_minor": 5
}
