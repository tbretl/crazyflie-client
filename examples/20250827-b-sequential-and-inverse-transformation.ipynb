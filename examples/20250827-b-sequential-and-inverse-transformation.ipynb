{
 "cells": [
  {
   "cell_type": "markdown",
   "id": "bd7091b7",
   "metadata": {},
   "source": [
    "# Sequential and inverse transformation"
   ]
  },
  {
   "cell_type": "markdown",
   "id": "7cfbcfb6",
   "metadata": {},
   "source": [
    "Do imports."
   ]
  },
  {
   "cell_type": "code",
   "execution_count": null,
   "id": "294d9f2d",
   "metadata": {},
   "outputs": [],
   "source": [
    "import numpy as np\n",
    "from scipy.spatial.transform import Rotation"
   ]
  },
  {
   "cell_type": "markdown",
   "id": "f1a25b2c",
   "metadata": {},
   "source": [
    "Suppose these are $p^A_W$ and $R^A_W$."
   ]
  },
  {
   "cell_type": "code",
   "execution_count": null,
   "id": "dfa7c1e6",
   "metadata": {},
   "outputs": [],
   "source": [
    "p_inA_ofW = np.array([0., 0., -0.25])\n",
    "R_inA_ofW = np.eye(3)"
   ]
  },
  {
   "cell_type": "markdown",
   "id": "64a675de",
   "metadata": {},
   "source": [
    "Suppose these are the measurements from the motion capture system (which tracks frame $A$ with respect to frame $Q$)."
   ]
  },
  {
   "cell_type": "code",
   "execution_count": null,
   "id": "2a55b2aa",
   "metadata": {},
   "outputs": [],
   "source": [
    "x_mocap = 0.2\n",
    "y_mocap = -1.1\n",
    "z_mocap = 0.5\n",
    "psi_mocap = 0.3\n",
    "theta_mocap = 0.4\n",
    "phi_mocap = -0.1"
   ]
  },
  {
   "cell_type": "markdown",
   "id": "b30886ec",
   "metadata": {},
   "source": [
    "Get $p^Q_A$ from coordinates. Remember that our convention is to *write* $p^Q_A$ as if it were a $3 \\times 1$ column matrix\n",
    "$$p^Q_A = \\begin{bmatrix} x_\\text{mocap} \\\\ y_\\text{mocap} \\\\ z_\\text{mocap} \\end{bmatrix}$$\n",
    "but to *code* $p^Q_A$ using a **1-D** NumPy array."
   ]
  },
  {
   "cell_type": "code",
   "execution_count": null,
   "id": "5a87d171",
   "metadata": {},
   "outputs": [],
   "source": [
    "p_inQ_ofA = np.array([x_mocap, y_mocap, z_mocap])"
   ]
  },
  {
   "cell_type": "markdown",
   "id": "778b8ac3",
   "metadata": {},
   "source": [
    "Get $R^Q_A$ from yaw, pitch, and roll angles (assuming a ZYX Euler Angle sequence)."
   ]
  },
  {
   "cell_type": "code",
   "execution_count": null,
   "id": "65d903a3",
   "metadata": {},
   "outputs": [],
   "source": [
    "R_inQ_ofA = Rotation.from_euler(\n",
    "                'ZYX',                                  # <-- which sequence\n",
    "                [psi_mocap, theta_mocap, phi_mocap],    # <-- angles\n",
    "                degrees=False,                          # <-- units (radians by default)\n",
    ").as_matrix()"
   ]
  },
  {
   "cell_type": "markdown",
   "id": "1ed98425",
   "metadata": {},
   "source": [
    "Find $p^Q_W$ and $R^Q_W$ by **sequential transformation**:\n",
    "\n",
    "$$\n",
    "\\begin{align*}\n",
    "R^Q_W &= R^Q_A R^A_W \\\\\n",
    "p^Q_W &= p^Q_A + R^Q_A p^A_W.\n",
    "\\end{align*}\n",
    "$$"
   ]
  },
  {
   "cell_type": "code",
   "execution_count": null,
   "id": "3e3acf68",
   "metadata": {},
   "outputs": [],
   "source": [
    "R_inQ_ofW = R_inQ_ofA @ R_inA_ofW\n",
    "p_inQ_ofW = p_inQ_ofA + R_inQ_ofA @ p_inA_ofW"
   ]
  },
  {
   "cell_type": "markdown",
   "id": "84e8b4a1",
   "metadata": {},
   "source": [
    "Find $p^W_Q$ and $R^W_Q$ by **inverse transformation**:\n",
    "\n",
    "$$\n",
    "\\begin{align*}\n",
    "R^W_Q &= \\left(R^Q_W\\right)^T \\\\\n",
    "p^W_Q &= - \\left(R^Q_W\\right)^T p^Q_W.\n",
    "\\end{align*}\n",
    "$$"
   ]
  },
  {
   "cell_type": "code",
   "execution_count": null,
   "id": "03a146d0",
   "metadata": {},
   "outputs": [],
   "source": [
    "R_inW_ofQ = R_inQ_ofW.T\n",
    "p_inW_ofQ = - R_inQ_ofW.T @ p_inQ_ofW"
   ]
  },
  {
   "cell_type": "markdown",
   "id": "6f7f6147",
   "metadata": {},
   "source": [
    "Show the results. Again, do not be confused by the way in which $p_A^Q$ is displayed — with pencil and paper, we would still write it as a $3 \\times 1$ column matrix, even if it is represented in code as a **1-D** NumPy array."
   ]
  },
  {
   "cell_type": "code",
   "execution_count": null,
   "id": "791a19f7",
   "metadata": {},
   "outputs": [],
   "source": [
    "print('position')\n",
    "print(p_inW_ofQ)\n",
    "print('')\n",
    "print('orientation')\n",
    "print(R_inW_ofQ)"
   ]
  }
 ],
 "metadata": {
  "kernelspec": {
   "display_name": "ae483",
   "language": "python",
   "name": "python3"
  },
  "language_info": {
   "codemirror_mode": {
    "name": "ipython",
    "version": 3
   },
   "file_extension": ".py",
   "mimetype": "text/x-python",
   "name": "python",
   "nbconvert_exporter": "python",
   "pygments_lexer": "ipython3",
   "version": "3.13.5"
  }
 },
 "nbformat": 4,
 "nbformat_minor": 5
}
