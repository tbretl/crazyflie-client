{
 "cells": [
  {
   "cell_type": "markdown",
   "id": "892d4b04",
   "metadata": {},
   "source": [
    "# Plot flight data"
   ]
  },
  {
   "cell_type": "markdown",
   "id": "9ca0da5b",
   "metadata": {},
   "source": [
    "Do imports."
   ]
  },
  {
   "cell_type": "code",
   "execution_count": null,
   "id": "1c947f18",
   "metadata": {},
   "outputs": [],
   "source": [
    "import numpy as np\n",
    "import matplotlib.pyplot as plt\n",
    "from ae483tools import *"
   ]
  },
  {
   "cell_type": "markdown",
   "id": "a46b5afc",
   "metadata": {},
   "source": [
    "#### Load data"
   ]
  },
  {
   "cell_type": "markdown",
   "id": "4c1afb1a",
   "metadata": {},
   "source": [
    "\n",
    "\n",
    "Load data from a flight in which the drone took off, moved in a square, and landed."
   ]
  },
  {
   "cell_type": "code",
   "execution_count": null,
   "id": "51f8809f",
   "metadata": {},
   "outputs": [],
   "source": [
    "raw_data_drone, raw_data_mocap = load_hardware_data('first_flight.json')"
   ]
  },
  {
   "cell_type": "markdown",
   "id": "cc53c6fe",
   "metadata": {},
   "source": [
    "You only collected, and will only be looking at, data from the drone in this case. You should find that `raw_data_mocap` is an empty dictionary. Let's check:"
   ]
  },
  {
   "cell_type": "code",
   "execution_count": null,
   "id": "338ed2df",
   "metadata": {},
   "outputs": [],
   "source": [
    "print(raw_data_mocap)\n",
    "assert(raw_data_mocap == {})"
   ]
  },
  {
   "cell_type": "markdown",
   "id": "913f41a8",
   "metadata": {},
   "source": [
    "#### Resample data"
   ]
  },
  {
   "cell_type": "markdown",
   "id": "8bea0667",
   "metadata": {},
   "source": [
    "Flight data are all collected at different times. Analysis is more convenient if we first *resample* the flight data so it is as if these data were all collected at the same times. In particular, the following function will resample the flight data at 100 Hz, using linear interpolation. It returns the resampled flight data in the form of a dictionary, where each item is a numpy array."
   ]
  },
  {
   "cell_type": "code",
   "execution_count": null,
   "id": "bd8a6f25",
   "metadata": {},
   "outputs": [],
   "source": [
    "data_drone = resample_data_drone(\n",
    "    raw_data_drone,   # <-- dictionary with data to resample\n",
    "    t_min_offset=0.,  # <-- number of seconds to cut off the start (must be non-negative)\n",
    "    t_max_offset=0.,  # <-- number of seconds to cut off the end (must be non-negative)\n",
    ")"
   ]
  },
  {
   "cell_type": "markdown",
   "id": "fa32b4af",
   "metadata": {},
   "source": [
    "Extract what we want to plot from the resampled data."
   ]
  },
  {
   "cell_type": "code",
   "execution_count": null,
   "id": "eba11579",
   "metadata": {},
   "outputs": [],
   "source": [
    "# Time in seconds\n",
    "t = data_drone['time']\n",
    "\n",
    "# Components of position in meters\n",
    "x_drone = data_drone['stateEstimate.x']\n",
    "y_drone = data_drone['stateEstimate.y']\n",
    "z_drone = data_drone['stateEstimate.z']\n",
    "\n",
    "# ZYX Euler Angles (psi is yaw, theta is pitch, phi is roll)\n",
    "# in radians, to represent orientation\n",
    "psi_drone = np.deg2rad(data_drone['stateEstimate.yaw'])         # <-- THINK: why call np.deg2rad?\n",
    "theta_drone = - np.deg2rad(data_drone['stateEstimate.pitch'])   # <-- THINK: why the change in sign?\n",
    "phi_drone = np.deg2rad(data_drone['stateEstimate.roll'])"
   ]
  },
  {
   "cell_type": "markdown",
   "id": "6c3b616a",
   "metadata": {},
   "source": [
    "#### Plot data"
   ]
  },
  {
   "cell_type": "markdown",
   "id": "81398ae3",
   "metadata": {},
   "source": [
    "Plot $x, y$ data."
   ]
  },
  {
   "cell_type": "code",
   "execution_count": null,
   "id": "85af48bd",
   "metadata": {},
   "outputs": [],
   "source": [
    "fig, ax = plt.subplots(1, 1, figsize=(6, 6), tight_layout=True)\n",
    "ax.plot(x_drone, y_drone, label='drone')\n",
    "ax.legend()\n",
    "ax.grid()\n",
    "ax.set_aspect('equal')\n",
    "ax.set_xlabel('x (meters)')\n",
    "ax.set_ylabel('y (meters)')\n",
    "plt.show()"
   ]
  },
  {
   "cell_type": "markdown",
   "id": "84e3cbe4",
   "metadata": {},
   "source": [
    "Plot all data."
   ]
  },
  {
   "cell_type": "code",
   "execution_count": null,
   "id": "2f5a984d",
   "metadata": {},
   "outputs": [],
   "source": [
    "fig, (ax_x, ax_y, ax_z, ax_psi, ax_theta, ax_phi) = plt.subplots(\n",
    "    6, 1,\n",
    "    figsize=(8, 8),\n",
    "    tight_layout=True,\n",
    "    sharex=True,\n",
    ")\n",
    "\n",
    "ax_x.plot(t, x_drone, label='x (drone)')\n",
    "ax_x.legend()\n",
    "ax_x.grid()\n",
    "ax_x.set_ylabel('meters')\n",
    "\n",
    "ax_y.plot(t, y_drone, label='y (drone)')\n",
    "ax_y.legend()\n",
    "ax_y.grid()\n",
    "ax_y.set_ylabel('meters')\n",
    "\n",
    "ax_z.plot(t, z_drone, label='z (drone)')\n",
    "ax_z.legend()\n",
    "ax_z.grid()\n",
    "ax_z.set_ylabel('meters')\n",
    "\n",
    "ax_psi.plot(t, psi_drone, label='yaw (drone)')\n",
    "ax_psi.legend()\n",
    "ax_psi.grid()\n",
    "ax_psi.set_ylabel('radians')\n",
    "\n",
    "ax_theta.plot(t, theta_drone, label='pitch (drone)')\n",
    "ax_theta.legend()\n",
    "ax_theta.grid()\n",
    "ax_theta.set_ylabel('radians')\n",
    "\n",
    "ax_phi.plot(t, phi_drone, label='roll (drone)')\n",
    "ax_phi.legend()\n",
    "ax_phi.grid()\n",
    "ax_phi.set_ylabel('radians')\n",
    "ax_phi.set_xlabel('time (seconds)')\n",
    "\n",
    "plt.show()"
   ]
  },
  {
   "cell_type": "code",
   "execution_count": null,
   "id": "094d4fcf",
   "metadata": {},
   "outputs": [],
   "source": []
  }
 ],
 "metadata": {
  "kernelspec": {
   "display_name": "Python 3 (ipykernel)",
   "language": "python",
   "name": "python3"
  },
  "language_info": {
   "codemirror_mode": {
    "name": "ipython",
    "version": 3
   },
   "file_extension": ".py",
   "mimetype": "text/x-python",
   "name": "python",
   "nbconvert_exporter": "python",
   "pygments_lexer": "ipython3",
   "version": "3.12.4"
  }
 },
 "nbformat": 4,
 "nbformat_minor": 5
}
