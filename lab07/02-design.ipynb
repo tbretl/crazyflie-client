{
 "cells": [
  {
   "cell_type": "markdown",
   "id": "f4233d19",
   "metadata": {},
   "source": [
    "# 1. Set up the notebook"
   ]
  },
  {
   "cell_type": "markdown",
   "id": "38bcc561",
   "metadata": {},
   "source": [
    "Do imports."
   ]
  },
  {
   "cell_type": "code",
   "execution_count": null,
   "id": "ee488f94",
   "metadata": {},
   "outputs": [],
   "source": [
    "import numpy as np\n",
    "import sympy as sym\n",
    "from scipy import linalg\n",
    "import json\n",
    "import matplotlib.pyplot as plt\n",
    "from ae483tools import *"
   ]
  },
  {
   "cell_type": "markdown",
   "id": "54595de9",
   "metadata": {},
   "source": [
    "Define a function to solve the linear quadratic regulator (LQR) problem - i.e., that finds the matrix $K$ for which\n",
    "\n",
    "$$u(t) = - K x(t)$$\n",
    "\n",
    "is the optimal solution to\n",
    "\n",
    "$$\n",
    "\\begin{align*}\n",
    "\\underset{u_{[t_{0}, \\infty)}}{\\text{minimize}} &\\qquad \\int_{t_{0}}^{\\infty}\\left( x(t)^{T}Qx(t)+u(t)^{T}Ru(t)\\right)dt \\\\\n",
    "\\text{subject to} &\\qquad \\dot{x}(t) = Ax(t)+Bu(t), \\quad x(t_{0})=x_{0}.\n",
    "\\end{align*}\n",
    "$$"
   ]
  },
  {
   "cell_type": "code",
   "execution_count": null,
   "id": "76ef860b",
   "metadata": {},
   "outputs": [],
   "source": [
    "def lqr(A, B, Q, R):\n",
    "    P = linalg.solve_continuous_are(A, B, Q, R)\n",
    "    K = linalg.inv(R) @  B.T @ P\n",
    "    return K"
   ]
  },
  {
   "cell_type": "markdown",
   "id": "8e405603",
   "metadata": {},
   "source": [
    "Define a function to create the observability matrix\n",
    "\n",
    "$$ W_o = \\begin{bmatrix} C \\\\ CA \\\\ CA^2 \\\\ \\vdots \\\\ CA^{n-1} \\end{bmatrix} $$\n",
    "\n",
    "where $A$ has size $n \\times n$."
   ]
  },
  {
   "cell_type": "code",
   "execution_count": null,
   "id": "016cb8b3",
   "metadata": {},
   "outputs": [],
   "source": [
    "def obsv(A, C):\n",
    "    W = C\n",
    "    for i in range(1, A.shape[0]):\n",
    "        W = np.vstack([W, C @ np.linalg.matrix_power(A, i)])\n",
    "    return W"
   ]
  },
  {
   "cell_type": "markdown",
   "id": "8460a894",
   "metadata": {},
   "source": [
    "Check mocap coverage from `lab07_square02.json`."
   ]
  },
  {
   "cell_type": "code",
   "execution_count": null,
   "id": "8de0161f",
   "metadata": {},
   "outputs": [],
   "source": [
    "check_mocap_coverage('lab07_square02.json')"
   ]
  },
  {
   "cell_type": "markdown",
   "id": "de776b07",
   "metadata": {},
   "source": [
    "# 2. Design observer"
   ]
  },
  {
   "cell_type": "markdown",
   "id": "a0bef80d",
   "metadata": {},
   "source": [
    "## 2.1 Define state-space model and load parameter values"
   ]
  },
  {
   "cell_type": "markdown",
   "id": "d1d886d9",
   "metadata": {},
   "source": [
    "Load the matrices that describe the state-space model\n",
    "\n",
    "$$\\begin{align*} \\dot{x} &= Ax + Bu \\\\ y &= Cx + Bu \\end{align*}$$\n",
    "\n",
    "that was derived previously. Also load the parameter values $g$, $k_\\text{flow}$, and $p_{z,\\text{eq}}$."
   ]
  },
  {
   "cell_type": "code",
   "execution_count": null,
   "id": "9fce4684",
   "metadata": {},
   "outputs": [],
   "source": [
    "# Load model\n",
    "with open('model.json', 'r') as f:\n",
    "    model = json.load(f)\n",
    "\n",
    "# Parse model\n",
    "A = np.array(model['A'])\n",
    "B = np.array(model['B'])\n",
    "C = np.array(model['C'])\n",
    "D = np.array(model['D'])\n",
    "g = model['g']\n",
    "k_flow = model['k_flow']\n",
    "p_z_eq = model['p_z_eq']\n",
    "\n",
    "# Show model\n",
    "A_str = np.array2string(A,\n",
    "                formatter={'float_kind': lambda x: f'{x:7.4f}'},\n",
    "                separator=', ',\n",
    "                prefix=' '*len('A = '),\n",
    "                max_line_width=np.inf)\n",
    "B_str = np.array2string(B,\n",
    "                formatter={'float_kind': lambda x: f'{x:7.4f}'},\n",
    "                separator=', ',\n",
    "                prefix=' '*len('B = '),\n",
    "                max_line_width=np.inf)\n",
    "C_str = np.array2string(C,\n",
    "                formatter={'float_kind': lambda x: f'{x:7.4f}'},\n",
    "                separator=', ',\n",
    "                prefix=' '*len('C = '),\n",
    "                max_line_width=np.inf)\n",
    "D_str = np.array2string(D,\n",
    "                formatter={'float_kind': lambda x: f'{x:7.4f}'},\n",
    "                separator=', ',\n",
    "                prefix=' '*len('D = '),\n",
    "                max_line_width=np.inf)\n",
    "print('STATE-SPACE MODEL')\n",
    "print(f'A = {A_str}')\n",
    "print(f'B = {B_str}')\n",
    "print(f'C = {C_str}')\n",
    "print(f'D = {D_str}')\n",
    "print('PARAMETER VALUES')\n",
    "print(f'g      = {g:7.4f}')\n",
    "print(f'k_flow = {k_flow:7.4f}')\n",
    "print(f'p_z_eq = {p_z_eq:7.4f}')\n",
    "\n",
    "# Check that all numbers in model are finite (i.e., not Inf, not NaN)\n",
    "assert(np.all(np.isfinite(A)))\n",
    "assert(np.all(np.isfinite(B)))\n",
    "assert(np.all(np.isfinite(C)))\n",
    "assert(np.all(np.isfinite(D)))"
   ]
  },
  {
   "cell_type": "markdown",
   "id": "e330e2d9",
   "metadata": {},
   "source": [
    "## 2.2 Show that not all states are observable"
   ]
  },
  {
   "cell_type": "markdown",
   "id": "3e0d1103",
   "metadata": {},
   "source": [
    "Find the observability matrix\n",
    "\n",
    "$$ W_o = \\begin{bmatrix} C \\\\ CA \\\\ CA^2 \\\\ \\vdots \\\\ CA^{n-1} \\end{bmatrix} $$\n",
    "\n",
    "where $A$ is $n \\times n$."
   ]
  },
  {
   "cell_type": "code",
   "execution_count": null,
   "id": "c3703ea7",
   "metadata": {},
   "outputs": [],
   "source": [
    "W_o = obsv(A, C)"
   ]
  },
  {
   "cell_type": "markdown",
   "id": "5ec003bd",
   "metadata": {},
   "source": [
    "Find the rank of the observability matrix using [numpy.linalg.matrix_rank](https://numpy.org/doc/stable/reference/generated/numpy.linalg.matrix_rank.html). The system is **observable** if and only if $W_o$ is **full rank**, that is, if its rank is equal to the number of states $n$."
   ]
  },
  {
   "cell_type": "code",
   "execution_count": null,
   "id": "914087a7",
   "metadata": {},
   "outputs": [],
   "source": [
    "print(f'      rank of W_o is: {np.linalg.matrix_rank(W_o)}')\n",
    "print(f'\"full rank\" would be: {A.shape[0]}')"
   ]
  },
  {
   "cell_type": "markdown",
   "id": "acd8e43b",
   "metadata": {},
   "source": [
    "If the system is *not* observable, then it is impossible to design a stable observer - that is, an observer that makes the error in your estimate of each state converge to zero over time.\n",
    "\n",
    "In particular, the following code would produce an error if you tried to use it:\n",
    "```python\n",
    "# Choose weights\n",
    "Q = np.eye(3) # <-- one diagonal entry for each output\n",
    "R = np.eye(9) # <-- one diagonal entry for each state\n",
    "\n",
    "# Find gain matrix\n",
    "L = lqr(A.T, C.T, linalg.inv(R), linalg.inv(Q)).T\n",
    "```\n",
    "It does not matter what method you use - if it is impossible to design a stable observer, that's it, you're out of luck!"
   ]
  },
  {
   "cell_type": "markdown",
   "id": "a680c59a",
   "metadata": {},
   "source": [
    "## 2.3 Choose a subset of states that are observable"
   ]
  },
  {
   "cell_type": "markdown",
   "id": "b76f5699",
   "metadata": {},
   "source": [
    "List the index of each state to include."
   ]
  },
  {
   "cell_type": "code",
   "execution_count": null,
   "id": "ee960ec7",
   "metadata": {},
   "outputs": [],
   "source": [
    "# FIXME: delete the index of each state that is not observable!\n",
    "\n",
    "s_obs_index = [\n",
    "    0, # p_x\n",
    "    1, # p_y\n",
    "    2, # p_z\n",
    "    3, # psi\n",
    "    4, # theta\n",
    "    5, # phi\n",
    "    6, # v_x\n",
    "    7, # v_y\n",
    "    8, # v_z\n",
    "]"
   ]
  },
  {
   "cell_type": "markdown",
   "id": "4df5a7d2",
   "metadata": {},
   "source": [
    "Define a state-space model\n",
    "\n",
    "$$\n",
    "\\begin{align*}\n",
    "\\dot{x}_\\text{obs} = A_\\text{obs} x_\\text{obs} + B_\\text{obs} u \\\\\n",
    "y = C_\\text{obs} x_\\text{obs} + D_\\text{obs} u\n",
    "\\end{align*}\n",
    "$$\n",
    "\n",
    "with only these states."
   ]
  },
  {
   "cell_type": "code",
   "execution_count": null,
   "id": "dca054b2",
   "metadata": {},
   "outputs": [],
   "source": [
    "A_obs = A[s_obs_index, :][:, s_obs_index]\n",
    "B_obs = B[s_obs_index, :]\n",
    "C_obs = C[:, s_obs_index]\n",
    "D_obs = D"
   ]
  },
  {
   "cell_type": "markdown",
   "id": "cd8e00c4",
   "metadata": {},
   "source": [
    "Show the matrices that describe this state-space model."
   ]
  },
  {
   "cell_type": "code",
   "execution_count": null,
   "id": "7f68c257",
   "metadata": {},
   "outputs": [],
   "source": [
    "print(f'A_obs:\\n{A_obs}\\n')\n",
    "print(f'B_obs:\\n{B_obs}\\n')\n",
    "print(f'C_obs:\\n{C_obs}\\n')\n",
    "print(f'D_obs:\\n{D_obs}\\n')"
   ]
  },
  {
   "cell_type": "markdown",
   "id": "d65e5a07",
   "metadata": {},
   "source": [
    "Check that this subsystem is observable:"
   ]
  },
  {
   "cell_type": "code",
   "execution_count": null,
   "id": "c8eb4fc9",
   "metadata": {},
   "outputs": [],
   "source": [
    "print(f'      rank of W_o is: {np.linalg.matrix_rank(obsv(A_obs, C_obs))}')\n",
    "print(f'\"full rank\" would be: {A_obs.shape[0]}')"
   ]
  },
  {
   "cell_type": "markdown",
   "id": "d077b986",
   "metadata": {},
   "source": [
    "## 2.4 Choose gain matrix for the observable subsystem"
   ]
  },
  {
   "cell_type": "markdown",
   "id": "c8d7e724",
   "metadata": {},
   "source": [
    "### 2.4.1 With equal weights"
   ]
  },
  {
   "cell_type": "markdown",
   "id": "4af1b997",
   "metadata": {},
   "source": [
    "Choose weights $Q$ and $R$ as identity matrices."
   ]
  },
  {
   "cell_type": "code",
   "execution_count": null,
   "id": "0f819672",
   "metadata": {},
   "outputs": [],
   "source": [
    "# FIXME: change the size of each identity matrix to match the\n",
    "# number of states and outputs for your observable subsystem\n",
    "\n",
    "Q = np.eye(3) # <-- one diagonal entry for each output\n",
    "R = np.eye(9) # <-- one diagonal entry for each state"
   ]
  },
  {
   "cell_type": "markdown",
   "id": "db06a314",
   "metadata": {},
   "source": [
    "Find gain matrix $L$ for the chosen $Q$ and $R$ by solving an LQR problem."
   ]
  },
  {
   "cell_type": "code",
   "execution_count": null,
   "id": "c0f4ebcf",
   "metadata": {},
   "outputs": [],
   "source": [
    "L = lqr(A_obs.T, C_obs.T, linalg.inv(R), linalg.inv(Q)).T"
   ]
  },
  {
   "cell_type": "markdown",
   "id": "ba15a210",
   "metadata": {},
   "source": [
    "Show $L$ (formatted nicely)."
   ]
  },
  {
   "cell_type": "code",
   "execution_count": null,
   "id": "80e2eef8",
   "metadata": {},
   "outputs": [],
   "source": [
    "L_str = np.array2string(L,\n",
    "                        formatter={'float_kind': lambda x: f'{x:12.6f}'},\n",
    "                        prefix='    ',\n",
    "                        max_line_width=np.inf)\n",
    "\n",
    "print(f'L = {L_str}')"
   ]
  },
  {
   "cell_type": "markdown",
   "id": "0639b66e",
   "metadata": {},
   "source": [
    "### 2.4.2 With weights chosen by model error variance"
   ]
  },
  {
   "cell_type": "markdown",
   "id": "214aa444",
   "metadata": {},
   "source": [
    "Choose weights $Q$ and $R$ based on variance of model error."
   ]
  },
  {
   "cell_type": "code",
   "execution_count": null,
   "id": "32dcb358",
   "metadata": {},
   "outputs": [],
   "source": [
    "# FIXME:\n",
    "#\n",
    "# (1) Change the size of each matrix to match the number of\n",
    "#     states and outputs for your observable subsystem\n",
    "#\n",
    "# (2) Change the value of each diagonal entry based on your\n",
    "#     results from analysis of model error variance\n",
    "\n",
    "Q = np.diag([\n",
    "    1.,             # n_x\n",
    "    1.,             # n_y\n",
    "    1.,             # r\n",
    "])\n",
    "\n",
    "R = np.diag([\n",
    "    1., # p_x\n",
    "    1., # p_y\n",
    "    1., # p_z\n",
    "    1., # psi\n",
    "    1., # theta\n",
    "    1., # phi\n",
    "    1., # v_x\n",
    "    1., # v_y\n",
    "    1., # v_z\n",
    "])"
   ]
  },
  {
   "cell_type": "markdown",
   "id": "d5b82978",
   "metadata": {},
   "source": [
    "Find gain matrix $L$ for the chosen $Q$ and $R$ by solving an LQR problem."
   ]
  },
  {
   "cell_type": "code",
   "execution_count": null,
   "id": "4ef558c3",
   "metadata": {},
   "outputs": [],
   "source": [
    "L = lqr(A_obs.T, C_obs.T, linalg.inv(R), linalg.inv(Q)).T"
   ]
  },
  {
   "cell_type": "markdown",
   "id": "0ed26d7b",
   "metadata": {},
   "source": [
    "Show $L$ (formatted nicely)."
   ]
  },
  {
   "cell_type": "code",
   "execution_count": null,
   "id": "b20a87e4",
   "metadata": {},
   "outputs": [],
   "source": [
    "L_str = np.array2string(L,\n",
    "                        formatter={'float_kind': lambda x: f'{x:12.6f}'},\n",
    "                        prefix='    ',\n",
    "                        max_line_width=np.inf)\n",
    "\n",
    "print(f'L = {L_str}')"
   ]
  },
  {
   "cell_type": "markdown",
   "id": "d12e67ad",
   "metadata": {},
   "source": [
    "# 3. Implement and test observer (offline)"
   ]
  },
  {
   "cell_type": "markdown",
   "id": "f7117dee",
   "metadata": {},
   "source": [
    "## 3.1 Load and parse flight data"
   ]
  },
  {
   "cell_type": "markdown",
   "id": "f0724a09",
   "metadata": {},
   "source": [
    "**Replace this cell** with a description of the flight trajectory, flight conditions, flight settings (e.g., what was the value of `use_controller`), etc., that produced the data `lab07_square02.json` you are using in this section."
   ]
  },
  {
   "cell_type": "markdown",
   "id": "5e4d45ee",
   "metadata": {},
   "source": [
    "Load flight data."
   ]
  },
  {
   "cell_type": "code",
   "execution_count": null,
   "id": "804304f0",
   "metadata": {},
   "outputs": [],
   "source": [
    "# Load flight data\n",
    "raw_data_drone, raw_data_mocap = load_hardware_data('lab07_square02.json')\n",
    "\n",
    "# Resample drone data\n",
    "data_drone = resample_data_drone(\n",
    "    raw_data_drone,\n",
    "    t_min_offset=0., # <-- FIXME\n",
    "    t_max_offset=0., # <-- FIXME\n",
    ")\n",
    "\n",
    "# Sync and resample mocap data\n",
    "data_mocap = sync_data_mocap(raw_data_mocap, data_drone['time'], data_drone['ae483log.p_z'])\n",
    "\n",
    "# Only look at data from when the drone was actually flying\n",
    "only_in_flight(data_drone, data_mocap=data_mocap)"
   ]
  },
  {
   "cell_type": "markdown",
   "id": "b226b542",
   "metadata": {},
   "source": [
    "Parse flight data. We label state estimates from the drone as `_default` to indicate that they come from the default observer."
   ]
  },
  {
   "cell_type": "code",
   "execution_count": null,
   "id": "3a2cd7a2",
   "metadata": {},
   "outputs": [],
   "source": [
    "# time\n",
    "t = data_drone['time']\n",
    "\n",
    "# state estimates from default observer\n",
    "p_x_default = data_drone['ae483log.p_x']\n",
    "p_y_default = data_drone['ae483log.p_y']\n",
    "p_z_default = data_drone['ae483log.p_z']\n",
    "psi_default = data_drone['ae483log.psi']\n",
    "theta_default = data_drone['ae483log.theta']\n",
    "phi_default = data_drone['ae483log.phi']\n",
    "v_x_default = data_drone['ae483log.v_x']\n",
    "v_y_default = data_drone['ae483log.v_y']\n",
    "v_z_default = data_drone['ae483log.v_z']\n",
    "\n",
    "# state estimates from the motion capture system\n",
    "p_x_mocap = data_mocap['x']\n",
    "p_y_mocap = data_mocap['y']\n",
    "p_z_mocap = data_mocap['z']\n",
    "psi_mocap = data_mocap['yaw']\n",
    "theta_mocap = data_mocap['pitch']\n",
    "phi_mocap = data_mocap['roll']"
   ]
  },
  {
   "cell_type": "markdown",
   "id": "d208de86",
   "metadata": {},
   "source": [
    "Define parameter values."
   ]
  },
  {
   "cell_type": "code",
   "execution_count": null,
   "id": "22cb2806",
   "metadata": {},
   "outputs": [],
   "source": [
    "dt = t[1] - t[0]\n",
    "print(f'dt = {dt:.4f}')\n",
    "assert(np.isclose(dt, 0.01))"
   ]
  },
  {
   "cell_type": "markdown",
   "id": "ef6b2731",
   "metadata": {},
   "source": [
    "## 3.2 Apply observer for gain matrix chosen by equal weights"
   ]
  },
  {
   "cell_type": "markdown",
   "id": "1a907f72",
   "metadata": {},
   "source": [
    "Implement and run your observer in the following code cell.\n",
    "\n",
    "For each state, the result will be a numpy array (e.g., `p_x_offline`) that contains a state estimate at every time step. We label state estimates as `_offline` to indicate that they come from a custom observer that has been implemented offline. We also label the arrays of inputs (e.g., `w_x_offline`) and outputs (e.g., `n_x_offline`) as `_offline` to indicate that they are being used by a custom observer that has been implemented offline."
   ]
  },
  {
   "cell_type": "code",
   "execution_count": null,
   "id": "f4904fd7",
   "metadata": {},
   "outputs": [],
   "source": [
    "# Get inputs\n",
    "w_x_offline = data_drone['ae483log.w_x']\n",
    "w_y_offline = data_drone['ae483log.w_y']\n",
    "w_z_offline = data_drone['ae483log.w_z']\n",
    "a_z_offline = data_drone['ae483log.a_z']\n",
    "\n",
    "# Get outputs\n",
    "n_x_offline = data_drone['ae483log.n_x']\n",
    "n_y_offline = data_drone['ae483log.n_y']\n",
    "r_offline = data_drone['ae483log.r']\n",
    "\n",
    "# Initialize estimates\n",
    "p_x = 0.\n",
    "p_y = 0.\n",
    "p_z = 0.\n",
    "psi = 0.\n",
    "theta = 0.\n",
    "phi = 0.\n",
    "v_x = 0.\n",
    "v_y = 0.\n",
    "v_z = 0.\n",
    "\n",
    "# Initialize storage (do not change)\n",
    "p_x_offline = np.zeros(len(t))\n",
    "p_y_offline = np.zeros(len(t))\n",
    "p_z_offline = np.zeros(len(t))\n",
    "psi_offline = np.zeros(len(t))\n",
    "theta_offline = np.zeros(len(t))\n",
    "phi_offline = np.zeros(len(t))\n",
    "v_x_offline = np.zeros(len(t))\n",
    "v_y_offline = np.zeros(len(t))\n",
    "v_z_offline = np.zeros(len(t))\n",
    "\n",
    "# Iterate over all time steps\n",
    "for i in range(len(t)):\n",
    "    # Get measurements (do not change)\n",
    "    w_x = w_x_offline[i]\n",
    "    w_y = w_y_offline[i]\n",
    "    w_z = w_z_offline[i]\n",
    "    a_z = a_z_offline[i]\n",
    "    n_x = n_x_offline[i]\n",
    "    n_y = n_y_offline[i]\n",
    "    r = r_offline[i]\n",
    "    \n",
    "    # Compute each element of:\n",
    "    #\n",
    "    #  C x + D u - y\n",
    "    #\n",
    "    n_x_err = 0.  # <-- FIXME\n",
    "    n_y_err = 0.  # <-- FIXME\n",
    "    r_err = 0.    # <-- FIXME\n",
    "    \n",
    "    # Update estimates\n",
    "    p_x += dt * (0.)   # <-- FIXME\n",
    "    p_y += dt * (0.)   # <-- FIXME\n",
    "    p_z += dt * (0.)   # <-- FIXME\n",
    "    psi += dt * (0.)   # <-- FIXME\n",
    "    theta += dt * (0.) # <-- FIXME\n",
    "    phi += dt * (0.)   # <-- FIXME\n",
    "    v_x += dt * (0.)   # <-- FIXME\n",
    "    v_y += dt * (0.)   # <-- FIXME\n",
    "    v_z += dt * (0.)   # <-- FIXME\n",
    "    \n",
    "    # Store estimates (do not change)\n",
    "    p_x_offline[i] = p_x\n",
    "    p_y_offline[i] = p_y\n",
    "    p_z_offline[i] = p_z\n",
    "    psi_offline[i] = psi\n",
    "    theta_offline[i] = theta\n",
    "    phi_offline[i] = phi\n",
    "    v_x_offline[i] = v_x\n",
    "    v_y_offline[i] = v_y\n",
    "    v_z_offline[i] = v_z"
   ]
  },
  {
   "cell_type": "markdown",
   "id": "14f8dc35",
   "metadata": {},
   "source": [
    "Compute error in each state estimate (relative to state estimates produced by the default observer and logged during the flight test)."
   ]
  },
  {
   "cell_type": "code",
   "execution_count": null,
   "id": "92e750bb",
   "metadata": {},
   "outputs": [],
   "source": [
    "p_x_err = p_x_offline - p_x_default\n",
    "p_y_err = p_y_offline - p_y_default\n",
    "p_z_err = p_z_offline - p_z_default\n",
    "psi_err = psi_offline - psi_default\n",
    "theta_err = theta_offline - theta_default\n",
    "phi_err = phi_offline - phi_default\n",
    "v_x_err = v_x_offline - v_x_default\n",
    "v_y_err = v_y_offline - v_y_default\n",
    "v_z_err = v_z_offline - v_z_default"
   ]
  },
  {
   "cell_type": "markdown",
   "id": "760c4fcd",
   "metadata": {},
   "source": [
    "Compare estimates with those produced by (1) the default observer and (2) the motion capture system."
   ]
  },
  {
   "cell_type": "code",
   "execution_count": null,
   "id": "988ef890",
   "metadata": {},
   "outputs": [],
   "source": [
    "def comparison_plot(t, s_offline, s_default, name, ax, s_mocap=None):\n",
    "    ax.plot(t, s_offline, label=f'{name} (custom observer - offline)', linewidth=3)\n",
    "    ax.plot(t, s_default, '--', label=f'{name} (default observer)', linewidth=2)\n",
    "    if s_mocap is not None:\n",
    "        ax.plot(t, s_mocap, ':', label=f'{name} (mocap)', linewidth=4)\n",
    "    ax.legend()\n",
    "    ax.grid()\n",
    "\n",
    "fig, (ax_p_x,\n",
    "      ax_p_y,\n",
    "      ax_p_z,\n",
    "      ax_psi,\n",
    "      ax_theta,\n",
    "      ax_phi,\n",
    "      ax_v_x,\n",
    "      ax_v_y,\n",
    "      ax_v_z) = plt.subplots(9, 1, figsize=(15, 25), sharex=True)\n",
    "comparison_plot(t, p_x_offline, p_x_default, 'p_x', ax_p_x, s_mocap=p_x_mocap)\n",
    "comparison_plot(t, p_y_offline, p_y_default, 'p_y', ax_p_y, s_mocap=p_y_mocap)\n",
    "comparison_plot(t, p_z_offline, p_z_default, 'p_z', ax_p_z, s_mocap=p_z_mocap)\n",
    "comparison_plot(t, psi_offline, psi_default, 'psi', ax_psi, s_mocap=psi_mocap)\n",
    "comparison_plot(t, theta_offline, theta_default, 'theta', ax_theta, s_mocap=theta_mocap)\n",
    "comparison_plot(t, phi_offline, phi_default, 'phi', ax_phi, s_mocap=phi_mocap)\n",
    "comparison_plot(t, v_x_offline, v_x_default, 'v_x', ax_v_x)\n",
    "comparison_plot(t, v_y_offline, v_y_default, 'v_y', ax_v_y)\n",
    "comparison_plot(t, v_z_offline, v_z_default, 'v_z', ax_v_z)\n",
    "ax_v_z.set_xlabel('time (s)')\n",
    "plt.show()"
   ]
  },
  {
   "cell_type": "markdown",
   "id": "34c65ac4",
   "metadata": {},
   "source": [
    "Plot error in each state estimate with respect to ground truth."
   ]
  },
  {
   "cell_type": "code",
   "execution_count": null,
   "id": "fffdc60b",
   "metadata": {},
   "outputs": [],
   "source": [
    "def error_plot(t, s_err, name, ax):\n",
    "    ax.plot(t, s_err, label=f'{name} (error)', linewidth=3)\n",
    "    ax.legend()\n",
    "    ax.grid()\n",
    "\n",
    "fig, (ax_p_x,\n",
    "      ax_p_y,\n",
    "      ax_p_z,\n",
    "      ax_psi,\n",
    "      ax_theta,\n",
    "      ax_phi,\n",
    "      ax_v_x,\n",
    "      ax_v_y,\n",
    "      ax_v_z) = plt.subplots(9, 1, figsize=(15, 25), sharex=True)\n",
    "error_plot(t, p_x_err, 'p_x', ax_p_x)\n",
    "error_plot(t, p_y_err, 'p_y', ax_p_y)\n",
    "error_plot(t, p_z_err, 'p_z', ax_p_z)\n",
    "error_plot(t, psi_err, 'psi', ax_psi)\n",
    "error_plot(t, theta_err, 'theta', ax_theta)\n",
    "error_plot(t, phi_err, 'phi', ax_phi)\n",
    "error_plot(t, v_x_err, 'v_x', ax_v_x)\n",
    "error_plot(t, v_y_err, 'v_y', ax_v_y)\n",
    "error_plot(t, v_z_err, 'v_z', ax_v_z)\n",
    "ax_v_z.set_xlabel('time (s)')\n",
    "plt.show()"
   ]
  },
  {
   "cell_type": "markdown",
   "id": "48b1352b",
   "metadata": {},
   "source": [
    "Plot histogram of errors in each state estimate."
   ]
  },
  {
   "cell_type": "code",
   "execution_count": null,
   "id": "385f864d",
   "metadata": {},
   "outputs": [],
   "source": [
    "def histogram_plot(t, s_err, name, ax):\n",
    "    label = f'Error in estimate of {name} ' + \\\n",
    "            f'(RMSE = {np.sqrt(np.mean(s_err**2)):6.3f}, ' + \\\n",
    "            f'mean = {np.mean(s_err):6.3f}, ' + \\\n",
    "            f'std = {np.std(s_err):6.3f})'\n",
    "    ax.hist(s_err, 50, label=label)\n",
    "    ax.legend(fontsize=14)\n",
    "\n",
    "fig, (ax_p_x,\n",
    "      ax_p_y,\n",
    "      ax_p_z,\n",
    "      ax_psi,\n",
    "      ax_theta,\n",
    "      ax_phi,\n",
    "      ax_v_x,\n",
    "      ax_v_y,\n",
    "      ax_v_z) = plt.subplots(9, 1, figsize=(15, 25))\n",
    "histogram_plot(t, p_x_err, 'p_x', ax_p_x)\n",
    "histogram_plot(t, p_y_err, 'p_y', ax_p_y)\n",
    "histogram_plot(t, p_z_err, 'p_z', ax_p_z)\n",
    "histogram_plot(t, psi_err, 'psi', ax_psi)\n",
    "histogram_plot(t, theta_err, 'theta', ax_theta)\n",
    "histogram_plot(t, phi_err, 'phi', ax_phi)\n",
    "histogram_plot(t, v_x_err, 'v_x', ax_v_x)\n",
    "histogram_plot(t, v_y_err, 'v_y', ax_v_y)\n",
    "histogram_plot(t, v_z_err, 'v_z', ax_v_z)\n",
    "fig.tight_layout()\n",
    "plt.show()"
   ]
  },
  {
   "cell_type": "markdown",
   "id": "7557007b",
   "metadata": {},
   "source": [
    "## 3.3 Apply observer for gain matrix chosen by weights from model error variance"
   ]
  },
  {
   "cell_type": "markdown",
   "id": "6403c2be",
   "metadata": {},
   "source": [
    "**FIXME.** Copy all cells from Section 3.2 here. Then, modify your observer implementation to use weights $Q$ and $R$ chosen by looking at model error variance."
   ]
  },
  {
   "cell_type": "markdown",
   "id": "ceedcdf4",
   "metadata": {},
   "source": [
    "## 3.4 Summary and discussion"
   ]
  },
  {
   "cell_type": "markdown",
   "id": "bbf0dedf",
   "metadata": {},
   "source": [
    "The following table reports the RMSE in each state estimate:\n",
    "\n",
    "|  | $p_x$ | $p_y$ | $p_z$ | $\\psi$ | $\\theta$ | $\\phi$ | $v_x$ | $v_y$ | $v_z$ |\n",
    "| --: | :--: | :--: | :--: | :--: | :--: | :--: | :--: | :--: | :--: |\n",
    "| RMSE with equal weights | 0.001 | 0.002 | 0.003 | 0.004 | 0.005 | 0.006 | 0.007 | 0.008 | 0.009 |\n",
    "| RMSE with weights from error model variance | 0.001 | 0.002 | 0.003 | 0.004 | 0.005 | 0.006 | 0.007 | 0.008 | 0.009 |"
   ]
  },
  {
   "cell_type": "markdown",
   "id": "53b74036",
   "metadata": {},
   "source": [
    "**Modify the text in this cell** to answer the following questions:\n",
    "\n",
    "* Which observer performs better, the one derived from equal weights or the one derived from weights based on error model variance? Why? (Make reference to your table of results when answering this question.)\n",
    "* Is there a difference in what happens to the error in your estimate of (1) observable states and (2) non-observable states over time? Why? (Make reference to your plots when answering this question.)\n",
    "* We have defined \"error\" as the difference between the state estimates from your custom observer (implemented offline) and the state estimates from the default observer. Are the state estimates from the default observer really correct? To what extent are any of these estimates the same as what you get from the motion capture system? (Think about the difference between observable and non-observable states when answering this question.)"
   ]
  }
 ],
 "metadata": {
  "kernelspec": {
   "display_name": "ae483",
   "language": "python",
   "name": "python3"
  },
  "language_info": {
   "codemirror_mode": {
    "name": "ipython",
    "version": 3
   },
   "file_extension": ".py",
   "mimetype": "text/x-python",
   "name": "python",
   "nbconvert_exporter": "python",
   "pygments_lexer": "ipython3",
   "version": "3.12.4"
  }
 },
 "nbformat": 4,
 "nbformat_minor": 5
}
