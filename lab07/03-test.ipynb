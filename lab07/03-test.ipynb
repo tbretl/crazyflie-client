{
 "cells": [
  {
   "cell_type": "markdown",
   "id": "f4233d19",
   "metadata": {},
   "source": [
    "# 1. Set up the notebook"
   ]
  },
  {
   "cell_type": "markdown",
   "id": "38bcc561",
   "metadata": {},
   "source": [
    "Do imports."
   ]
  },
  {
   "cell_type": "code",
   "execution_count": null,
   "id": "ee488f94",
   "metadata": {},
   "outputs": [],
   "source": [
    "import numpy as np\n",
    "import sympy as sym\n",
    "import json\n",
    "import matplotlib.pyplot as plt\n",
    "from IPython.display import display, IFrame, HTML\n",
    "from ae483tools import *"
   ]
  },
  {
   "cell_type": "markdown",
   "id": "0b1f10c1",
   "metadata": {},
   "source": [
    "Define a function to compute RMSE."
   ]
  },
  {
   "cell_type": "code",
   "execution_count": null,
   "id": "c0492be0",
   "metadata": {},
   "outputs": [],
   "source": [
    "def rmse(x, y):\n",
    "    return np.sqrt(np.mean((x - y)**2))"
   ]
  },
  {
   "cell_type": "markdown",
   "id": "82e9ea70",
   "metadata": {},
   "source": [
    "Define a function to embed videos that have been uploaded to [Illinois Mediaspace](https://mediaspace.illinois.edu/)."
   ]
  },
  {
   "cell_type": "code",
   "execution_count": null,
   "id": "372fa4d3",
   "metadata": {},
   "outputs": [],
   "source": [
    "def mediaspace(url, width=640, height=397):\n",
    "    video_id = url.rsplit('/', 1)[-1]\n",
    "    src = f'https://mediaspace.illinois.edu/embed/secure/iframe/entryId/{video_id}?st=0'\n",
    "    display(IFrame(src, width=width, height=height))\n",
    "    display(HTML(f'<a href=\"{url}\" target=\"_blank\">Go to video on Illinois Mediaspace</a>'))"
   ]
  },
  {
   "cell_type": "markdown",
   "id": "11d28121",
   "metadata": {},
   "source": [
    "Define the rotation matrix $R^W_B$ as a function of the yaw angle $\\psi$, the pitch angle $\\theta$, and the roll angle $\\phi$."
   ]
  },
  {
   "cell_type": "code",
   "execution_count": null,
   "id": "4fdb8495",
   "metadata": {},
   "outputs": [],
   "source": [
    "# Define symbolic variables\n",
    "psi, theta, phi = sym.symbols('psi, theta, phi')\n",
    "\n",
    "# Define rotation about the body-fixed z axis by psi\n",
    "Rz = sym.Matrix([[sym.cos(psi), -sym.sin(psi), 0],\n",
    "                 [sym.sin(psi), sym.cos(psi), 0],\n",
    "                 [0, 0, 1]])\n",
    "\n",
    "# Define rotation about the body-fixed y axis by theta\n",
    "Ry = sym.Matrix([[sym.cos(theta), 0, sym.sin(theta)],\n",
    "                 [0, 1, 0],\n",
    "                 [-sym.sin(theta), 0, sym.cos(theta)]])\n",
    "\n",
    "# Define rotation about the body-fixed x axis by phi\n",
    "Rx = sym.Matrix([[1, 0, 0],\n",
    "                 [0, sym.cos(phi), -sym.sin(phi)],\n",
    "                 [0, sym.sin(phi), sym.cos(phi)]])\n",
    "\n",
    "# Apply sequential transformation to compute the rotation\n",
    "# matrix R_inW_ofB that describes the orientation of the drone\n",
    "# (i.e., of frame B in the coordinates of frame W)\n",
    "R_inW_ofB = Rz @ Ry @ Rx\n",
    "\n",
    "# Create a function that returns R_inW_ofB as a numpy array\n",
    "# given particular values of yaw, pitch, and roll\n",
    "R_inW_ofB = sym.lambdify((psi, theta, phi), R_inW_ofB)\n",
    "\n",
    "# Delete variables that are no longer needed\n",
    "del psi, theta, phi, Rz, Ry, Rx"
   ]
  },
  {
   "cell_type": "markdown",
   "id": "8be059ef",
   "metadata": {},
   "source": [
    "Load the parameter values $g$, $k_\\text{flow}$, and $p_{z,\\text{eq}}$."
   ]
  },
  {
   "cell_type": "code",
   "execution_count": null,
   "id": "ebdfbd00",
   "metadata": {},
   "outputs": [],
   "source": [
    "# Load model\n",
    "with open('model.json', 'r') as f:\n",
    "    model = json.load(f)\n",
    "\n",
    "# Parse model\n",
    "g = model['g']\n",
    "k_flow = model['k_flow']\n",
    "p_z_eq = model['p_z_eq']\n",
    "\n",
    "# Show model\n",
    "print(f'g      = {g:7.4f}')\n",
    "print(f'k_flow = {k_flow:7.4f}')\n",
    "print(f'p_z_eq = {p_z_eq:7.4f}')"
   ]
  },
  {
   "cell_type": "markdown",
   "id": "c7c656ce",
   "metadata": {},
   "source": [
    "# 2. Flight tests to debug observer implementation"
   ]
  },
  {
   "cell_type": "markdown",
   "id": "1e5f3e53",
   "metadata": {},
   "source": [
    "## 2.1 Take-off test"
   ]
  },
  {
   "cell_type": "markdown",
   "id": "9623f445",
   "metadata": {},
   "source": [
    "**FIXME: REPLACE THIS CELL WITH THE USUAL DESCRIPTION OF YOUR FLIGHT TEST.**"
   ]
  },
  {
   "cell_type": "markdown",
   "id": "b42c9f55",
   "metadata": {},
   "source": [
    "Load flight data."
   ]
  },
  {
   "cell_type": "code",
   "execution_count": null,
   "id": "df95f6dc",
   "metadata": {},
   "outputs": [],
   "source": [
    "# Load flight data\n",
    "raw_data_drone, raw_data_mocap = load_hardware_data('lab08_takeoff_01.json')\n",
    "\n",
    "# Resample drone data\n",
    "data_drone = resample_data_drone(\n",
    "    raw_data_drone,\n",
    "    t_min_offset=0., # <-- FIXME\n",
    "    t_max_offset=0., # <-- FIXME\n",
    ")"
   ]
  },
  {
   "cell_type": "markdown",
   "id": "a5f3b84d",
   "metadata": {},
   "source": [
    "Parse flight data:\n",
    "* Estimates from the custom observer implemented online are labled `_custom`.\n",
    "* Estimates from the default observer are labeled `_default`."
   ]
  },
  {
   "cell_type": "code",
   "execution_count": null,
   "id": "247dce58",
   "metadata": {},
   "outputs": [],
   "source": [
    "# time\n",
    "t = data_drone['time']\n",
    "\n",
    "# state estimates from custom observer\n",
    "p_x_custom = data_drone['ae483log.p_x']\n",
    "p_y_custom = data_drone['ae483log.p_y']\n",
    "p_z_custom = data_drone['ae483log.p_z']\n",
    "psi_custom = data_drone['ae483log.psi']\n",
    "theta_custom = data_drone['ae483log.theta']\n",
    "phi_custom = data_drone['ae483log.phi']\n",
    "v_x_custom = data_drone['ae483log.v_x']\n",
    "v_y_custom = data_drone['ae483log.v_y']\n",
    "v_z_custom = data_drone['ae483log.v_z']\n",
    "\n",
    "# state estimates from default observer\n",
    "p_x_default = data_drone['stateEstimate.x']\n",
    "p_y_default = data_drone['stateEstimate.y']\n",
    "p_z_default = data_drone['stateEstimate.z']\n",
    "psi_default = np.deg2rad(data_drone['stateEstimate.yaw'])\n",
    "theta_default = - np.deg2rad(data_drone['stateEstimate.pitch'])\n",
    "phi_default = np.deg2rad(data_drone['stateEstimate.roll'])\n",
    "v_x_inW_default = data_drone['stateEstimate.vx']    # <-- WARNING: in world frame\n",
    "v_y_inW_default = data_drone['stateEstimate.vy']    # <-- WARNING: in world frame\n",
    "v_z_inW_default = data_drone['stateEstimate.vz']    # <-- WARNING: in world frame\n",
    "\n",
    "# desired position\n",
    "p_x_des = data_drone['ae483log.p_x_des']\n",
    "p_y_des = data_drone['ae483log.p_y_des']\n",
    "p_z_des = data_drone['ae483log.p_z_des']"
   ]
  },
  {
   "cell_type": "markdown",
   "id": "abf84a31",
   "metadata": {},
   "source": [
    "Convert the estimates of linear velocity that come from the default observer from the world frame (i.e., frame $W$) to the body frame (i.e., frame $B$) by applying the following coordinate transformation at each time step:\n",
    "\n",
    "$$v_{W, B}^B = \\left(R_B^W\\right)^T v_{W, B}^W.$$\n",
    "\n",
    "This is necessary in order to compare the estimates of linear velocity that come from the default observer to the estimates of linear velocity that come from your custom observer."
   ]
  },
  {
   "cell_type": "code",
   "execution_count": null,
   "id": "4a644ca7",
   "metadata": {},
   "outputs": [],
   "source": [
    "# Create empty numpy arrays to hold the results\n",
    "v_x_default = np.empty_like(v_x_inW_default)\n",
    "v_y_default = np.empty_like(v_y_inW_default)\n",
    "v_z_default = np.empty_like(v_z_inW_default)\n",
    "\n",
    "# Apply coordinate transformation at each time step\n",
    "for i in range(0, len(t)):\n",
    "    # Get v in frame W at i'th time step from its components\n",
    "    v_inW = np.array([\n",
    "        v_x_inW_default[i],\n",
    "        v_y_inW_default[i],\n",
    "        v_z_inW_default[i],\n",
    "    ])\n",
    "    \n",
    "    # Get v in frame B at i'th time step by coordinate transformation\n",
    "    v_inB = R_inW_ofB(psi_default[i], theta_default[i], phi_default[i]).T @ v_inW\n",
    "    \n",
    "    # Get components of v in frame 1 at i'th time step\n",
    "    v_x_default[i] = v_inB[0]\n",
    "    v_y_default[i] = v_inB[1]\n",
    "    v_z_default[i] = v_inB[2]"
   ]
  },
  {
   "cell_type": "markdown",
   "id": "e5a3c7b8",
   "metadata": {},
   "source": [
    "Apply offline implementation of custom observer.\n",
    "\n",
    "**FIXME: If the observer you are implementing offline (here) is different from the observer you implemented online (in firmware, to produce this flight test), then replace this cell with a description of what you changed (e.g., weights) and why.**"
   ]
  },
  {
   "cell_type": "code",
   "execution_count": null,
   "id": "2f8b8004",
   "metadata": {},
   "outputs": [],
   "source": [
    "# FIXME - copy/paste the offline implementation of your custom observer from the design notebook here"
   ]
  },
  {
   "cell_type": "markdown",
   "id": "cb163b38",
   "metadata": {},
   "source": [
    "Compare state estimates from default and custom observers."
   ]
  },
  {
   "cell_type": "code",
   "execution_count": null,
   "id": "21b46f1a",
   "metadata": {},
   "outputs": [],
   "source": [
    "def comparison_plot(t, s_custom, s_default, s_offline, name, ax, s_des=None):\n",
    "    ax.plot(t, s_custom, label=f'{name} (custom observer - online)', linewidth=2)\n",
    "    ax.plot(t, s_offline, '--', label=f'{name} (custom observer - offline)', linewidth=3)\n",
    "    ax.plot(t, s_default, ':', label=f'{name} (default observer)', linewidth=4)\n",
    "    if s_des is not None:\n",
    "        ax.plot(t, s_des, '-.', label=f'{name} (desired)', linewidth=2)\n",
    "    ax.legend()\n",
    "    ax.grid()\n",
    "\n",
    "fig, (ax_p_x,\n",
    "      ax_p_y,\n",
    "      ax_p_z,\n",
    "      ax_psi,\n",
    "      ax_theta,\n",
    "      ax_phi,\n",
    "      ax_v_x,\n",
    "      ax_v_y,\n",
    "      ax_v_z) = plt.subplots(9, 1, figsize=(15, 25), sharex=True, tight_layout=True)\n",
    "\n",
    "comparison_plot(t, p_x_custom, p_x_default, p_x_offline, 'p_x', ax_p_x, s_des=p_x_des)\n",
    "comparison_plot(t, p_y_custom, p_y_default, p_y_offline, 'p_y', ax_p_y, s_des=p_y_des)\n",
    "comparison_plot(t, p_z_custom, p_z_default, p_z_offline, 'p_z', ax_p_z, s_des=p_z_des)\n",
    "comparison_plot(t, psi_custom, psi_default, psi_offline, 'psi', ax_psi)\n",
    "comparison_plot(t, theta_custom, theta_default, theta_offline, 'theta', ax_theta)\n",
    "comparison_plot(t, phi_custom, phi_default, phi_offline, 'phi', ax_phi)\n",
    "comparison_plot(t, v_x_custom, v_x_default, v_x_offline, 'v_x', ax_v_x)\n",
    "comparison_plot(t, v_y_custom, v_y_default, v_y_offline, 'v_y', ax_v_y)\n",
    "comparison_plot(t, v_z_custom, v_z_default, v_z_offline, 'v_z', ax_v_z)\n",
    "ax_v_z.set_xlabel('time (s)')\n",
    "\n",
    "ax_p_x.set_ylim([-0.2, 0.2])\n",
    "ax_p_y.set_ylim([-0.2, 0.2])\n",
    "ax_p_z.set_ylim([-0.05, 0.25])\n",
    "ax_psi.set_ylim([-0.1, 0.1])\n",
    "ax_theta.set_ylim([-0.25, 0.25])\n",
    "ax_phi.set_ylim([-0.25, 0.25])\n",
    "ax_v_x.set_ylim([-0.6, 0.6])\n",
    "ax_v_y.set_ylim([-0.6, 0.6])\n",
    "ax_v_z.set_ylim([-0.5, 0.5])\n",
    "\n",
    "plt.show()"
   ]
  },
  {
   "cell_type": "markdown",
   "id": "34de016b",
   "metadata": {},
   "source": [
    "# 3. Flight tests to compare performance at hover"
   ]
  },
  {
   "cell_type": "markdown",
   "id": "13ce7e6b",
   "metadata": {},
   "source": [
    "Define colors and styles for all plots."
   ]
  },
  {
   "cell_type": "code",
   "execution_count": null,
   "id": "45104032",
   "metadata": {},
   "outputs": [],
   "source": [
    "mocap_color = 'C0'\n",
    "mocap_linestyle = '-'\n",
    "mocap_linewidth = 2\n",
    "\n",
    "default_color = 'C1'\n",
    "default_linestyle = '--'\n",
    "default_linewidth = 2\n",
    "\n",
    "desired_color = 'C2'\n",
    "desired_linestyle = ':'\n",
    "desired_linewidth = 4\n",
    "\n",
    "custom_color = 'C3'\n",
    "custom_linestyle = '-.'\n",
    "custom_linewidth = 3"
   ]
  },
  {
   "cell_type": "markdown",
   "id": "ec950662",
   "metadata": {},
   "source": [
    "## 3.1 Hover with default controller and observer"
   ]
  },
  {
   "cell_type": "markdown",
   "id": "9ce42509",
   "metadata": {},
   "source": [
    "**FIXME: REPLACE THIS CELL WITH THE USUAL DESCRIPTION OF YOUR FLIGHT TEST.**"
   ]
  },
  {
   "cell_type": "markdown",
   "id": "9029db4e",
   "metadata": {},
   "source": [
    "Check mocap coverage."
   ]
  },
  {
   "cell_type": "code",
   "execution_count": null,
   "id": "9b405be5",
   "metadata": {},
   "outputs": [],
   "source": [
    "check_mocap_coverage('lab08_hover_default_default.json')"
   ]
  },
  {
   "cell_type": "markdown",
   "id": "3a302be3",
   "metadata": {},
   "source": [
    "Load flight data."
   ]
  },
  {
   "cell_type": "code",
   "execution_count": null,
   "id": "7a25ba58",
   "metadata": {},
   "outputs": [],
   "source": [
    "# Load flight data\n",
    "raw_data_drone, raw_data_mocap = load_hardware_data('lab08_hover_default_default.json')\n",
    "\n",
    "# Resample drone data\n",
    "data_drone = resample_data_drone(\n",
    "    raw_data_drone,\n",
    "    t_min_offset=0., # <-- FIXME\n",
    "    t_max_offset=0., # <-- FIXME\n",
    ")\n",
    "\n",
    "# Sync and resample mocap data\n",
    "data_mocap = sync_data_mocap(raw_data_mocap, data_drone['time'], data_drone['stateEstimate.z'])\n",
    "\n",
    "# Only look at data from the middle 10 seconds of when the drone was actually flying\n",
    "only_in_flight(data_drone, data_mocap=data_mocap, t_interval=10.)"
   ]
  },
  {
   "cell_type": "markdown",
   "id": "65416832",
   "metadata": {},
   "source": [
    "Parse flight data.\n",
    "\n",
    "Note that we have to get the desired position from `ctrltarget.x`, `ctrltarget.y`, and `ctrltarget.z` when the default controller is running. This is because `ae483log.p_x_des`, `ae483log.p_y_des`, and `ae483log.p_z_des` are only set when the custom controller is running."
   ]
  },
  {
   "cell_type": "code",
   "execution_count": null,
   "id": "83f68df1",
   "metadata": {},
   "outputs": [],
   "source": [
    "# time\n",
    "t = data_drone['time']\n",
    "\n",
    "# position and orientation from default observer\n",
    "p_x_default = data_drone['stateEstimate.x']\n",
    "p_y_default = data_drone['stateEstimate.y']\n",
    "p_z_default = data_drone['stateEstimate.z']\n",
    "psi_default = np.deg2rad(data_drone['stateEstimate.yaw'])\n",
    "theta_default = - np.deg2rad(data_drone['stateEstimate.pitch'])\n",
    "phi_default = np.deg2rad(data_drone['stateEstimate.roll'])\n",
    "\n",
    "# position and orientation from the motion capture system\n",
    "p_x_mocap = data_mocap['x']\n",
    "p_y_mocap = data_mocap['y']\n",
    "p_z_mocap = data_mocap['z']\n",
    "psi_mocap = data_mocap['yaw']\n",
    "theta_mocap = data_mocap['pitch']\n",
    "phi_mocap = data_mocap['roll']\n",
    "\n",
    "# desired position\n",
    "p_x_des = data_drone['ctrltarget.x']\n",
    "p_y_des = data_drone['ctrltarget.y']\n",
    "p_z_des = data_drone['ctrltarget.z']"
   ]
  },
  {
   "cell_type": "markdown",
   "id": "1f302019",
   "metadata": {},
   "source": [
    "Plot position, desired position, and orientation."
   ]
  },
  {
   "cell_type": "code",
   "execution_count": null,
   "id": "e87fd6e4",
   "metadata": {},
   "outputs": [],
   "source": [
    "def comparison_plot(t, s_default, s_mocap, name, ax, s_des=None):\n",
    "    ax.plot(t, s_default, label=f'{name} (default)',\n",
    "            color=default_color, linestyle=default_linestyle, linewidth=default_linewidth)\n",
    "    ax.plot(t, s_mocap, label=f'{name} (mocap)',\n",
    "            color=mocap_color, linestyle=mocap_linestyle, linewidth=mocap_linewidth)\n",
    "    if s_des is not None:\n",
    "        ax.plot(t, s_des, label=f'{name} (desired)',\n",
    "                color=desired_color, linestyle=desired_linestyle, linewidth=desired_linewidth)\n",
    "    ax.legend()\n",
    "    ax.grid()\n",
    "\n",
    "fig, (ax_p_x,\n",
    "      ax_p_y,\n",
    "      ax_p_z,\n",
    "      ax_psi,\n",
    "      ax_theta,\n",
    "      ax_phi) = plt.subplots(6, 1, figsize=(15, 18), sharex=True, tight_layout=True)\n",
    "comparison_plot(t, p_x_default, p_x_mocap, 'p_x', ax_p_x, s_des=p_x_des)\n",
    "comparison_plot(t, p_y_default, p_y_mocap, 'p_y', ax_p_y, s_des=p_y_des)\n",
    "comparison_plot(t, p_z_default, p_z_mocap, 'p_z', ax_p_z, s_des=p_z_des)\n",
    "comparison_plot(t, psi_default, psi_mocap, 'psi', ax_psi)\n",
    "comparison_plot(t, theta_default, theta_mocap, 'theta', ax_theta)\n",
    "comparison_plot(t, phi_default, phi_mocap, 'phi', ax_phi)\n",
    "ax_phi.set_xlabel('time (s)')\n",
    "ax_p_x.set_ylim([-0.2, 0.2])\n",
    "ax_p_y.set_ylim([-0.2, 0.2])\n",
    "ax_p_z.set_ylim([0.3, 0.7])\n",
    "ax_psi.set_ylim([-0.1, 0.1])\n",
    "ax_theta.set_ylim([-0.1, 0.1])\n",
    "ax_phi.set_ylim([-0.1, 0.1])\n",
    "plt.show()"
   ]
  },
  {
   "cell_type": "markdown",
   "id": "0ba89dbd",
   "metadata": {},
   "source": [
    "Compute RMSE between states (from default observer) and their desired values."
   ]
  },
  {
   "cell_type": "code",
   "execution_count": null,
   "id": "5941ae5e",
   "metadata": {},
   "outputs": [],
   "source": [
    "print(f'RMSE from t={t[0]} to t={t[-1]} (using estimates from default observer):')\n",
    "print(f' p_x:   {rmse(p_x_default, p_x_des):7.3f}')\n",
    "print(f' p_y:   {rmse(p_y_default, p_y_des):7.3f}')\n",
    "print(f' p_z:   {rmse(p_z_default, p_z_des):7.3f}')\n",
    "print(f' psi:   {rmse(psi_default, 0.):7.3f}')\n",
    "print(f' theta: {rmse(theta_default, 0.):7.3f}')\n",
    "print(f' phi:   {rmse(phi_default, 0.):7.3f}')"
   ]
  },
  {
   "cell_type": "markdown",
   "id": "d0bb06bc",
   "metadata": {},
   "source": [
    "Compute RMSE between states (from mocap) and their desired values."
   ]
  },
  {
   "cell_type": "code",
   "execution_count": null,
   "id": "63a5dd0b",
   "metadata": {},
   "outputs": [],
   "source": [
    "print(f'RMSE from t={t[0]} to t={t[-1]} (using estimates from mocap):')\n",
    "print(f' p_x:   {rmse(p_x_mocap, p_x_des):7.3f}')\n",
    "print(f' p_y:   {rmse(p_y_mocap, p_y_des):7.3f}')\n",
    "print(f' p_z:   {rmse(p_z_mocap, p_z_des):7.3f}')\n",
    "print(f' psi:   {rmse(psi_mocap, 0.):7.3f}')\n",
    "print(f' theta: {rmse(theta_mocap, 0.):7.3f}')\n",
    "print(f' phi:   {rmse(phi_mocap, 0.):7.3f}')"
   ]
  },
  {
   "cell_type": "markdown",
   "id": "fa19f2f7",
   "metadata": {},
   "source": [
    "## 3.2 Hover with custom controller and default observer"
   ]
  },
  {
   "cell_type": "markdown",
   "id": "10f9dbbd",
   "metadata": {},
   "source": [
    "**FIXME: REPLACE THIS CELL WITH THE USUAL DESCRIPTION OF YOUR FLIGHT TEST.**"
   ]
  },
  {
   "cell_type": "markdown",
   "id": "d0d64e58",
   "metadata": {},
   "source": [
    "Check mocap coverage."
   ]
  },
  {
   "cell_type": "code",
   "execution_count": null,
   "id": "38fe0426",
   "metadata": {},
   "outputs": [],
   "source": [
    "check_mocap_coverage('lab08_hover_custom_default.json')"
   ]
  },
  {
   "cell_type": "markdown",
   "id": "979556bf",
   "metadata": {},
   "source": [
    "Load flight data."
   ]
  },
  {
   "cell_type": "code",
   "execution_count": null,
   "id": "efad33e6",
   "metadata": {},
   "outputs": [],
   "source": [
    "# Load flight data\n",
    "raw_data_drone, raw_data_mocap = load_hardware_data('lab08_hover_custom_default.json')\n",
    "\n",
    "# Resample drone data\n",
    "data_drone = resample_data_drone(\n",
    "    raw_data_drone,\n",
    "    t_min_offset=0., # <-- FIXME\n",
    "    t_max_offset=0., # <-- FIXME\n",
    ")\n",
    "\n",
    "# Sync and resample mocap data\n",
    "data_mocap = sync_data_mocap(raw_data_mocap, data_drone['time'], data_drone['ae483log.p_z'])\n",
    "\n",
    "# Only look at data from the middle 10 seconds of when the drone was actually flying\n",
    "only_in_flight(data_drone, data_mocap=data_mocap, t_interval=10.)"
   ]
  },
  {
   "cell_type": "markdown",
   "id": "394b2251",
   "metadata": {},
   "source": [
    "Parse flight data."
   ]
  },
  {
   "cell_type": "code",
   "execution_count": null,
   "id": "6f846ce8",
   "metadata": {},
   "outputs": [],
   "source": [
    "# time\n",
    "t = data_drone['time']\n",
    "\n",
    "# position and orientation from default observer\n",
    "p_x_default = data_drone['ae483log.p_x']\n",
    "p_y_default = data_drone['ae483log.p_y']\n",
    "p_z_default = data_drone['ae483log.p_z']\n",
    "psi_default = data_drone['ae483log.psi']\n",
    "theta_default = data_drone['ae483log.theta']\n",
    "phi_default = data_drone['ae483log.phi']\n",
    "\n",
    "# position and orientation from the motion capture system\n",
    "p_x_mocap = data_mocap['x']\n",
    "p_y_mocap = data_mocap['y']\n",
    "p_z_mocap = data_mocap['z']\n",
    "psi_mocap = data_mocap['yaw']\n",
    "theta_mocap = data_mocap['pitch']\n",
    "phi_mocap = data_mocap['roll']\n",
    "\n",
    "# desired position\n",
    "p_x_des = data_drone['ae483log.p_x_des']\n",
    "p_y_des = data_drone['ae483log.p_y_des']\n",
    "p_z_des = data_drone['ae483log.p_z_des']"
   ]
  },
  {
   "cell_type": "markdown",
   "id": "e94961ea",
   "metadata": {},
   "source": [
    "Plot position, desired position, and orientation."
   ]
  },
  {
   "cell_type": "code",
   "execution_count": null,
   "id": "acd63d55",
   "metadata": {},
   "outputs": [],
   "source": [
    "def comparison_plot(t, s_default, s_mocap, name, ax, s_des=None):\n",
    "    ax.plot(t, s_default, label=f'{name} (default)',\n",
    "            color=default_color, linestyle=default_linestyle, linewidth=default_linewidth)\n",
    "    ax.plot(t, s_mocap, label=f'{name} (mocap)',\n",
    "            color=mocap_color, linestyle=mocap_linestyle, linewidth=mocap_linewidth)\n",
    "    if s_des is not None:\n",
    "        ax.plot(t, s_des, label=f'{name} (desired)',\n",
    "                color=desired_color, linestyle=desired_linestyle, linewidth=desired_linewidth)\n",
    "    ax.legend()\n",
    "    ax.grid()\n",
    "\n",
    "fig, (ax_p_x,\n",
    "      ax_p_y,\n",
    "      ax_p_z,\n",
    "      ax_psi,\n",
    "      ax_theta,\n",
    "      ax_phi) = plt.subplots(6, 1, figsize=(15, 18), sharex=True)\n",
    "comparison_plot(t, p_x_default, p_x_mocap, 'p_x', ax_p_x, s_des=p_x_des)\n",
    "comparison_plot(t, p_y_default, p_y_mocap, 'p_y', ax_p_y, s_des=p_y_des)\n",
    "comparison_plot(t, p_z_default, p_z_mocap, 'p_z', ax_p_z, s_des=p_z_des)\n",
    "comparison_plot(t, psi_default, psi_mocap, 'psi', ax_psi)\n",
    "comparison_plot(t, theta_default, theta_mocap, 'theta', ax_theta)\n",
    "comparison_plot(t, phi_default, phi_mocap, 'phi', ax_phi)\n",
    "ax_phi.set_xlabel('time (s)')\n",
    "ax_p_x.set_ylim([-0.2, 0.2])\n",
    "ax_p_y.set_ylim([-0.2, 0.2])\n",
    "ax_p_z.set_ylim([0.3, 0.7])\n",
    "ax_psi.set_ylim([-0.1, 0.1])\n",
    "ax_theta.set_ylim([-0.1, 0.1])\n",
    "ax_phi.set_ylim([-0.1, 0.1])\n",
    "plt.show()"
   ]
  },
  {
   "cell_type": "markdown",
   "id": "aa6a1002",
   "metadata": {},
   "source": [
    "Compute RMSE between states (from default observer) and their desired values."
   ]
  },
  {
   "cell_type": "code",
   "execution_count": null,
   "id": "27ad8719",
   "metadata": {},
   "outputs": [],
   "source": [
    "print(f'RMSE from t={t[0]} to t={t[-1]} (using estimates from default observer):')\n",
    "print(f' p_x:   {rmse(p_x_default, p_x_des):7.3f}')\n",
    "print(f' p_y:   {rmse(p_y_default, p_y_des):7.3f}')\n",
    "print(f' p_z:   {rmse(p_z_default, p_z_des):7.3f}')\n",
    "print(f' psi:   {rmse(psi_default, 0.):7.3f}')\n",
    "print(f' theta: {rmse(theta_default, 0.):7.3f}')\n",
    "print(f' phi:   {rmse(phi_default, 0.):7.3f}')"
   ]
  },
  {
   "cell_type": "markdown",
   "id": "7c9aa35e",
   "metadata": {},
   "source": [
    "Compute RMSE between states (from mocap) and their desired values."
   ]
  },
  {
   "cell_type": "code",
   "execution_count": null,
   "id": "d2f483d8",
   "metadata": {},
   "outputs": [],
   "source": [
    "print(f'RMSE from t={t[0]} to t={t[-1]} (using estimates from mocap):')\n",
    "print(f' p_x:   {rmse(p_x_mocap, p_x_des):7.3f}')\n",
    "print(f' p_y:   {rmse(p_y_mocap, p_y_des):7.3f}')\n",
    "print(f' p_z:   {rmse(p_z_mocap, p_z_des):7.3f}')\n",
    "print(f' psi:   {rmse(psi_mocap, 0.):7.3f}')\n",
    "print(f' theta: {rmse(theta_mocap, 0.):7.3f}')\n",
    "print(f' phi:   {rmse(phi_mocap, 0.):7.3f}')"
   ]
  },
  {
   "cell_type": "markdown",
   "id": "cce88051",
   "metadata": {},
   "source": [
    "## 3.3 Hover with custom controller and observer"
   ]
  },
  {
   "cell_type": "markdown",
   "id": "ef18742f",
   "metadata": {},
   "source": [
    "**FIXME: REPLACE THIS CELL WITH THE USUAL DESCRIPTION OF YOUR FLIGHT TEST.**"
   ]
  },
  {
   "cell_type": "markdown",
   "id": "9eb4a228",
   "metadata": {},
   "source": [
    "Check mocap coverage."
   ]
  },
  {
   "cell_type": "code",
   "execution_count": null,
   "id": "4354431a",
   "metadata": {},
   "outputs": [],
   "source": [
    "check_mocap_coverage('lab08_hover_custom_custom.json')"
   ]
  },
  {
   "cell_type": "markdown",
   "id": "c743d72a",
   "metadata": {},
   "source": [
    "Load flight data."
   ]
  },
  {
   "cell_type": "code",
   "execution_count": null,
   "id": "43249a46",
   "metadata": {},
   "outputs": [],
   "source": [
    "# Load flight data\n",
    "raw_data_drone, raw_data_mocap = load_hardware_data('lab08_hover_custom_custom.json')\n",
    "\n",
    "# Resample drone data\n",
    "data_drone = resample_data_drone(\n",
    "    raw_data_drone,\n",
    "    t_min_offset=0., # <-- FIXME\n",
    "    t_max_offset=0., # <-- FIXME\n",
    ")\n",
    "\n",
    "# Sync and resample mocap data\n",
    "data_mocap = sync_data_mocap(raw_data_mocap, data_drone['time'], data_drone['ae483log.p_z'])\n",
    "\n",
    "# Only look at data from the middle 10 seconds of when the drone was actually flying\n",
    "only_in_flight(data_drone, data_mocap=data_mocap, t_interval=10.)"
   ]
  },
  {
   "cell_type": "markdown",
   "id": "ecdf0245",
   "metadata": {},
   "source": [
    "Parse flight data:\n",
    "* Estimates from the custom observer implemented online are labled `_custom`.\n",
    "* Estimates from the default observer are labeled `_default`."
   ]
  },
  {
   "cell_type": "code",
   "execution_count": null,
   "id": "0ff3dd18",
   "metadata": {},
   "outputs": [],
   "source": [
    "# time\n",
    "t = data_drone['time']\n",
    "\n",
    "# position and orientation from custom observer\n",
    "p_x_custom = data_drone['ae483log.p_x']\n",
    "p_y_custom = data_drone['ae483log.p_y']\n",
    "p_z_custom = data_drone['ae483log.p_z']\n",
    "psi_custom = data_drone['ae483log.psi']\n",
    "theta_custom = data_drone['ae483log.theta']\n",
    "phi_custom = data_drone['ae483log.phi']\n",
    "\n",
    "# position and orientation from default observer\n",
    "p_x_default = data_drone['stateEstimate.x']\n",
    "p_y_default = data_drone['stateEstimate.y']\n",
    "p_z_default = data_drone['stateEstimate.z']\n",
    "psi_default = np.deg2rad(data_drone['stateEstimate.yaw'])\n",
    "theta_default = - np.deg2rad(data_drone['stateEstimate.pitch'])\n",
    "phi_default = np.deg2rad(data_drone['stateEstimate.roll'])\n",
    "\n",
    "# position and orientation from the motion capture system\n",
    "p_x_mocap = data_mocap['x']\n",
    "p_y_mocap = data_mocap['y']\n",
    "p_z_mocap = data_mocap['z']\n",
    "psi_mocap = data_mocap['yaw']\n",
    "theta_mocap = data_mocap['pitch']\n",
    "phi_mocap = data_mocap['roll']\n",
    "\n",
    "# desired position\n",
    "p_x_des = data_drone['ae483log.p_x_des']\n",
    "p_y_des = data_drone['ae483log.p_y_des']\n",
    "p_z_des = data_drone['ae483log.p_z_des']"
   ]
  },
  {
   "cell_type": "markdown",
   "id": "950570c9",
   "metadata": {},
   "source": [
    "Plot position, desired position, and orientation."
   ]
  },
  {
   "cell_type": "code",
   "execution_count": null,
   "id": "75a85f78",
   "metadata": {},
   "outputs": [],
   "source": [
    "def comparison_plot(t, s_custom, s_default, s_mocap, name, ax, s_des=None):\n",
    "    ax.plot(t, s_default, label=f'{name} (default)',\n",
    "            color=default_color, linestyle=default_linestyle, linewidth=default_linewidth)\n",
    "    ax.plot(t, s_mocap, label=f'{name} (mocap)',\n",
    "            color=mocap_color, linestyle=mocap_linestyle, linewidth=mocap_linewidth)\n",
    "    ax.plot(t, s_custom, label=f'{name} (custom)',\n",
    "            color=custom_color, linestyle=custom_linestyle, linewidth=custom_linewidth)\n",
    "    if s_des is not None:\n",
    "        ax.plot(t, s_des, label=f'{name} (desired)',\n",
    "                color=desired_color, linestyle=desired_linestyle, linewidth=desired_linewidth)\n",
    "    ax.legend()\n",
    "    ax.grid()\n",
    "\n",
    "fig, (ax_p_x,\n",
    "      ax_p_y,\n",
    "      ax_p_z,\n",
    "      ax_psi,\n",
    "      ax_theta,\n",
    "      ax_phi) = plt.subplots(6, 1, figsize=(15, 18), sharex=True, tight_layout=True)\n",
    "comparison_plot(t, p_x_custom, p_x_default, p_x_mocap, 'p_x', ax_p_x, s_des=p_x_des)\n",
    "comparison_plot(t, p_y_custom, p_y_default, p_y_mocap, 'p_y', ax_p_y, s_des=p_y_des)\n",
    "comparison_plot(t, p_z_custom, p_z_default, p_z_mocap, 'p_z', ax_p_z, s_des=p_z_des)\n",
    "comparison_plot(t, psi_custom, psi_default, psi_mocap, 'psi', ax_psi)\n",
    "comparison_plot(t, theta_custom, theta_default, theta_mocap, 'theta', ax_theta)\n",
    "comparison_plot(t, phi_custom, phi_default, phi_mocap, 'phi', ax_phi)\n",
    "ax_phi.set_xlabel('time (s)')\n",
    "ax_p_x.set_ylim([-0.2, 0.2])\n",
    "ax_p_y.set_ylim([-0.2, 0.2])\n",
    "ax_p_z.set_ylim([0.3, 0.7])\n",
    "ax_psi.set_ylim([-0.1, 0.1])\n",
    "ax_theta.set_ylim([-0.1, 0.1])\n",
    "ax_phi.set_ylim([-0.1, 0.1])\n",
    "plt.show()"
   ]
  },
  {
   "cell_type": "markdown",
   "id": "c5f4c064",
   "metadata": {},
   "source": [
    "Compute RMSE between states (from custom observer) and their desired values."
   ]
  },
  {
   "cell_type": "code",
   "execution_count": null,
   "id": "9f734491",
   "metadata": {},
   "outputs": [],
   "source": [
    "print(f'RMSE from t={t[0]} to t={t[-1]} (using estimates from default observer):')\n",
    "print(f' p_x:   {rmse(p_x_custom, p_x_des):7.3f}')\n",
    "print(f' p_y:   {rmse(p_y_custom, p_y_des):7.3f}')\n",
    "print(f' p_z:   {rmse(p_z_custom, p_z_des):7.3f}')\n",
    "print(f' psi:   {rmse(psi_custom, 0.):7.3f}')\n",
    "print(f' theta: {rmse(theta_custom, 0.):7.3f}')\n",
    "print(f' phi:   {rmse(phi_custom, 0.):7.3f}')"
   ]
  },
  {
   "cell_type": "markdown",
   "id": "95a6ef03",
   "metadata": {},
   "source": [
    "Compute RMSE between states (from mocap) and their desired values."
   ]
  },
  {
   "cell_type": "code",
   "execution_count": null,
   "id": "5c6b3554",
   "metadata": {},
   "outputs": [],
   "source": [
    "print(f'RMSE from t={t[0]} to t={t[-1]} (using estimates from mocap):')\n",
    "print(f' p_x:   {rmse(p_x_mocap, p_x_des):7.3f}')\n",
    "print(f' p_y:   {rmse(p_y_mocap, p_y_des):7.3f}')\n",
    "print(f' p_z:   {rmse(p_z_mocap, p_z_des):7.3f}')\n",
    "print(f' psi:   {rmse(psi_mocap, 0.):7.3f}')\n",
    "print(f' theta: {rmse(theta_mocap, 0.):7.3f}')\n",
    "print(f' phi:   {rmse(phi_mocap, 0.):7.3f}')"
   ]
  },
  {
   "cell_type": "markdown",
   "id": "60f470a2",
   "metadata": {},
   "source": [
    "## 3.4 Summary and discussion"
   ]
  },
  {
   "cell_type": "markdown",
   "id": "9e2560b6",
   "metadata": {},
   "source": [
    "RMSE in each component of position and of orientation **(computed with respect to state estimates from an observer)**:\n",
    "\n",
    "|  | $p_x$ | $p_y$ | $p_z$ | $\\psi$ | $\\theta$ | $\\phi$ |\n",
    "| --: | :--: | :--: | :--: | :--: | :--: | :--: |\n",
    "| RMSE in hover test (default controller, default observer) | 0.0 | 0.0 | 0.0 | 0.0 | 0.0 | 0.0 |\n",
    "| RMSE in hover test (custom controller, default observer) | 0.0 | 0.0 | 0.0 | 0.0 | 0.0 | 0.0 |\n",
    "| RMSE in move test (custom controller, custom observer) | 0.0 | 0.0 | 0.0 | 0.0 | 0.0 | 0.0 |"
   ]
  },
  {
   "cell_type": "markdown",
   "id": "67dea2c0",
   "metadata": {},
   "source": [
    "**Modify the text in this cell** to answer the following questions:\n",
    "\n",
    "* Are you able to match the performance of the default controller and observer (top row) with your controller and observer (bottom row)? Do the results when using the custom controller with the default observer (middle row) help explain any differences in performance?\n",
    "* What about your observer design (if anything) did you have to change in order to get your custom controller and observer to work well? Why were these changes necessary?"
   ]
  },
  {
   "cell_type": "markdown",
   "id": "eeaed8f8",
   "metadata": {},
   "source": [
    "RMSE in each component of position and of orientation **(computed with respect to state estimates from mocap)**:\n",
    "\n",
    "|  | $p_x$ | $p_y$ | $p_z$ | $\\psi$ | $\\theta$ | $\\phi$ |\n",
    "| --: | :--: | :--: | :--: | :--: | :--: | :--: |\n",
    "| RMSE in hover test (default controller, default observer) | 0.0 | 0.0 | 0.0 | 0.0 | 0.0 | 0.0 |\n",
    "| RMSE in hover test (custom controller, default observer) | 0.0 | 0.0 | 0.0 | 0.0 | 0.0 | 0.0 |\n",
    "| RMSE in move test (custom controller, custom observer) | 0.0 | 0.0 | 0.0 | 0.0 | 0.0 | 0.0 |"
   ]
  },
  {
   "cell_type": "markdown",
   "id": "0a8d5b97",
   "metadata": {},
   "source": [
    "**Modify the text in this cell** to answer the following questions:\n",
    "\n",
    "* In what ways are the RMSE values in this table (computed with respect to state estimates from mocap) significantly different from the RMSE values in the other table (computed with respect to state estimates from an observer)? Why?"
   ]
  },
  {
   "cell_type": "markdown",
   "id": "3258c8c1",
   "metadata": {},
   "source": [
    "# 4. Flight test while moving in squares"
   ]
  },
  {
   "cell_type": "markdown",
   "id": "af8b990e",
   "metadata": {},
   "source": [
    "Check mocap coverage."
   ]
  },
  {
   "cell_type": "code",
   "execution_count": null,
   "id": "8bce8714",
   "metadata": {},
   "outputs": [],
   "source": [
    "check_mocap_coverage('lab08_squares.json')"
   ]
  },
  {
   "cell_type": "markdown",
   "id": "fcfb4534",
   "metadata": {},
   "source": [
    "Load flight data."
   ]
  },
  {
   "cell_type": "code",
   "execution_count": null,
   "id": "9d1f0522",
   "metadata": {},
   "outputs": [],
   "source": [
    "# Load flight data\n",
    "raw_data_drone, raw_data_mocap = load_hardware_data('lab08_squares.json')\n",
    "\n",
    "# Resample drone data\n",
    "data_drone = resample_data_drone(\n",
    "    raw_data_drone,\n",
    "    t_min_offset=0., # <-- FIXME\n",
    "    t_max_offset=0., # <-- FIXME\n",
    ")\n",
    "\n",
    "# Sync and resample mocap data\n",
    "data_mocap = sync_data_mocap(raw_data_mocap, data_drone['time'], data_drone['ae483log.p_z'])\n",
    "\n",
    "# Only look at data from when the drone was actually flying\n",
    "only_in_flight(data_drone, data_mocap=data_mocap)"
   ]
  },
  {
   "cell_type": "markdown",
   "id": "0daca910",
   "metadata": {},
   "source": [
    "Parse flight data."
   ]
  },
  {
   "cell_type": "code",
   "execution_count": null,
   "id": "b34a620a",
   "metadata": {},
   "outputs": [],
   "source": [
    "# time\n",
    "t = data_drone['time']\n",
    "\n",
    "# position and orientation from custom observer\n",
    "p_x_custom = data_drone['ae483log.p_x']\n",
    "p_y_custom = data_drone['ae483log.p_y']\n",
    "p_z_custom = data_drone['ae483log.p_z']\n",
    "psi_custom = data_drone['ae483log.psi']\n",
    "theta_custom = data_drone['ae483log.theta']\n",
    "phi_custom = data_drone['ae483log.phi']\n",
    "\n",
    "# position and orientation from default observer\n",
    "p_x_default = data_drone['stateEstimate.x']\n",
    "p_y_default = data_drone['stateEstimate.y']\n",
    "p_z_default = data_drone['stateEstimate.z']\n",
    "psi_default = np.deg2rad(data_drone['stateEstimate.yaw'])\n",
    "theta_default = - np.deg2rad(data_drone['stateEstimate.pitch'])\n",
    "phi_default = np.deg2rad(data_drone['stateEstimate.roll'])\n",
    "\n",
    "# position and orientation from the motion capture system\n",
    "p_x_mocap = data_mocap['x']\n",
    "p_y_mocap = data_mocap['y']\n",
    "p_z_mocap = data_mocap['z']\n",
    "psi_mocap = data_mocap['yaw']\n",
    "theta_mocap = data_mocap['pitch']\n",
    "phi_mocap = data_mocap['roll']\n",
    "\n",
    "# desired position\n",
    "p_x_des = data_drone['ae483log.p_x_des']\n",
    "p_y_des = data_drone['ae483log.p_y_des']\n",
    "p_z_des = data_drone['ae483log.p_z_des']"
   ]
  },
  {
   "cell_type": "markdown",
   "id": "f2363cd0",
   "metadata": {},
   "source": [
    "Plot position, desired position, and orientation (both from default and custom observer) as functions of time."
   ]
  },
  {
   "cell_type": "code",
   "execution_count": null,
   "id": "bf743398",
   "metadata": {},
   "outputs": [],
   "source": [
    "def comparison_plot(t, s_custom, s_default, s_mocap, name, ax, s_des=None):\n",
    "    ax.plot(t, s_default, label=f'{name} (default)',\n",
    "            color=default_color, linestyle=default_linestyle, linewidth=default_linewidth)\n",
    "    ax.plot(t, s_mocap, label=f'{name} (mocap)',\n",
    "            color=mocap_color, linestyle=mocap_linestyle, linewidth=mocap_linewidth)\n",
    "    ax.plot(t, s_custom, label=f'{name} (custom)',\n",
    "            color=custom_color, linestyle=custom_linestyle, linewidth=custom_linewidth)\n",
    "    if s_des is not None:\n",
    "        ax.plot(t, s_des, label=f'{name} (desired)',\n",
    "                color=desired_color, linestyle=desired_linestyle, linewidth=desired_linewidth)\n",
    "    ax.legend()\n",
    "    ax.grid()\n",
    "\n",
    "fig, (ax_p_x,\n",
    "      ax_p_y,\n",
    "      ax_p_z,\n",
    "      ax_psi,\n",
    "      ax_theta,\n",
    "      ax_phi) = plt.subplots(6, 1, figsize=(15, 18), sharex=True, tight_layout=True)\n",
    "comparison_plot(t, p_x_custom, p_x_default, p_x_mocap, 'p_x', ax_p_x, s_des=p_x_des)\n",
    "comparison_plot(t, p_y_custom, p_y_default, p_y_mocap, 'p_y', ax_p_y, s_des=p_y_des)\n",
    "comparison_plot(t, p_z_custom, p_z_default, p_z_mocap, 'p_z', ax_p_z, s_des=p_z_des)\n",
    "comparison_plot(t, psi_custom, psi_default, psi_mocap, 'psi', ax_psi)\n",
    "comparison_plot(t, theta_custom, theta_default, theta_mocap, 'theta', ax_theta)\n",
    "comparison_plot(t, phi_custom, phi_default, phi_mocap, 'phi', ax_phi)\n",
    "ax_phi.set_xlabel('time (s)')\n",
    "plt.show()"
   ]
  },
  {
   "cell_type": "markdown",
   "id": "c782b656",
   "metadata": {},
   "source": [
    "Plot top-down position and desired position (both from default and custom observer)."
   ]
  },
  {
   "cell_type": "code",
   "execution_count": null,
   "id": "3b36050e",
   "metadata": {},
   "outputs": [],
   "source": [
    "fig, ax = plt.subplots(1, 1, figsize=(10, 10))\n",
    "ax.plot(p_x_custom, p_y_custom, label='position (custom)',\n",
    "         color=custom_color, linestyle=custom_linestyle, linewidth=custom_linewidth)\n",
    "ax.plot(p_x_default, p_y_default, label='position (default)',\n",
    "         color=default_color, linestyle=default_linestyle, linewidth=default_linewidth)\n",
    "ax.plot(p_x_des, p_y_des, label='position (desired)',\n",
    "         color=desired_color, linestyle=desired_linestyle, linewidth=desired_linewidth)\n",
    "ax.plot(p_x_mocap, p_y_mocap, label='position (mocap)',\n",
    "         color=mocap_color, linestyle=mocap_linestyle, linewidth=mocap_linewidth)\n",
    "ax.set_aspect('equal')\n",
    "ax.legend()\n",
    "ax.grid()\n",
    "plt.show()"
   ]
  },
  {
   "cell_type": "markdown",
   "id": "de438825",
   "metadata": {},
   "source": [
    "**FIXME: REPLACE THIS CELL WITH THE USUAL DESCRIPTION OF YOUR FLIGHT TEST.**\n",
    "\n",
    "Also, in the following cell, show a video of your hardware flight test (change the url as appropriate)."
   ]
  },
  {
   "cell_type": "code",
   "execution_count": null,
   "id": "ab8a2b9e",
   "metadata": {},
   "outputs": [],
   "source": [
    "# FIXME (REPLACE URL TO SHOW A VIDEO OF YOUR FLIGHT)\n",
    "mediaspace('https://mediaspace.illinois.edu/media/t/YOUR_VIDEO_ID')"
   ]
  },
  {
   "cell_type": "markdown",
   "id": "3dfc89c4",
   "metadata": {},
   "source": [
    "**Modify the text in this cell** to explain what is going on in the video and in the plots. What happens over time to the state estimates from the default and custom observers, relative to the state estimates from the motion capture system? Is the drone really flying in squares? To what extent is the custom controller working well? To what extent is the custom observer working well? How could you improve performance? What is possible to improve, and what is impossible to improve, given the available sensors?"
   ]
  },
  {
   "cell_type": "markdown",
   "id": "27f54dd6",
   "metadata": {},
   "source": [
    "# 5. Reflect"
   ]
  },
  {
   "cell_type": "markdown",
   "id": "e732363e",
   "metadata": {},
   "source": [
    "**Modify the text in this cell** to describe, in at least two or three sentences, the biggest struggle you had (with the technical material, with collaboration, etc.) and the most important thing that you learned. Look back at your reflection from Labs 5 and 6 — have you taken a step forward?"
   ]
  },
  {
   "cell_type": "markdown",
   "id": "30128a5d",
   "metadata": {},
   "source": []
  }
 ],
 "metadata": {
  "kernelspec": {
   "display_name": "ae483",
   "language": "python",
   "name": "python3"
  },
  "language_info": {
   "codemirror_mode": {
    "name": "ipython",
    "version": 3
   },
   "file_extension": ".py",
   "mimetype": "text/x-python",
   "name": "python",
   "nbconvert_exporter": "python",
   "pygments_lexer": "ipython3",
   "version": "3.12.4"
  }
 },
 "nbformat": 4,
 "nbformat_minor": 5
}
