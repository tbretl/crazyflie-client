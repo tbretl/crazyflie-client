{
 "cells": [
  {
   "cell_type": "markdown",
   "id": "52589e3c",
   "metadata": {},
   "source": [
    "# Demonstrate a working controller"
   ]
  },
  {
   "cell_type": "markdown",
   "id": "f4233d19",
   "metadata": {},
   "source": [
    "## 1. Set up the notebook"
   ]
  },
  {
   "cell_type": "markdown",
   "id": "38bcc561",
   "metadata": {},
   "source": [
    "Do imports."
   ]
  },
  {
   "cell_type": "code",
   "execution_count": null,
   "id": "294d9f2d",
   "metadata": {},
   "outputs": [],
   "source": [
    "import numpy as np\n",
    "import matplotlib.pyplot as plt\n",
    "from IPython.display import display, IFrame, HTML\n",
    "from ae483tools import *"
   ]
  },
  {
   "cell_type": "markdown",
   "id": "abcad114",
   "metadata": {},
   "source": [
    "Define a function to check mocap data from a given flight."
   ]
  },
  {
   "cell_type": "code",
   "execution_count": null,
   "id": "db3e55aa",
   "metadata": {},
   "outputs": [],
   "source": [
    "def check_data(filename):\n",
    "    # Load data\n",
    "    raw_data_drone, raw_data_mocap = load_hardware_data(filename)\n",
    "\n",
    "    # Compute statistics\n",
    "    how_many_timesteps = len(raw_data_mocap['z'])\n",
    "    how_many_dropouts = len(np.argwhere(np.isnan(raw_data_mocap['z'])).flatten())\n",
    "    percent_coverage = 100. * (1. - (how_many_dropouts / how_many_timesteps))\n",
    "    elapsed_time = raw_data_mocap['time'][-1] - raw_data_mocap['time'][0]\n",
    "    sample_rate = how_many_timesteps / elapsed_time\n",
    "\n",
    "    # Plot data (with relevant statistics in the title)\n",
    "    fig, ax = plt.subplots(1, 1, figsize=(7, 3), tight_layout=True)\n",
    "    ax.plot(raw_data_mocap['time'], raw_data_mocap['z'])\n",
    "    ax.set_xlabel('t (seconds)')\n",
    "    ax.set_ylabel('z (meters)')\n",
    "    ax.set_ylim(0., 1.)\n",
    "    ax.set_title(f'({filename}) Tracked {percent_coverage:.1f}% of {how_many_timesteps} time steps at about {sample_rate:.0f} Hz')\n",
    "    ax.grid()"
   ]
  },
  {
   "cell_type": "markdown",
   "id": "059e897f",
   "metadata": {},
   "source": [
    "Define a function to embed videos that have been uploaded to [Illinois Mediaspace](https://mediaspace.illinois.edu/)."
   ]
  },
  {
   "cell_type": "code",
   "execution_count": null,
   "id": "fabf63d1",
   "metadata": {},
   "outputs": [],
   "source": [
    "def mediaspace(url, width=640, height=397):\n",
    "    video_id = url.rsplit('/', 1)[-1]\n",
    "    src = f'https://mediaspace.illinois.edu/embed/secure/iframe/entryId/{video_id}?st=0'\n",
    "    display(IFrame(src, width=width, height=height))\n",
    "    display(HTML(f'<a href=\"{url}\" target=\"_blank\">Go to video on Illinois Mediaspace</a>'))"
   ]
  },
  {
   "cell_type": "markdown",
   "id": "aada1ff6",
   "metadata": {},
   "source": [
    "## 2. Check mocap coverage"
   ]
  },
  {
   "cell_type": "markdown",
   "id": "d368e99d",
   "metadata": {},
   "source": [
    "Check `demonstration_data.json`."
   ]
  },
  {
   "cell_type": "code",
   "execution_count": null,
   "id": "db23971a",
   "metadata": {},
   "outputs": [],
   "source": [
    "check_data('demonstration_data.json')"
   ]
  },
  {
   "cell_type": "markdown",
   "id": "4568c770",
   "metadata": {},
   "source": [
    "## 3. Show results"
   ]
  },
  {
   "cell_type": "markdown",
   "id": "5cf51c41",
   "metadata": {},
   "source": [
    "Load flight data."
   ]
  },
  {
   "cell_type": "code",
   "execution_count": null,
   "id": "56b9556b",
   "metadata": {},
   "outputs": [],
   "source": [
    "raw_data_drone, raw_data_mocap = load_hardware_data('demonstration_data.json')"
   ]
  },
  {
   "cell_type": "markdown",
   "id": "18bf0b9d",
   "metadata": {},
   "source": [
    "Resample and parse drone data."
   ]
  },
  {
   "cell_type": "code",
   "execution_count": null,
   "id": "31f1becf",
   "metadata": {},
   "outputs": [],
   "source": [
    "data_drone = resample_data_drone(\n",
    "    raw_data_drone,\n",
    "    t_min_offset=0., # <-- FIXME\n",
    "    t_max_offset=0., # <-- FIXME\n",
    ")\n",
    "\n",
    "# time\n",
    "t = data_drone['time']\n",
    "\n",
    "# position\n",
    "p_x = data_drone['ae483log.p_x']\n",
    "p_y = data_drone['ae483log.p_y']\n",
    "p_z = data_drone['ae483log.p_z']\n",
    "\n",
    "# desired position\n",
    "p_x_des = data_drone['ae483log.p_x_des']\n",
    "p_y_des = data_drone['ae483log.p_y_des']\n",
    "p_z_des = data_drone['ae483log.p_z_des']\n",
    "\n",
    "# orientation\n",
    "psi = data_drone['ae483log.psi']\n",
    "theta = data_drone['ae483log.theta']\n",
    "phi = data_drone['ae483log.phi']\n",
    "\n",
    "# motor power commands\n",
    "m_1 = data_drone['ae483log.m_1']\n",
    "m_2 = data_drone['ae483log.m_2']\n",
    "m_3 = data_drone['ae483log.m_3']\n",
    "m_4 = data_drone['ae483log.m_4']"
   ]
  },
  {
   "cell_type": "markdown",
   "id": "50b6de02",
   "metadata": {},
   "source": [
    "Resample and parse mocap data (with an optimal time shift and with coordinate transformation)."
   ]
  },
  {
   "cell_type": "code",
   "execution_count": null,
   "id": "95834f2f",
   "metadata": {},
   "outputs": [],
   "source": [
    "data_mocap = sync_data_mocap(raw_data_mocap, t, p_z)\n",
    "\n",
    "p_x_mocap = data_mocap['x']\n",
    "p_y_mocap = data_mocap['y']\n",
    "p_z_mocap = data_mocap['z']\n",
    "psi_mocap = data_mocap['yaw']\n",
    "theta_mocap = data_mocap['pitch']\n",
    "phi_mocap = data_mocap['roll']"
   ]
  },
  {
   "cell_type": "markdown",
   "id": "15115856",
   "metadata": {},
   "source": [
    "Plot $x, y$ data."
   ]
  },
  {
   "cell_type": "code",
   "execution_count": null,
   "id": "7e9344ea",
   "metadata": {},
   "outputs": [],
   "source": [
    "fig, ax = plt.subplots(1, 1, figsize=(6, 6), tight_layout=True)\n",
    "ax.plot(p_x, p_y, label='drone')\n",
    "ax.plot(p_x_mocap, p_y_mocap, '--', label='mocap')\n",
    "ax.set_aspect('equal')\n",
    "ax.set_xlabel('x (meters)')\n",
    "ax.set_ylabel('y (meters)')\n",
    "ax.legend()\n",
    "ax.grid()"
   ]
  },
  {
   "cell_type": "markdown",
   "id": "5c5b7d38",
   "metadata": {},
   "source": [
    "Plot all data."
   ]
  },
  {
   "cell_type": "code",
   "execution_count": null,
   "id": "9845a955",
   "metadata": {},
   "outputs": [],
   "source": [
    "fig, (ax_x, ax_y, ax_z, ax_psi, ax_theta, ax_phi) = plt.subplots(6, 1, figsize=(8, 8), tight_layout=True)\n",
    "\n",
    "ax_x.plot(t, p_x, label='x (drone)')\n",
    "ax_x.plot(t, p_x_mocap, '--', label='x (mocap)')\n",
    "ax_x.plot(t, p_x_des, ':', label='x (desired)')\n",
    "ax_x.legend()\n",
    "ax_x.grid()\n",
    "\n",
    "ax_y.plot(t, p_y, label='y (drone)')\n",
    "ax_y.plot(t, p_y_mocap, '--', label='y (mocap)')\n",
    "ax_y.plot(t, p_y_des, ':', label='y (desired)')\n",
    "ax_y.legend()\n",
    "ax_y.grid()\n",
    "\n",
    "ax_z.plot(t, p_z, label='z (drone)')\n",
    "ax_z.plot(t, p_z_mocap, '--', label='z (mocap)')\n",
    "ax_z.plot(t, p_z_des, ':', label='z (desired)')\n",
    "ax_z.legend()\n",
    "ax_z.grid()\n",
    "\n",
    "ax_psi.plot(t, psi, label='yaw (drone)')\n",
    "ax_psi.plot(t, psi_mocap, '--', label='yaw (mocap)')\n",
    "ax_psi.legend()\n",
    "ax_psi.grid()\n",
    "\n",
    "ax_theta.plot(t, theta, label='pitch (drone)')\n",
    "ax_theta.plot(t, theta_mocap, '--', label='pitch (mocap)')\n",
    "ax_theta.legend()\n",
    "ax_theta.grid()\n",
    "\n",
    "ax_phi.plot(t, phi, label='roll (drone)')\n",
    "ax_phi.plot(t, phi_mocap, '--', label='roll (mocap)')\n",
    "ax_phi.legend()\n",
    "ax_phi.grid()"
   ]
  },
  {
   "cell_type": "markdown",
   "id": "c32c2d5c",
   "metadata": {},
   "source": [
    "In the following cell, show a video of your hardware flight test (change the url as appropriate)."
   ]
  },
  {
   "cell_type": "code",
   "execution_count": null,
   "id": "ad8b52d4",
   "metadata": {},
   "outputs": [],
   "source": [
    "# FIXME (REPLACE URL TO SHOW A VIDEO OF YOUR FLIGHT)\n",
    "mediaspace('https://mediaspace.illinois.edu/media/t/YOUR_VIDEO_ID')"
   ]
  },
  {
   "cell_type": "markdown",
   "id": "e5418db4",
   "metadata": {},
   "source": [
    "**Modify this cell** to describe three things:\n",
    "\n",
    "* Your design.\n",
    "* Your flight test.\n",
    "* Your results, in particular making clear if these results satisfy requirements. (Feel free to add code to verify these requirements.)"
   ]
  },
  {
   "cell_type": "markdown",
   "id": "05165d6b",
   "metadata": {},
   "source": [
    "## 4. Reflect"
   ]
  },
  {
   "cell_type": "markdown",
   "id": "37e33d9a",
   "metadata": {},
   "source": [
    "**Modify the text in this cell** to describe, in at least two or three sentences, the biggest struggle you had (with the technical material, with collaboration, etc.) and the most important thing that you learned. Look back at your reflection from Lab 4 — have you taken a step forward? Think ahead to next week, when you will be asked to further improve the performance of your controller — what might you do in order to make that process go well?"
   ]
  },
  {
   "cell_type": "code",
   "execution_count": null,
   "id": "9227a421",
   "metadata": {},
   "outputs": [],
   "source": []
  }
 ],
 "metadata": {
  "kernelspec": {
   "display_name": "Python 3 (ipykernel)",
   "language": "python",
   "name": "python3"
  },
  "language_info": {
   "codemirror_mode": {
    "name": "ipython",
    "version": 3
   },
   "file_extension": ".py",
   "mimetype": "text/x-python",
   "name": "python",
   "nbconvert_exporter": "python",
   "pygments_lexer": "ipython3",
   "version": "3.12.4"
  }
 },
 "nbformat": 4,
 "nbformat_minor": 5
}
