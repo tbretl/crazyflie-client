{
 "cells": [
  {
   "cell_type": "markdown",
   "id": "52589e3c",
   "metadata": {},
   "source": [
    "# Establish benchmark performance"
   ]
  },
  {
   "cell_type": "markdown",
   "id": "d49561d0",
   "metadata": {},
   "source": [
    "Add parent directory to `sys.path` so that we can import `ae483tools`."
   ]
  },
  {
   "cell_type": "code",
   "execution_count": null,
   "id": "a7843e6d",
   "metadata": {},
   "outputs": [],
   "source": [
    "import sys, os\n",
    "sys.path.append(os.path.abspath('..'))"
   ]
  },
  {
   "cell_type": "markdown",
   "id": "ed40b430",
   "metadata": {},
   "source": [
    "Do all other imports."
   ]
  },
  {
   "cell_type": "code",
   "execution_count": null,
   "id": "294d9f2d",
   "metadata": {},
   "outputs": [],
   "source": [
    "import numpy as np\n",
    "import matplotlib.pyplot as plt\n",
    "from ae483tools import *"
   ]
  },
  {
   "cell_type": "markdown",
   "id": "38847b8f",
   "metadata": {},
   "source": [
    "Load and resample data."
   ]
  },
  {
   "cell_type": "code",
   "execution_count": null,
   "id": "43e61219",
   "metadata": {},
   "outputs": [],
   "source": [
    "# Load data\n",
    "raw_data_drone, raw_data_mocap, raw_data_bodies = load_hardware_data(\n",
    "    'hardware_data_requirements.json',\n",
    ")\n",
    "\n",
    "# Resample data\n",
    "data_drone = resample_data_drone(\n",
    "    raw_data_drone,\n",
    "    t_min_offset=0.,\n",
    "    t_max_offset=0.,\n",
    ")\n",
    "\n",
    "# Get only the subset of data that corresponds to 10 seconds at hover\n",
    "only_in_flight(data_drone, t_interval=10.)"
   ]
  },
  {
   "cell_type": "markdown",
   "id": "ec804f90",
   "metadata": {},
   "source": [
    "Parse data."
   ]
  },
  {
   "cell_type": "code",
   "execution_count": null,
   "id": "1d45c5d9",
   "metadata": {},
   "outputs": [],
   "source": [
    "# time\n",
    "t = data_drone['time']\n",
    "\n",
    "# position\n",
    "p_x = data_drone['stateEstimate.x']\n",
    "p_y = data_drone['stateEstimate.y']\n",
    "p_z = data_drone['stateEstimate.z']\n",
    "\n",
    "# desired position\n",
    "p_x_des = data_drone['ctrltarget.x']\n",
    "p_y_des = data_drone['ctrltarget.y']\n",
    "p_z_des = data_drone['ctrltarget.z']\n",
    "\n",
    "# orientation\n",
    "psi = np.deg2rad(data_drone['stateEstimate.yaw']) \n",
    "theta = - np.deg2rad(data_drone['stateEstimate.pitch'])\n",
    "phi = np.deg2rad(data_drone['stateEstimate.roll'])"
   ]
  },
  {
   "cell_type": "markdown",
   "id": "1f302019",
   "metadata": {},
   "source": [
    "Plot position, desired position, and orientation."
   ]
  },
  {
   "cell_type": "code",
   "execution_count": null,
   "id": "01ad77d7",
   "metadata": {},
   "outputs": [],
   "source": [
    "fig, (ax_pos, ax_ori) = plt.subplots(2, 1, figsize=(8, 4), sharex=True, tight_layout=True)\n",
    "px = ax_pos.plot(t, p_x, label=f'p_x')\n",
    "py = ax_pos.plot(t, p_y, label=f'p_y')\n",
    "pz = ax_pos.plot(t, p_z, label=f'p_z')\n",
    "ax_pos.plot(t, p_x_des, '--', label=f'p_x (desired)', color=px[0].get_color())\n",
    "ax_pos.plot(t, p_y_des, '--', label=f'p_y (desired)', color=py[0].get_color())\n",
    "ax_pos.plot(t, p_z_des, '--', label=f'p_z (desired)', color=pz[0].get_color())\n",
    "ax_pos.legend()\n",
    "ax_pos.grid()\n",
    "ax_ori.plot(t, psi, label='psi')\n",
    "ax_ori.plot(t, theta, label='theta')\n",
    "ax_ori.plot(t, phi, label='phi')\n",
    "ax_ori.legend()\n",
    "ax_ori.grid()\n",
    "ax_ori.set_xlabel('time (s)')\n",
    "plt.show()"
   ]
  },
  {
   "cell_type": "markdown",
   "id": "40428b92",
   "metadata": {},
   "source": [
    "Compute RMSE in each component of position and orientation."
   ]
  },
  {
   "cell_type": "code",
   "execution_count": null,
   "id": "b2ab0404",
   "metadata": {},
   "outputs": [],
   "source": [
    "p_x_rmse = np.sqrt(np.mean((p_x - p_x_des)**2))\n",
    "p_y_rmse = np.sqrt(np.mean((p_y - p_y_des)**2))\n",
    "p_z_rmse = np.sqrt(np.mean((p_z - p_z_des)**2))\n",
    "psi_rmse = np.sqrt(np.mean((psi - 0.)**2))\n",
    "theta_rmse = np.sqrt(np.mean((theta - 0.)**2))\n",
    "phi_rmse = np.sqrt(np.mean((phi - 0.)**2))"
   ]
  },
  {
   "cell_type": "markdown",
   "id": "86f962ee",
   "metadata": {},
   "source": [
    "Generate the text for the first row of results in a table of RMSE values."
   ]
  },
  {
   "cell_type": "code",
   "execution_count": null,
   "id": "80b6083d",
   "metadata": {},
   "outputs": [],
   "source": [
    "print(f'| BENCHMARK | {p_x_rmse:.3f} | {p_y_rmse:.3f} | {p_z_rmse:.3f} | {psi_rmse:.3f} | {theta_rmse:.3f} | {phi_rmse:.3f} | DEFAULT CONTROLLER |')"
   ]
  }
 ],
 "metadata": {
  "kernelspec": {
   "display_name": "ae483",
   "language": "python",
   "name": "python3"
  },
  "language_info": {
   "codemirror_mode": {
    "name": "ipython",
    "version": 3
   },
   "file_extension": ".py",
   "mimetype": "text/x-python",
   "name": "python",
   "nbconvert_exporter": "python",
   "pygments_lexer": "ipython3",
   "version": "3.13.5"
  }
 },
 "nbformat": 4,
 "nbformat_minor": 5
}
