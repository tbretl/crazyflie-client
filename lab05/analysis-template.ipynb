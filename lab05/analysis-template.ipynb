{
 "cells": [
  {
   "cell_type": "markdown",
   "id": "f4233d19",
   "metadata": {},
   "source": [
    "# 1. Set up the notebook"
   ]
  },
  {
   "cell_type": "markdown",
   "id": "38bcc561",
   "metadata": {},
   "source": [
    "## 1.1 Import modules"
   ]
  },
  {
   "cell_type": "code",
   "execution_count": null,
   "id": "294d9f2d",
   "metadata": {},
   "outputs": [],
   "source": [
    "import numpy as np\n",
    "import sympy as sym\n",
    "import json\n",
    "import matplotlib.pyplot as plt\n",
    "from scipy import linalg\n",
    "from scipy.interpolate import interp1d\n",
    "from IPython.display import display, IFrame, HTML"
   ]
  },
  {
   "cell_type": "markdown",
   "id": "7091ba42",
   "metadata": {},
   "source": [
    "## 1.2 Define data loaders"
   ]
  },
  {
   "cell_type": "markdown",
   "id": "46cb1af7",
   "metadata": {},
   "source": [
    "Here is a function to load data from simulation."
   ]
  },
  {
   "cell_type": "code",
   "execution_count": null,
   "id": "26c28562",
   "metadata": {},
   "outputs": [],
   "source": [
    "def load_simulation_data(filename, dronename):\n",
    "    # load data for all drones\n",
    "    with open(filename, 'r') as f:\n",
    "        data = json.load(f)\n",
    "    \n",
    "    # get data for one drone only\n",
    "    data = data[dronename]\n",
    "    \n",
    "    # convert lists to numpy arrays\n",
    "    for key in data.keys():\n",
    "        if isinstance(data[key], dict):\n",
    "            for subkey in data[key].keys():\n",
    "                data[key][subkey] = np.array(data[key][subkey])\n",
    "        else:\n",
    "            data[key] = np.array(data[key])\n",
    "    \n",
    "    # return the data\n",
    "    return data"
   ]
  },
  {
   "cell_type": "markdown",
   "id": "db664848",
   "metadata": {},
   "source": [
    "Here is a function to load data from hardware (and resample it at 100 Hz using linear interpolation)."
   ]
  },
  {
   "cell_type": "code",
   "execution_count": null,
   "id": "a51e9f5d",
   "metadata": {},
   "outputs": [],
   "source": [
    "def load_hardware_data(filename, t_min_offset=0, t_max_offset=0):\n",
    "    # load raw data\n",
    "    with open(filename, 'r') as f:\n",
    "        data = json.load(f)\n",
    "\n",
    "    # convert lists to numpy arrays\n",
    "    for val in data.values():\n",
    "        for key in val.keys():\n",
    "            val[key] = np.array(val[key])\n",
    "\n",
    "    # create an array of times at which to subsample\n",
    "    t_min = -np.inf\n",
    "    t_max = np.inf\n",
    "    for key, val in data.items():\n",
    "        t_min = max(t_min, val['time'][0])\n",
    "        t_max = min(t_max, val['time'][-1])\n",
    "    t_min += t_min_offset * 1000\n",
    "    t_max -= t_max_offset * 1000\n",
    "    nt = int(1 + np.floor((t_max - t_min) / 10.))\n",
    "    t = np.arange(0, 10 * nt, 10) / 1000.\n",
    "    resampled_data = {'time': t}\n",
    "\n",
    "    # resample raw data with linear interpolation\n",
    "    for k, v in data.items():\n",
    "        f = interp1d((v['time'] - t_min) / 1000., v['data'])\n",
    "        resampled_data[k] = f(t)\n",
    "        \n",
    "    # return the resampled data\n",
    "    return resampled_data"
   ]
  },
  {
   "cell_type": "markdown",
   "id": "54c1d7f9",
   "metadata": {},
   "source": [
    "## 1.3 Define autoencoders"
   ]
  },
  {
   "cell_type": "markdown",
   "id": "1119ae7f",
   "metadata": {},
   "source": [
    "Here is a function to print code that implements linear state feedback."
   ]
  },
  {
   "cell_type": "code",
   "execution_count": null,
   "id": "7dd92163",
   "metadata": {},
   "outputs": [],
   "source": [
    "def export_controller(K, s, i, s_with_des, i_eq,\n",
    "                      decimals=8,\n",
    "                      suffix='',\n",
    "                      line_ending=''):\n",
    "    \"\"\"\n",
    "    K is a gain matrix, of size m x n\n",
    "    s is a list of states as symbolic variables, of length n\n",
    "    i is a list of inputs as symbolic variables, of length m\n",
    "    s_with_des is a list of states that have desired values, as\n",
    "        symbolic variables - if there are no such states, then\n",
    "        this should be an empty list []\n",
    "    i_eq is a list of equilibrium values of inputs, of length m\n",
    "    decimals is the number of decimals to include when printing\n",
    "        each value\n",
    "    suffix is the character (if any) to print after each number,\n",
    "        for example 'f' to indicate a \"float\" when exporting to C\n",
    "    line_ending is the character (if any) to print after each\n",
    "        line, for example ';' when exporting to C\n",
    "    \"\"\"\n",
    "    \n",
    "    s_name = [scur.name for scur in s]\n",
    "    i_name = [icur.name for icur in i]\n",
    "    for row in range(len(i_name)):\n",
    "        input_string = ''\n",
    "        for col in range(len(s_name)):\n",
    "            k = K[row, col]\n",
    "            if not np.isclose(k, 0.):\n",
    "                if (k < 0) and input_string:\n",
    "                    input_string += ' +'\n",
    "                if s[col] in s_with_des:\n",
    "                    n = f'({s_name[col]} - {s_name[col]}_des)'\n",
    "                else:\n",
    "                    n = s_name[col]\n",
    "                input_string += f' {-k:.{decimals}f}{suffix} * {n}'\n",
    "        if not np.isclose(i_eq[row], 0.):\n",
    "            if (i_eq[row] > 0) and input_string:\n",
    "                input_string += ' +'\n",
    "            input_string += f' {i_eq[row]:.{decimals}f}{suffix}'\n",
    "        print(f'{i_name[row]} ={input_string}{line_ending}')"
   ]
  },
  {
   "cell_type": "markdown",
   "id": "0e293d79",
   "metadata": {},
   "source": [
    "Here is a function to print code that implements a method of power distribution."
   ]
  },
  {
   "cell_type": "code",
   "execution_count": null,
   "id": "0f9ec9de",
   "metadata": {},
   "outputs": [],
   "source": [
    "def export_power_distribution(Pinv,\n",
    "                              limiter='self.limitUint16',\n",
    "                              decimals=1,\n",
    "                              suffix='',\n",
    "                              line_ending=''):\n",
    "    \"\"\"\n",
    "    Pinv is a 4 x 4 matrix that maps inputs (tau_x, tau_y, tau_z, f_z)\n",
    "        to motor power commands (m_1, m_2, m_3, m_4)\n",
    "    limiter is the name of the function to apply that ensures each\n",
    "        motor power command is valid (i.e., an integer within bounds),\n",
    "        for example \"limitUint16\" when exporting to C\n",
    "    decimals is the number of decimals to include when printing\n",
    "        each value\n",
    "    suffix is the character (if any) to print after each number,\n",
    "        for example 'f' to indicate a \"float\" when exporting to C\n",
    "    line_ending is the character (if any) to print after each\n",
    "        line, for example ';' when exporting to C\n",
    "    \"\"\"\n",
    "    \n",
    "    i_name = ['tau_x', 'tau_y', 'tau_z', 'f_z']\n",
    "    m_name = ['m_1', 'm_2', 'm_3', 'm_4']\n",
    "    for row in range(len(m_name)):\n",
    "        input_string = ''\n",
    "        for col in range(len(i_name)):\n",
    "            k = Pinv[row, col]\n",
    "            if not np.isclose(k, 0.):\n",
    "                if (k > 0) and input_string:\n",
    "                    input_string += ' +'\n",
    "                n = i_name[col]\n",
    "                input_string += f' {k:.{decimals}f}{suffix} * {n}'\n",
    "        print(f'{m_name[row]} = {limiter}({input_string} ){line_ending}')"
   ]
  },
  {
   "cell_type": "markdown",
   "id": "03a6354d",
   "metadata": {},
   "source": [
    "## 1.5 Define an LQR solver"
   ]
  },
  {
   "cell_type": "markdown",
   "id": "54595de9",
   "metadata": {},
   "source": [
    "Here is a function that solves the linear quadratic regulator (LQR) problem - i.e., that finds the matrix $K$ for which\n",
    "\n",
    "$$u(t) = - K x(t)$$\n",
    "\n",
    "is the optimal solution to\n",
    "\n",
    "$$\n",
    "\\begin{align*}\n",
    "\\underset{u_{[t_{0}, \\infty)}}{\\text{minimize}} &\\qquad \\int_{t_{0}}^{\\infty}\\left( x(t)^{T}Qx(t)+u(t)^{T}Ru(t)\\right)dt \\\\\n",
    "\\text{subject to} &\\qquad \\dot{x}(t) = Ax(t)+Bu(t), \\quad x(t_{0})=x_{0}.\n",
    "\\end{align*}\n",
    "$$"
   ]
  },
  {
   "cell_type": "code",
   "execution_count": null,
   "id": "76ef860b",
   "metadata": {},
   "outputs": [],
   "source": [
    "def lqr(A, B, Q, R):\n",
    "    P = linalg.solve_continuous_are(A, B, Q, R)\n",
    "    K = linalg.inv(R) @  B.T @ P\n",
    "    return K"
   ]
  },
  {
   "cell_type": "markdown",
   "id": "b00a9cf5",
   "metadata": {},
   "source": [
    "## 1.6 Define a function to embed videos"
   ]
  },
  {
   "cell_type": "markdown",
   "id": "059e897f",
   "metadata": {},
   "source": [
    "Define a function to embed videos that have been uploaded to [Illinois Mediaspace](https://mediaspace.illinois.edu/)."
   ]
  },
  {
   "cell_type": "code",
   "execution_count": null,
   "id": "fabf63d1",
   "metadata": {},
   "outputs": [],
   "source": [
    "def mediaspace(url, width=640, height=397):\n",
    "    video_id = url.rsplit('/', 1)[-1]\n",
    "    src = f'https://mediaspace.illinois.edu/embed/secure/iframe/entryId/{video_id}?st=0'\n",
    "    display(IFrame(src, width=width, height=height))\n",
    "    display(HTML(f'<a href=\"{url}\" target=\"_blank\">Go to video on Illinois Mediaspace</a>'))"
   ]
  },
  {
   "cell_type": "markdown",
   "id": "9916514f",
   "metadata": {},
   "source": [
    "# 2. Derive equations of motion"
   ]
  },
  {
   "cell_type": "markdown",
   "id": "35c1d51d",
   "metadata": {},
   "source": [
    "## 2.1 Define symbolic variables"
   ]
  },
  {
   "cell_type": "markdown",
   "id": "e2ff5fef",
   "metadata": {},
   "source": [
    "Define states."
   ]
  },
  {
   "cell_type": "code",
   "execution_count": null,
   "id": "0402b5da",
   "metadata": {},
   "outputs": [],
   "source": [
    "# components of position (meters)\n",
    "o_x, o_y, o_z = sym.symbols('o_x, o_y, o_z')\n",
    "\n",
    "# yaw, pitch, and roll angles (radians)\n",
    "psi, theta, phi = sym.symbols('psi, theta, phi')\n",
    "\n",
    "# components of linear velocity (meters / second)\n",
    "v_x, v_y, v_z = sym.symbols('v_x, v_y, v_z')\n",
    "\n",
    "# components of angular velocity (radians / second)\n",
    "w_x, w_y, w_z = sym.symbols('w_x, w_y, w_z')"
   ]
  },
  {
   "cell_type": "markdown",
   "id": "570af22c",
   "metadata": {},
   "source": [
    "Define inputs."
   ]
  },
  {
   "cell_type": "code",
   "execution_count": null,
   "id": "ad893cec",
   "metadata": {},
   "outputs": [],
   "source": [
    "# components of net rotor torque\n",
    "tau_x, tau_y, tau_z = sym.symbols('tau_x, tau_y, tau_z')\n",
    "\n",
    "# net rotor force\n",
    "f_z = sym.symbols('f_z')"
   ]
  },
  {
   "cell_type": "markdown",
   "id": "ed8ded70",
   "metadata": {},
   "source": [
    "Define parameters."
   ]
  },
  {
   "cell_type": "code",
   "execution_count": null,
   "id": "e4962fab",
   "metadata": {},
   "outputs": [],
   "source": [
    "m, J_x, J_y, J_z, g = sym.symbols('m, J_x, J_y, J_z, g')"
   ]
  },
  {
   "cell_type": "markdown",
   "id": "7368343d",
   "metadata": {},
   "source": [
    "Create linear and angular velocity vectors (in coordinates of the body frame)."
   ]
  },
  {
   "cell_type": "code",
   "execution_count": null,
   "id": "9d524269",
   "metadata": {},
   "outputs": [],
   "source": [
    "v_01in1 = sym.Matrix([v_x, v_y, v_z])\n",
    "w_01in1 = sym.Matrix([w_x, w_y, w_z])"
   ]
  },
  {
   "cell_type": "markdown",
   "id": "d3d1fdd3",
   "metadata": {},
   "source": [
    "Create moment of inertia matrix (in coordinates of the body frame)."
   ]
  },
  {
   "cell_type": "code",
   "execution_count": null,
   "id": "b3036cb7",
   "metadata": {},
   "outputs": [],
   "source": [
    "J_in1 = sym.diag(J_x, J_y, J_z)"
   ]
  },
  {
   "cell_type": "markdown",
   "id": "851ff168",
   "metadata": {},
   "source": [
    "## 2.2 Define kinematics of orientation"
   ]
  },
  {
   "cell_type": "markdown",
   "id": "f68e60c2",
   "metadata": {},
   "source": [
    "### 2.2.1 Rotation matrix in terms of yaw, pitch, roll angles"
   ]
  },
  {
   "cell_type": "markdown",
   "id": "3e03c29d",
   "metadata": {},
   "source": [
    "Define individual rotation matrices."
   ]
  },
  {
   "cell_type": "code",
   "execution_count": null,
   "id": "1f70f130",
   "metadata": {},
   "outputs": [],
   "source": [
    "Rz = sym.Matrix([[sym.cos(psi), -sym.sin(psi), 0],\n",
    "                 [sym.sin(psi), sym.cos(psi), 0],\n",
    "                 [0, 0, 1]])\n",
    "\n",
    "Ry = sym.Matrix([[sym.cos(theta), 0, sym.sin(theta)],\n",
    "                 [0, 1, 0],\n",
    "                 [-sym.sin(theta), 0, sym.cos(theta)]])\n",
    "\n",
    "Rx = sym.Matrix([[1, 0, 0],\n",
    "                 [0, sym.cos(phi), -sym.sin(phi)],\n",
    "                 [0, sym.sin(phi), sym.cos(phi)]])"
   ]
  },
  {
   "cell_type": "markdown",
   "id": "e494d515",
   "metadata": {},
   "source": [
    "Apply sequential transformation to compute the rotation matrix that describes the orientation of the drone (i.e., of frame 1 in the coordinates of frame 0)."
   ]
  },
  {
   "cell_type": "code",
   "execution_count": null,
   "id": "9a4041f3",
   "metadata": {},
   "outputs": [],
   "source": [
    "R_1in0 = Rz * Ry * Rx"
   ]
  },
  {
   "cell_type": "code",
   "execution_count": null,
   "id": "d9ac7b34",
   "metadata": {},
   "outputs": [],
   "source": [
    "R_1in0"
   ]
  },
  {
   "cell_type": "markdown",
   "id": "69ac916b",
   "metadata": {},
   "source": [
    "### 2.2.2 Map from angular velocity to angular rates"
   ]
  },
  {
   "cell_type": "markdown",
   "id": "bb2179ef",
   "metadata": {},
   "source": [
    "Recall that\n",
    "\n",
    "$$\\begin{bmatrix} \\dot{\\psi} \\\\ \\dot{\\theta} \\\\ \\dot{\\phi} \\end{bmatrix} = N w_{0, 1}^{1}$$\n",
    "\n",
    "for some matrix $N$. Here is how to compute that matrix for a ZYX (yaw, pitch, roll) Euler angle sequence.  First, we compute its inverse:"
   ]
  },
  {
   "cell_type": "code",
   "execution_count": null,
   "id": "4ceedf24",
   "metadata": {},
   "outputs": [],
   "source": [
    "Ninv = sym.Matrix.hstack((Ry * Rx).T * sym.Matrix([0, 0, 1]),\n",
    "                              (Rx).T * sym.Matrix([0, 1, 0]),\n",
    "                                       sym.Matrix([1, 0, 0]))"
   ]
  },
  {
   "cell_type": "markdown",
   "id": "938044d2",
   "metadata": {},
   "source": [
    "Then, we compute $N$ by taking the inverse of $N^{-1}$:"
   ]
  },
  {
   "cell_type": "code",
   "execution_count": null,
   "id": "41071e08",
   "metadata": {},
   "outputs": [],
   "source": [
    "N = sym.simplify(Ninv.inv())"
   ]
  },
  {
   "cell_type": "code",
   "execution_count": null,
   "id": "b41f499a",
   "metadata": {},
   "outputs": [],
   "source": [
    "N"
   ]
  },
  {
   "cell_type": "markdown",
   "id": "7cea7d8c",
   "metadata": {},
   "source": [
    "## 2.3 Define equations of motion"
   ]
  },
  {
   "cell_type": "markdown",
   "id": "55b3dfb6",
   "metadata": {},
   "source": [
    "Forces."
   ]
  },
  {
   "cell_type": "code",
   "execution_count": null,
   "id": "e6bc0c8f",
   "metadata": {},
   "outputs": [],
   "source": [
    "f_in1 = R_1in0.T * sym.Matrix([0, 0, -m * g]) + sym.Matrix([0, 0, f_z])"
   ]
  },
  {
   "cell_type": "markdown",
   "id": "7985bc37",
   "metadata": {},
   "source": [
    "Torques."
   ]
  },
  {
   "cell_type": "code",
   "execution_count": null,
   "id": "ea1968b3",
   "metadata": {},
   "outputs": [],
   "source": [
    "tau_in1 = sym.Matrix([tau_x, tau_y, tau_z])"
   ]
  },
  {
   "cell_type": "code",
   "execution_count": null,
   "id": "4882ec67",
   "metadata": {},
   "outputs": [],
   "source": [
    "f_in1"
   ]
  },
  {
   "cell_type": "code",
   "execution_count": null,
   "id": "dff19837",
   "metadata": {},
   "outputs": [],
   "source": [
    "tau_in1"
   ]
  },
  {
   "cell_type": "markdown",
   "id": "d7bba8a1",
   "metadata": {},
   "source": [
    "Create equations of motion."
   ]
  },
  {
   "cell_type": "code",
   "execution_count": null,
   "id": "7fbaebc8",
   "metadata": {},
   "outputs": [],
   "source": [
    "f_sym = sym.Matrix.vstack(R_1in0 * v_01in1,\n",
    "                          N * w_01in1,\n",
    "                          (1 / m) * (f_in1 - w_01in1.cross(m * v_01in1)),\n",
    "                          J_in1.inv() * (tau_in1 - w_01in1.cross(J_in1 * w_01in1)))"
   ]
  },
  {
   "cell_type": "markdown",
   "id": "21ec268b",
   "metadata": {},
   "source": [
    "Show equations of motion, which have the form\n",
    "\n",
    "$$\\dot{s} = f(s, i, p)$$\n",
    "\n",
    "for states\n",
    "\n",
    "$$\n",
    "s = \\begin{bmatrix} o_x \\\\ o_y \\\\ o_z \\\\ \\psi \\\\ \\theta \\\\ \\phi \\\\ v_x \\\\ v_y \\\\ v_z \\\\ w_x \\\\ w_y \\\\ w_z \\end{bmatrix},\n",
    "$$\n",
    "\n",
    "inputs\n",
    "$$\n",
    "i = \\begin{bmatrix} \\tau_x \\\\ \\tau_y \\\\ \\tau_z \\\\ f_z \\end{bmatrix},\n",
    "$$\n",
    "\n",
    "and parameters\n",
    "$$\n",
    "p = \\begin{bmatrix} m \\\\ J_x \\\\ J_y \\\\ J_z \\\\ g \\end{bmatrix}.\n",
    "$$"
   ]
  },
  {
   "cell_type": "code",
   "execution_count": null,
   "id": "b9252fb2",
   "metadata": {},
   "outputs": [],
   "source": [
    "f_sym"
   ]
  },
  {
   "cell_type": "markdown",
   "id": "c85ab58b",
   "metadata": {},
   "source": [
    "# 3. Derive state-space model"
   ]
  },
  {
   "cell_type": "markdown",
   "id": "9155a7fe",
   "metadata": {},
   "source": [
    "## 3.1 Choose equilibrium point\n",
    "\n",
    "An equilibrium point of the nonlinear system is a choice of states $s_\\text{eq}$ and inputs $i_\\text{eq}$ - along with constant parameters $p_\\text{eq}$ - for which\n",
    "\n",
    "$$0 = f(s_\\text{eq}, i_\\text{eq}, p_\\text{eq}).$$"
   ]
  },
  {
   "cell_type": "markdown",
   "id": "c75d528a",
   "metadata": {},
   "source": [
    "Create a list of states, inputs, and parameters as symbolic variables."
   ]
  },
  {
   "cell_type": "code",
   "execution_count": null,
   "id": "625354b7",
   "metadata": {},
   "outputs": [],
   "source": [
    "s = [o_x, o_y, o_z, psi, theta, phi, v_x, v_y, v_z, w_x, w_y, w_z]\n",
    "i = [tau_x, tau_y, tau_z, f_z]\n",
    "p = [m, J_x, J_y, J_z, g]"
   ]
  },
  {
   "cell_type": "markdown",
   "id": "641180b9",
   "metadata": {},
   "source": [
    "Create a list of states to track as symbolic variables. These are states whose desired values will be specified by a client."
   ]
  },
  {
   "cell_type": "code",
   "execution_count": null,
   "id": "9fac5bdd",
   "metadata": {},
   "outputs": [],
   "source": [
    "s_with_des = [o_x, o_y, o_z]"
   ]
  },
  {
   "cell_type": "markdown",
   "id": "7d2abd7e",
   "metadata": {},
   "source": [
    "Create a function that evaluates $f(\\cdot)$ at particular values of $s$, $i$, and $p$."
   ]
  },
  {
   "cell_type": "code",
   "execution_count": null,
   "id": "4d17f08f",
   "metadata": {},
   "outputs": [],
   "source": [
    "f = sym.lambdify(s + i + p, f_sym)"
   ]
  },
  {
   "cell_type": "markdown",
   "id": "d98773f6",
   "metadata": {},
   "source": [
    "Define constants."
   ]
  },
  {
   "cell_type": "code",
   "execution_count": null,
   "id": "47fb1476",
   "metadata": {},
   "outputs": [],
   "source": [
    "# Mass\n",
    "m = 0.032    # <-- FIXME\n",
    "\n",
    "# Principle moments of inertia\n",
    "J_x = 1e-05  # <-- FIXME\n",
    "J_y = 1e-05  # <-- FIXME\n",
    "J_z = 2e-05  # <-- FIXME\n",
    "\n",
    "# Acceleration of gravity\n",
    "g = 9.81"
   ]
  },
  {
   "cell_type": "markdown",
   "id": "e53dbfa0",
   "metadata": {},
   "source": [
    "Create a list of parameter values in the **same order** as the symbolic list. These are the parameter estimates we found in our experiments. They are not choices. (We use the subscript `_eq` to be consistent with what follows, and could say \"parameter values *at equilibrium*,\" but don't be misled. These parameter values are *given* and are *constant* - again, they aren't choices.)"
   ]
  },
  {
   "cell_type": "code",
   "execution_count": null,
   "id": "8d10f651",
   "metadata": {},
   "outputs": [],
   "source": [
    "p_eq = [m, J_x, J_y, J_z, g]"
   ]
  },
  {
   "cell_type": "markdown",
   "id": "5f89e5d8",
   "metadata": {},
   "source": [
    "Create a list of state and input values at equilibrium in the **same order** as the symbolic lists."
   ]
  },
  {
   "cell_type": "code",
   "execution_count": null,
   "id": "de2de4fa",
   "metadata": {},
   "outputs": [],
   "source": [
    "s_eq = [0., 0., 0., 0., 0., 0., 0., 0., 0., 0., 0., 0.] # <-- FIXME\n",
    "i_eq = [0., 0., 0., 0.]                                 # <-- FIXME"
   ]
  },
  {
   "cell_type": "markdown",
   "id": "f348d155",
   "metadata": {},
   "source": [
    "Evaluate the equations of motion at the equilibrium point - if it actually *is* an equilibrium point, then the result should be an array of zeros:"
   ]
  },
  {
   "cell_type": "code",
   "execution_count": null,
   "id": "69fad4a6",
   "metadata": {},
   "outputs": [],
   "source": [
    "print(f(*s_eq, *i_eq, *p_eq))"
   ]
  },
  {
   "cell_type": "markdown",
   "id": "a7be0a7c",
   "metadata": {},
   "source": [
    "Note that this equilibrium point would remain an equilibrium point for any choice of `o_x`, `o_y`, and `o_z` - that is one thing that allows the controller to track desired values of these variables."
   ]
  },
  {
   "cell_type": "markdown",
   "id": "3aea14ba",
   "metadata": {},
   "source": [
    "## 3.2 Compute A and B"
   ]
  },
  {
   "cell_type": "markdown",
   "id": "0f06c0f6",
   "metadata": {},
   "source": [
    "We want to find\n",
    "\n",
    "$$\n",
    "A = \\frac{\\partial f}{\\partial s}\\biggr\\vert_{(s, i, p) = (s_\\text{eq}, i_\\text{eq}, p_\\text{eq})}\n",
    "\\qquad\\text{and}\\qquad\n",
    "B = \\frac{\\partial f}{\\partial i}\\biggr\\vert_{(s, i, p) = (s_\\text{eq}, i_\\text{eq}, p_\\text{eq})}.\n",
    "$$\n",
    "\n",
    "First, we compute each Jacobian (i.e., each matrix of partial derivatives) in symbolic form."
   ]
  },
  {
   "cell_type": "code",
   "execution_count": null,
   "id": "be3be0c0",
   "metadata": {},
   "outputs": [],
   "source": [
    "A_sym = f_sym.jacobian(s)\n",
    "B_sym = f_sym.jacobian(i)"
   ]
  },
  {
   "cell_type": "markdown",
   "id": "b9036e88",
   "metadata": {},
   "source": [
    "Then, we create functions that allow us to evaluate these Jacobians at particular values of $s$, $i$, and $p$."
   ]
  },
  {
   "cell_type": "code",
   "execution_count": null,
   "id": "63b9dadc",
   "metadata": {},
   "outputs": [],
   "source": [
    "A_num = sym.lambdify(s + i + p, A_sym)\n",
    "B_num = sym.lambdify(s + i + p, B_sym)"
   ]
  },
  {
   "cell_type": "markdown",
   "id": "5e3e54a8",
   "metadata": {},
   "source": [
    "Finally, we plug in our equilibrium point."
   ]
  },
  {
   "cell_type": "code",
   "execution_count": null,
   "id": "133b55e3",
   "metadata": {},
   "outputs": [],
   "source": [
    "A = A_num(*s_eq, *i_eq, *p_eq)\n",
    "B = B_num(*s_eq, *i_eq, *p_eq)"
   ]
  },
  {
   "cell_type": "markdown",
   "id": "00b536e1",
   "metadata": {},
   "source": [
    "Show $A$ (formatted nicely)."
   ]
  },
  {
   "cell_type": "code",
   "execution_count": null,
   "id": "1b1301f5",
   "metadata": {},
   "outputs": [],
   "source": [
    "A_str = np.array2string(A,\n",
    "                        formatter={'float_kind': lambda x: f'{x:5.2f}'},\n",
    "                        prefix='    ',\n",
    "                        max_line_width=np.inf)\n",
    "\n",
    "print(f'A = {A_str}')"
   ]
  },
  {
   "cell_type": "markdown",
   "id": "2d30d018",
   "metadata": {},
   "source": [
    "Show $B$ (formatted nicely)."
   ]
  },
  {
   "cell_type": "code",
   "execution_count": null,
   "id": "f865ba42",
   "metadata": {},
   "outputs": [],
   "source": [
    "B_str = np.array2string(B,\n",
    "                        formatter={'float_kind': lambda x: f'{x:10.2f}'},\n",
    "                        prefix='    ',\n",
    "                        max_line_width=np.inf)\n",
    "\n",
    "print(f'B = {B_str}')"
   ]
  },
  {
   "cell_type": "markdown",
   "id": "1f59afeb",
   "metadata": {},
   "source": [
    "The state-space system is described by\n",
    "\n",
    "$$ \\dot{x} = Ax + Bu $$\n",
    "\n",
    "where\n",
    "\n",
    "$$ x = s - s_\\text{eq} $$\n",
    "\n",
    "and\n",
    "\n",
    "$$ u = i - i_\\text{eq}. $$"
   ]
  },
  {
   "cell_type": "markdown",
   "id": "49f68983",
   "metadata": {},
   "source": [
    "Note that $A$ and $B$ would remain the same for any choice of `o_x`, `o_y`, and `o_z` - that is the other thing that allows the controller to track desired values of these variables."
   ]
  },
  {
   "cell_type": "markdown",
   "id": "b2302b9f",
   "metadata": {},
   "source": [
    "# 4. Design method of power distribution\n",
    "\n",
    "It should only be necessary to do this once."
   ]
  },
  {
   "cell_type": "markdown",
   "id": "469a9638",
   "metadata": {},
   "source": [
    "Define constants."
   ]
  },
  {
   "cell_type": "code",
   "execution_count": null,
   "id": "0e40099b",
   "metadata": {},
   "outputs": [],
   "source": [
    "k_F = 2e-6 # <-- FIXME\n",
    "k_M = 1e-8 # <-- FIXME\n",
    "l = 0.035  # <-- FIXME"
   ]
  },
  {
   "cell_type": "markdown",
   "id": "f03ac63e",
   "metadata": {},
   "source": [
    "Define the matrix $P$ that maps motor power commands ($m_1$, $m_2$, $m_3$, $m_4$) to inputs ($\\tau_x$, $\\tau_y$, $\\tau_z$, $f_z$)."
   ]
  },
  {
   "cell_type": "code",
   "execution_count": null,
   "id": "18eddaae",
   "metadata": {},
   "outputs": [],
   "source": [
    "P = np.array([[ -l * k_F, -l * k_F,  l * k_F,  l * k_F  ],\n",
    "              [ -l * k_F, l * k_F,   l * k_F,  -l * k_F ],\n",
    "              [ -k_M,     k_M,       -k_M,     k_M      ],\n",
    "              [ k_F,      k_F,       k_F,      k_F      ]])"
   ]
  },
  {
   "cell_type": "markdown",
   "id": "1ab6b76f",
   "metadata": {},
   "source": [
    "Compute the matrix $P^{-1}$ that maps inputs to motor power commands."
   ]
  },
  {
   "cell_type": "code",
   "execution_count": null,
   "id": "dd6880d2",
   "metadata": {},
   "outputs": [],
   "source": [
    "Pinv = linalg.inv(P)"
   ]
  },
  {
   "cell_type": "markdown",
   "id": "f51c0e3c",
   "metadata": {},
   "source": [
    "Print code that implements the method of power distribution in python (for simulation)."
   ]
  },
  {
   "cell_type": "code",
   "execution_count": null,
   "id": "dad35dc2",
   "metadata": {},
   "outputs": [],
   "source": [
    "export_power_distribution(Pinv)"
   ]
  },
  {
   "cell_type": "markdown",
   "id": "eb4b3907",
   "metadata": {},
   "source": [
    "Print code that implements the method of power distribution in C (for hardware)."
   ]
  },
  {
   "cell_type": "code",
   "execution_count": null,
   "id": "c53537c2",
   "metadata": {},
   "outputs": [],
   "source": [
    "export_power_distribution(\n",
    "    Pinv,\n",
    "    limiter='limitUint16',\n",
    "    suffix='f',\n",
    "    line_ending=';',\n",
    ")"
   ]
  },
  {
   "cell_type": "markdown",
   "id": "6f948b8f",
   "metadata": {},
   "source": [
    "# 5. Design, implement, and test a sequence of controllers"
   ]
  },
  {
   "cell_type": "markdown",
   "id": "e49912d9",
   "metadata": {},
   "source": [
    "To get a working controller in hardware, you will likely need to repeat the following steps many times:\n",
    "\n",
    "* Design a controller\n",
    "* Implement and test this controller in simulation\n",
    "* Implement and test this controller in hardware\n",
    "\n",
    "Here is a template for these three steps. Please duplicate this template for each flight test. Please also modify this template as appropriate (e.g., doing more than one flight test with the same controller, or doing only hardware flight tests when fine-tuning performance after you get a working controller)."
   ]
  },
  {
   "cell_type": "markdown",
   "id": "d9394430",
   "metadata": {},
   "source": [
    "## 5.x Flight test (template)\n",
    "\n",
    "Each time you duplicate this section, replace the title with a brief description of your current flight test."
   ]
  },
  {
   "cell_type": "markdown",
   "id": "6c6e8c43",
   "metadata": {},
   "source": [
    "### 5.x.1 Control design"
   ]
  },
  {
   "cell_type": "markdown",
   "id": "1d7dd0e3",
   "metadata": {},
   "source": [
    "For your controller, we suggest you use linear state feedback of the form\n",
    "\n",
    "$$u = - K (x - x_\\text{des})$$\n",
    "\n",
    "where the gain matrix $K$ is chosen by solving an infinite-horizon LQR problem (e.g., with the helper function `lqr`) and where\n",
    "\n",
    "$$x_\\text{des} = \\begin{bmatrix} o_{x, \\text{des}} \\\\ o_{y, \\text{des}} \\\\ o_{z, \\text{des}} \\\\ 0 \\\\ 0 \\\\ 0 \\\\ 0 \\\\ 0 \\\\ 0 \\\\ 0 \\\\ 0 \\\\ 0 \\end{bmatrix}.$$\n",
    "\n",
    "Remember that the LQR problem is defined by the choice of weights $Q$ and $R$. Both must be square matrices, $Q$ must be positive semidefinite, and $R$ must be positive definite. Both $Q$ and $R$ are almost always chosen to be diagonal. Remember that $Q$ penalizes non-zero states (i.e., non-zero values of $x$) and that $R$ penalizes non-zero inputs (i.e., non-zero values of $u$). If you want smaller states, increase $Q$. If you want smaller inputs, increase $R$.\n",
    "\n",
    "**Replace this text** to say why and how you chose $Q$ and $R$ for the controller used in this flight test."
   ]
  },
  {
   "cell_type": "code",
   "execution_count": null,
   "id": "cfe7e1a9",
   "metadata": {},
   "outputs": [],
   "source": [
    "Q = np.diag([\n",
    "    1.,\n",
    "    1.,\n",
    "    1.,\n",
    "    1.,\n",
    "    1.,\n",
    "    1.,\n",
    "    1.,\n",
    "    1.,\n",
    "    1.,\n",
    "    1.,\n",
    "    1.,\n",
    "    1.,\n",
    "])\n",
    "\n",
    "R = np.diag([\n",
    "    1.,\n",
    "    1.,\n",
    "    1.,\n",
    "    1.,\n",
    "])"
   ]
  },
  {
   "cell_type": "markdown",
   "id": "da9be333",
   "metadata": {},
   "source": [
    "Find $K$ for the chosen $Q$ and $R$."
   ]
  },
  {
   "cell_type": "code",
   "execution_count": null,
   "id": "29b7f15d",
   "metadata": {},
   "outputs": [],
   "source": [
    "K = lqr(A, B, Q, R)"
   ]
  },
  {
   "cell_type": "markdown",
   "id": "4905e431",
   "metadata": {},
   "source": [
    "Show $K$ (formatted nicely)."
   ]
  },
  {
   "cell_type": "code",
   "execution_count": null,
   "id": "d46235f0",
   "metadata": {},
   "outputs": [],
   "source": [
    "K_str = np.array2string(K,\n",
    "                        formatter={'float_kind': lambda x: f'{x:6.3f}'},\n",
    "                        prefix='    ',\n",
    "                        max_line_width=np.inf)\n",
    "\n",
    "print(f'K = {K_str}')"
   ]
  },
  {
   "cell_type": "markdown",
   "id": "7ab6aadd",
   "metadata": {},
   "source": [
    "Print code that implements the controller in python (for simulation)."
   ]
  },
  {
   "cell_type": "code",
   "execution_count": null,
   "id": "29c1ec6d",
   "metadata": {},
   "outputs": [],
   "source": [
    "export_controller(\n",
    "    K,               # the gain matrix\n",
    "    s,               # list of states as symbolic variables\n",
    "    i,               # list of inputs as symbolic variables\n",
    "    s_with_des,      # list of states that have desired values as symbolic variables\n",
    "    i_eq,            # list of equilibrium values of inputs\n",
    ")"
   ]
  },
  {
   "cell_type": "markdown",
   "id": "3b9e9295",
   "metadata": {},
   "source": [
    "Print code that implements the controller in C (for hardware)."
   ]
  },
  {
   "cell_type": "code",
   "execution_count": null,
   "id": "844f1be0",
   "metadata": {},
   "outputs": [],
   "source": [
    "export_controller(\n",
    "    K,               # the gain matrix\n",
    "    s,               # list of states as symbolic variables\n",
    "    i,               # list of inputs as symbolic variables\n",
    "    s_with_des,      # list of states that have desired values as symbolic variables\n",
    "    i_eq,            # list of equilibrium values of inputs\n",
    "    suffix='f',      # character to print after each number (indicates a \"float\")\n",
    "    line_ending=';'  # character to print after each line\n",
    ")"
   ]
  },
  {
   "cell_type": "markdown",
   "id": "35765bbc",
   "metadata": {},
   "source": [
    "### 5.x.2 Simulation results"
   ]
  },
  {
   "cell_type": "markdown",
   "id": "952b81f3",
   "metadata": {},
   "source": [
    "#### Describe the flight test"
   ]
  },
  {
   "cell_type": "markdown",
   "id": "5a68ef5d",
   "metadata": {},
   "source": [
    "Replace this cell with the following information, at minimum:\n",
    "\n",
    "* The name of the client you used (e.g., `RobotClient_Hover`).\n",
    "* A description in words of the trajectory specified by this client.\n",
    "* The initial state (i.e., as specified by `simulator.set_state`).\n",
    "\n",
    "It may also be helpful to include a snippet of code from your client. You can include code in markdown with a \"code block\" that is delimited by three backslashes above and below - for example, this...\n",
    "\n",
    "``````\n",
    "```python\n",
    "o_x = 0.\n",
    "o_y = 0.\n",
    "o_z = 0.3\n",
    "psi = 0.\n",
    "```\n",
    "``````\n",
    "...is rendered like this:\n",
    "```python\n",
    "o_x = 0.\n",
    "o_y = 0.\n",
    "o_z = 0.3\n",
    "psi = 0.\n",
    "```"
   ]
  },
  {
   "cell_type": "markdown",
   "id": "92daf483",
   "metadata": {},
   "source": [
    "#### Show a video of the flight test"
   ]
  },
  {
   "cell_type": "markdown",
   "id": "2850519a",
   "metadata": {},
   "source": [
    "In the following cell, show a video of your simulation flight test (change the url as appropriate)."
   ]
  },
  {
   "cell_type": "code",
   "execution_count": null,
   "id": "cd2f0599",
   "metadata": {},
   "outputs": [],
   "source": [
    "# FIXME (REPLACE URL TO SHOW A VIDEO OF YOUR FLIGHT)\n",
    "mediaspace('https://mediaspace.illinois.edu/media/t/YOUR_VIDEO_ID')"
   ]
  },
  {
   "cell_type": "markdown",
   "id": "82cafb4e",
   "metadata": {},
   "source": [
    "#### Plot results from the flight test"
   ]
  },
  {
   "cell_type": "markdown",
   "id": "ebc063b6",
   "metadata": {},
   "source": [
    "Load data from simulation."
   ]
  },
  {
   "cell_type": "code",
   "execution_count": null,
   "id": "f85b4e7d",
   "metadata": {},
   "outputs": [],
   "source": [
    "data = load_simulation_data(\n",
    "    'simulation_x_data.json', # <-- replace with name of file with simulation data\n",
    "    'my_drone',               # <-- replace with name of drone whose data you want to load\n",
    ")"
   ]
  },
  {
   "cell_type": "markdown",
   "id": "85bd9597",
   "metadata": {},
   "source": [
    "Parse data to get:\n",
    "\n",
    "* time\n",
    "* position\n",
    "* desired position\n",
    "* orientation\n",
    "* motor power commands"
   ]
  },
  {
   "cell_type": "code",
   "execution_count": null,
   "id": "91f36518",
   "metadata": {},
   "outputs": [],
   "source": [
    "# time\n",
    "t = data['t']\n",
    "\n",
    "# position\n",
    "o_x = data['state']['o_x']\n",
    "o_y = data['state']['o_y']\n",
    "o_z = data['state']['o_z']\n",
    "\n",
    "# desired position\n",
    "o_x_des = data['setpoint']['o_x']\n",
    "o_y_des = data['setpoint']['o_y']\n",
    "o_z_des = data['setpoint']['o_z']\n",
    "\n",
    "# orientation\n",
    "psi = data['state']['psi']\n",
    "theta = data['state']['theta']\n",
    "phi = data['state']['phi']\n",
    "\n",
    "# motor power commands\n",
    "m_1 = data['power']['m_1']\n",
    "m_2 = data['power']['m_2']\n",
    "m_3 = data['power']['m_3']\n",
    "m_4 = data['power']['m_4']"
   ]
  },
  {
   "cell_type": "markdown",
   "id": "a1fabc5d",
   "metadata": {},
   "source": [
    "Compute error in position (this is a function of time)."
   ]
  },
  {
   "cell_type": "code",
   "execution_count": null,
   "id": "eb7a4ec8",
   "metadata": {},
   "outputs": [],
   "source": [
    "o_x_err = o_x - o_x_des\n",
    "o_y_err = o_y - o_y_des\n",
    "o_z_err = o_z - o_z_des"
   ]
  },
  {
   "cell_type": "markdown",
   "id": "576937c0",
   "metadata": {},
   "source": [
    "Plot position error, orientation, and motor power commands."
   ]
  },
  {
   "cell_type": "code",
   "execution_count": null,
   "id": "d0aca8d0",
   "metadata": {},
   "outputs": [],
   "source": [
    "fig, (ax_pos, ax_ori, ax_pow) = plt.subplots(3, 1, figsize=(12, 12), sharex=True)\n",
    "ax_pos.plot(t, o_x_err, label='x position error')\n",
    "ax_pos.plot(t, o_y_err, label='y position error')\n",
    "ax_pos.plot(t, o_z_err, label='z position error')\n",
    "ax_pos.legend()\n",
    "ax_pos.grid()\n",
    "ax_ori.plot(t, psi, label='psi')\n",
    "ax_ori.plot(t, theta, label='theta')\n",
    "ax_ori.plot(t, phi, label='phi')\n",
    "ax_ori.legend()\n",
    "ax_ori.grid()\n",
    "ax_pow.plot(t, m_1, label='m_1')\n",
    "ax_pow.plot(t, m_2, label='m_2')\n",
    "ax_pow.plot(t, m_3, label='m_3')\n",
    "ax_pow.plot(t, m_4, label='m_4')\n",
    "ax_pow.legend()\n",
    "ax_pow.grid()\n",
    "ax_pow.set_xlabel('time (s)')"
   ]
  },
  {
   "cell_type": "markdown",
   "id": "38ecbb5a",
   "metadata": {},
   "source": [
    "#### Discuss the flight test"
   ]
  },
  {
   "cell_type": "markdown",
   "id": "109ec76d",
   "metadata": {},
   "source": [
    "Replace this cell with a description of your results. Note any differences between what you expected and what you saw, in particular trying to explain the cause of any failures (e.g., crashed drone). Say what might be done to further improve performance."
   ]
  },
  {
   "cell_type": "markdown",
   "id": "fdc81a52",
   "metadata": {},
   "source": [
    "### 5.x.3 Hardware results"
   ]
  },
  {
   "cell_type": "markdown",
   "id": "dc20c1fd",
   "metadata": {},
   "source": [
    "#### Describe the flight test"
   ]
  },
  {
   "cell_type": "markdown",
   "id": "fa8f22d9",
   "metadata": {},
   "source": [
    "Replace this cell with the following information, at minimum:\n",
    "\n",
    "* A description of the flight trajectory, both in words and (if you like) a snippet of code from `flight.py`.\n",
    "* A description of the flight conditions (e.g., where was the flight conducted, did you power cycle the drone just before flying, were you using the positioning system or only the onboard sensors, etc.)."
   ]
  },
  {
   "cell_type": "markdown",
   "id": "9420a052",
   "metadata": {},
   "source": [
    "#### Show a video of the flight test"
   ]
  },
  {
   "cell_type": "markdown",
   "id": "60d73c65",
   "metadata": {},
   "source": [
    "In the following cell, show a video of your hardware flight test (change the url as appropriate)."
   ]
  },
  {
   "cell_type": "code",
   "execution_count": null,
   "id": "81fef502",
   "metadata": {},
   "outputs": [],
   "source": [
    "# FIXME (REPLACE URL TO SHOW A VIDEO OF YOUR FLIGHT)\n",
    "mediaspace('https://mediaspace.illinois.edu/media/t/YOUR_VIDEO_ID')"
   ]
  },
  {
   "cell_type": "markdown",
   "id": "e8cd6933",
   "metadata": {},
   "source": [
    "#### Plot results from the flight test"
   ]
  },
  {
   "cell_type": "markdown",
   "id": "38847b8f",
   "metadata": {},
   "source": [
    "Load data from hardware."
   ]
  },
  {
   "cell_type": "code",
   "execution_count": null,
   "id": "43e61219",
   "metadata": {},
   "outputs": [],
   "source": [
    "data = load_hardware_data(\n",
    "    'hardware_x_data.json', # <-- replace with name of file with hardware data\n",
    "    t_min_offset=0.,      # <-- (optional) replace with how many seconds of data to ignore at start\n",
    "    t_max_offset=0.,      # <-- (optional) replace with how many seconds of data to ignore at end\n",
    ")"
   ]
  },
  {
   "cell_type": "markdown",
   "id": "ec804f90",
   "metadata": {},
   "source": [
    "Parse data to get:\n",
    "\n",
    "* time\n",
    "* position\n",
    "* desired position\n",
    "* orientation\n",
    "* motor power commands"
   ]
  },
  {
   "cell_type": "code",
   "execution_count": null,
   "id": "1d45c5d9",
   "metadata": {},
   "outputs": [],
   "source": [
    "# time\n",
    "t = data['time']\n",
    "\n",
    "# position\n",
    "o_x = data['ae483log.o_x']\n",
    "o_y = data['ae483log.o_y']\n",
    "o_z = data['ae483log.o_z']\n",
    "\n",
    "# desired position\n",
    "o_x_des = data['ae483log.o_x_des']\n",
    "o_y_des = data['ae483log.o_y_des']\n",
    "o_z_des = data['ae483log.o_z_des']\n",
    "\n",
    "# orientation\n",
    "psi = data['ae483log.psi']\n",
    "theta = data['ae483log.theta']\n",
    "phi = data['ae483log.phi']\n",
    "\n",
    "# motor power commands\n",
    "m_1 = data['ae483log.m_1']\n",
    "m_2 = data['ae483log.m_2']\n",
    "m_3 = data['ae483log.m_3']\n",
    "m_4 = data['ae483log.m_4']"
   ]
  },
  {
   "cell_type": "markdown",
   "id": "be11063d",
   "metadata": {},
   "source": [
    "Compute error in position (this is a function of time)."
   ]
  },
  {
   "cell_type": "code",
   "execution_count": null,
   "id": "145d52ed",
   "metadata": {},
   "outputs": [],
   "source": [
    "o_x_err = o_x - o_x_des\n",
    "o_y_err = o_y - o_y_des\n",
    "o_z_err = o_z - o_z_des"
   ]
  },
  {
   "cell_type": "markdown",
   "id": "1f302019",
   "metadata": {},
   "source": [
    "Plot position error, orientation, and motor power commands."
   ]
  },
  {
   "cell_type": "code",
   "execution_count": null,
   "id": "e87fd6e4",
   "metadata": {},
   "outputs": [],
   "source": [
    "fig, (ax_pos, ax_ori, ax_pow) = plt.subplots(3, 1, figsize=(12, 12), sharex=True)\n",
    "ax_pos.plot(t, o_x_err, label='x position error')\n",
    "ax_pos.plot(t, o_y_err, label='y position error')\n",
    "ax_pos.plot(t, o_z_err, label='z position error')\n",
    "ax_pos.legend()\n",
    "ax_pos.grid()\n",
    "ax_ori.plot(t, psi, label='psi')\n",
    "ax_ori.plot(t, theta, label='theta')\n",
    "ax_ori.plot(t, phi, label='phi')\n",
    "ax_ori.legend()\n",
    "ax_ori.grid()\n",
    "ax_pow.plot(t, m_1, label='m_1')\n",
    "ax_pow.plot(t, m_2, label='m_2')\n",
    "ax_pow.plot(t, m_3, label='m_3')\n",
    "ax_pow.plot(t, m_4, label='m_4')\n",
    "ax_pow.legend()\n",
    "ax_pow.grid()\n",
    "ax_pow.set_xlabel('time (s)')"
   ]
  },
  {
   "cell_type": "markdown",
   "id": "1c9646fd",
   "metadata": {},
   "source": [
    "#### Discuss the flight test"
   ]
  },
  {
   "cell_type": "markdown",
   "id": "0d1b94af",
   "metadata": {},
   "source": [
    "Replace this cell with a description of your results. Note any differences between what you expected and what you saw, in particular trying to explain the cause of any failures (e.g., crashed drone). Say what might be done to further improve performance."
   ]
  },
  {
   "cell_type": "markdown",
   "id": "c8fc52c2",
   "metadata": {},
   "source": [
    "# 6. Summarize and discuss the results"
   ]
  },
  {
   "cell_type": "markdown",
   "id": "53b74036",
   "metadata": {},
   "source": [
    "**Modify the text in this cell** to answer the following questions:\n",
    "\n",
    "* What level of performance were you able to achieve?\n",
    "* What are the remaining limitations of your controller?\n",
    "* How might the control architecture be changed to address these limitations or to further improve performance?"
   ]
  },
  {
   "cell_type": "code",
   "execution_count": null,
   "id": "9227a421",
   "metadata": {},
   "outputs": [],
   "source": []
  }
 ],
 "metadata": {
  "kernelspec": {
   "display_name": "Python 3 (ipykernel)",
   "language": "python",
   "name": "python3"
  },
  "language_info": {
   "codemirror_mode": {
    "name": "ipython",
    "version": 3
   },
   "file_extension": ".py",
   "mimetype": "text/x-python",
   "name": "python",
   "nbconvert_exporter": "python",
   "pygments_lexer": "ipython3",
   "version": "3.10.5"
  }
 },
 "nbformat": 4,
 "nbformat_minor": 5
}
