{
 "cells": [
  {
   "cell_type": "markdown",
   "id": "0dc7baa6",
   "metadata": {},
   "source": [
    "# Plot flight data"
   ]
  },
  {
   "cell_type": "markdown",
   "id": "38bcc561",
   "metadata": {},
   "source": [
    "Import the modules we need to load and plot the flight data."
   ]
  },
  {
   "cell_type": "code",
   "execution_count": null,
   "id": "294d9f2d",
   "metadata": {},
   "outputs": [],
   "source": [
    "import json\n",
    "import numpy as np\n",
    "import matplotlib.pyplot as plt\n",
    "from scipy.interpolate import interp1d"
   ]
  },
  {
   "cell_type": "markdown",
   "id": "7b1b0bd9",
   "metadata": {},
   "source": [
    "Flight data are all collected at different times. Analysis is more convenient if we first *resample* the flight data so it is as if these data were all collected at the same times.\n",
    "\n",
    "Here is a function that loads and resamples the flight data at 100 Hz, using linear interpolation. It returns the resampled flight data in the form of a dictionary, where each item is a numpy array."
   ]
  },
  {
   "cell_type": "code",
   "execution_count": null,
   "id": "9c7d9483",
   "metadata": {},
   "outputs": [],
   "source": [
    "def resample(filename):\n",
    "    # load raw data\n",
    "    with open(filename, 'r') as f:\n",
    "        data = json.load(f)\n",
    "\n",
    "    # convert lists to numpy arrays\n",
    "    for val in data.values():\n",
    "        for key in val.keys():\n",
    "            val[key] = np.array(val[key])\n",
    "\n",
    "    # create an array of times at which to subsample\n",
    "    t_min = -np.inf\n",
    "    t_max = np.inf\n",
    "    for key, val in data.items():\n",
    "        t_min = max(t_min, val['time'][0])\n",
    "        t_max = min(t_max, val['time'][-1])\n",
    "    nt = int(1 + np.floor((t_max - t_min) / 10.))\n",
    "    t = np.arange(0, 10 * nt, 10) / 1000.\n",
    "    resampled_data = {'time': t}\n",
    "\n",
    "    # resample raw data with linear interpolation\n",
    "    for k, v in data.items():\n",
    "        f = interp1d((v['time'] - t_min) / 1000., v['data'])\n",
    "        resampled_data[k] = f(t)\n",
    "        \n",
    "    # return the resampled data\n",
    "    return resampled_data"
   ]
  },
  {
   "cell_type": "markdown",
   "id": "1d7319ec",
   "metadata": {},
   "source": [
    "Load and resample the flight data."
   ]
  },
  {
   "cell_type": "code",
   "execution_count": null,
   "id": "5232b586",
   "metadata": {},
   "outputs": [],
   "source": [
    "data = resample('logged_data.json')"
   ]
  },
  {
   "cell_type": "markdown",
   "id": "87e01cc5",
   "metadata": {},
   "source": [
    "Extract time, position, and orientation (converting angles from degrees to radians)."
   ]
  },
  {
   "cell_type": "code",
   "execution_count": null,
   "id": "7877d408",
   "metadata": {},
   "outputs": [],
   "source": [
    "t = data['time']\n",
    "x = data['stateEstimate.x']\n",
    "y = data['stateEstimate.y']\n",
    "z = data['stateEstimate.z']\n",
    "yaw = np.deg2rad(data['stateEstimate.yaw'])\n",
    "pitch = - np.deg2rad(data['stateEstimate.pitch']) # <-- think: why the change in sign?\n",
    "roll = np.deg2rad(data['stateEstimate.roll'])"
   ]
  },
  {
   "cell_type": "markdown",
   "id": "fde420e9",
   "metadata": {},
   "source": [
    "Plot position and orientation as a function of time."
   ]
  },
  {
   "cell_type": "code",
   "execution_count": null,
   "id": "6d219923",
   "metadata": {},
   "outputs": [],
   "source": [
    "fig, (ax_pos, ax_ori) = plt.subplots(2, 1, figsize=(10, 10), sharex=True)\n",
    "ax_pos.plot(t, x, label='x')\n",
    "ax_pos.plot(t, y, label='y')\n",
    "ax_pos.plot(t, z, label='z')\n",
    "ax_pos.legend(fontsize=18)\n",
    "ax_pos.grid()\n",
    "ax_pos.tick_params(labelsize=14)\n",
    "ax_pos.set_ylabel('meters', fontsize=14)\n",
    "ax_ori.plot(t, yaw, label='yaw')\n",
    "ax_ori.plot(t, pitch, label='pitch')\n",
    "ax_ori.plot(t, roll, label='roll')\n",
    "ax_ori.legend(fontsize=18)\n",
    "ax_ori.grid()\n",
    "ax_ori.set_ylabel('radians', fontsize=14)\n",
    "ax_ori.set_xlabel('time (s)', fontsize=18)\n",
    "ax_ori.tick_params(labelsize=14)\n",
    "fig.tight_layout()"
   ]
  },
  {
   "cell_type": "markdown",
   "id": "b2fabbe0",
   "metadata": {},
   "source": [
    "# Visualize flight data"
   ]
  },
  {
   "cell_type": "markdown",
   "id": "e3889283",
   "metadata": {},
   "source": [
    "Import the extra modules we need for visualization."
   ]
  },
  {
   "cell_type": "code",
   "execution_count": null,
   "id": "08a35268",
   "metadata": {},
   "outputs": [],
   "source": [
    "import time\n",
    "\n",
    "# This is my own script (it is an interface to the pybullet simulator)\n",
    "import ae483_drone\n",
    "\n",
    "# I often go back and forth between making changes to my scripts and to\n",
    "# the notebook in which they are used. One \"gotcha\" is that notebooks only\n",
    "# import modules or scripts ONCE. Subsequent imports don't do anything, and\n",
    "# in particular won't reflect any changes I've made to my scripts. To make\n",
    "# sure that I'm working with the latest version of my code, I use this bit\n",
    "# of magic, which forces the notebook to \"reload\" my script:\n",
    "import importlib\n",
    "importlib.reload(ae483_drone)"
   ]
  },
  {
   "cell_type": "markdown",
   "id": "153313c9",
   "metadata": {},
   "source": [
    "Start the simulator."
   ]
  },
  {
   "cell_type": "code",
   "execution_count": null,
   "id": "1d71d6db",
   "metadata": {},
   "outputs": [],
   "source": [
    "simulator = ae483_drone.Simulator(width=640, height=480)"
   ]
  },
  {
   "cell_type": "markdown",
   "id": "3d092c01",
   "metadata": {},
   "source": [
    "Replay the flight in the simulator, in real-time."
   ]
  },
  {
   "cell_type": "code",
   "execution_count": null,
   "id": "a4369096",
   "metadata": {},
   "outputs": [],
   "source": [
    "start_time = time.time()\n",
    "for i in range(len(t)):\n",
    "    while (time.time() - start_time) < t[i]:\n",
    "        time.sleep(0.001)\n",
    "    simulator.set_pose(x[i], y[i], z[i], yaw[i], pitch[i], roll[i])"
   ]
  },
  {
   "cell_type": "markdown",
   "id": "2fa1439c",
   "metadata": {},
   "source": [
    "Take a snapshot at a particular time step."
   ]
  },
  {
   "cell_type": "code",
   "execution_count": null,
   "id": "8a069e1c",
   "metadata": {},
   "outputs": [],
   "source": [
    "# Choose a time step\n",
    "i = 0\n",
    "\n",
    "# Put the drone where it was at this time step\n",
    "simulator.set_pose(x[i], y[i], z[i], yaw[i], pitch[i], roll[i])\n",
    "\n",
    "# Get snapshot\n",
    "rgba = simulator.snapshot()\n",
    "\n",
    "# Show snapshot\n",
    "fig = plt.figure(figsize=(10, 10))\n",
    "plt.imshow(rgba)\n",
    "plt.axis('off')\n",
    "\n",
    "# Save snapshot\n",
    "plt.imsave('snapshot.png', rgba)"
   ]
  },
  {
   "cell_type": "code",
   "execution_count": null,
   "id": "02b7d7f6",
   "metadata": {},
   "outputs": [],
   "source": []
  }
 ],
 "metadata": {
  "kernelspec": {
   "display_name": "Python 3 (ipykernel)",
   "language": "python",
   "name": "python3"
  },
  "language_info": {
   "codemirror_mode": {
    "name": "ipython",
    "version": 3
   },
   "file_extension": ".py",
   "mimetype": "text/x-python",
   "name": "python",
   "nbconvert_exporter": "python",
   "pygments_lexer": "ipython3",
   "version": "3.10.5"
  }
 },
 "nbformat": 4,
 "nbformat_minor": 5
}
