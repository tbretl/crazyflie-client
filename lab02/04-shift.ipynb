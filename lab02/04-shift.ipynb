{
 "cells": [
  {
   "cell_type": "markdown",
   "id": "892d4b04",
   "metadata": {},
   "source": [
    "# Shift"
   ]
  },
  {
   "cell_type": "markdown",
   "id": "9ca0da5b",
   "metadata": {},
   "source": [
    "Do imports."
   ]
  },
  {
   "cell_type": "code",
   "execution_count": null,
   "id": "1c947f18",
   "metadata": {},
   "outputs": [],
   "source": [
    "import numpy as np\n",
    "import matplotlib.pyplot as plt\n",
    "from ae483tools import *"
   ]
  },
  {
   "cell_type": "markdown",
   "id": "a46b5afc",
   "metadata": {},
   "source": [
    "Load data from a flight in which the drone took off, moved in a square, and landed."
   ]
  },
  {
   "cell_type": "code",
   "execution_count": null,
   "id": "51f8809f",
   "metadata": {},
   "outputs": [],
   "source": [
    "raw_data_drone, raw_data_mocap = load_hardware_data('square.json')"
   ]
  },
  {
   "cell_type": "markdown",
   "id": "913f41a8",
   "metadata": {},
   "source": [
    "Resample drone data."
   ]
  },
  {
   "cell_type": "code",
   "execution_count": null,
   "id": "bd8a6f25",
   "metadata": {},
   "outputs": [],
   "source": [
    "data_drone = resample_data_drone(raw_data_drone, t_min_offset=0., t_max_offset=0.)\n",
    "\n",
    "t = data_drone['time']\n",
    "x_drone = data_drone['stateEstimate.x']\n",
    "y_drone = data_drone['stateEstimate.y']\n",
    "z_drone = data_drone['stateEstimate.z']\n",
    "psi_drone = np.deg2rad(data_drone['stateEstimate.yaw'])\n",
    "theta_drone = - np.deg2rad(data_drone['stateEstimate.pitch'])\n",
    "phi_drone = np.deg2rad(data_drone['stateEstimate.roll'])"
   ]
  },
  {
   "cell_type": "markdown",
   "id": "b39e1f83",
   "metadata": {},
   "source": [
    "Resample mocap data **with a non-zero time shift** and apply coordinate transformation."
   ]
  },
  {
   "cell_type": "code",
   "execution_count": null,
   "id": "24ab1b6b",
   "metadata": {},
   "outputs": [],
   "source": [
    "resampled_data_mocap = resample_data_mocap(raw_data_mocap, t, t_shift=1.)\n",
    "transformed_data_mocap = transform_data_mocap(resampled_data_mocap)\n",
    "\n",
    "# Only get z estimate from mocap for now\n",
    "z_mocap = transformed_data_mocap['z']"
   ]
  },
  {
   "cell_type": "markdown",
   "id": "610074e0",
   "metadata": {},
   "source": [
    "Plot data."
   ]
  },
  {
   "cell_type": "code",
   "execution_count": null,
   "id": "64542310",
   "metadata": {},
   "outputs": [],
   "source": [
    "fig, ax = plt.subplots(1, 1, figsize=(6, 3), tight_layout=True)\n",
    "ax.plot(t, z_drone, label='z (drone)')\n",
    "ax.plot(t, z_mocap, '--', label='z (mocap)')\n",
    "ax.legend()\n",
    "ax.grid()"
   ]
  },
  {
   "cell_type": "markdown",
   "id": "dfba9514",
   "metadata": {},
   "source": [
    "Find the root-mean-square-error (RMSE) for a range of time shifts."
   ]
  },
  {
   "cell_type": "code",
   "execution_count": null,
   "id": "1e3a44e7",
   "metadata": {},
   "outputs": [],
   "source": [
    "# Create an array with a range of time shifts\n",
    "t_shifts = np.linspace(0., 0.2, 21)\n",
    "\n",
    "# Create an array to hold the RMSE for each time shift\n",
    "RMSEs = np.empty_like(t_shifts)\n",
    "\n",
    "# Find the RMSE for each time shift\n",
    "for i, t_shift in enumerate(t_shifts):\n",
    "    # Resample mocap data with time shift\n",
    "    resampled_data_mocap = resample_data_mocap(raw_data_mocap, t, t_shift=t_shift)\n",
    "\n",
    "    # Transform mocap data\n",
    "    transformed_data_mocap = transform_data_mocap(resampled_data_mocap)\n",
    "\n",
    "    # Get z estimate from mocap data\n",
    "    z_mocap = transformed_data_mocap['z']\n",
    "\n",
    "    # Find RMSE between z_mocap and z_drone\n",
    "    RMSEs[i] = np.sqrt(np.mean((z_mocap - z_drone)**2))"
   ]
  },
  {
   "cell_type": "markdown",
   "id": "849c3e6a",
   "metadata": {},
   "source": [
    "Plot the RMSE for a range of time shifts."
   ]
  },
  {
   "cell_type": "code",
   "execution_count": null,
   "id": "c4e423b0",
   "metadata": {},
   "outputs": [],
   "source": [
    "fig, ax = plt.subplots(1, 1, figsize=(6, 3), tight_layout=True)\n",
    "ax.plot(t_shifts, RMSEs)\n",
    "ax.grid()"
   ]
  },
  {
   "cell_type": "markdown",
   "id": "8fd1c347",
   "metadata": {},
   "source": [
    "Find the time shift that gives the minimum RMSE."
   ]
  },
  {
   "cell_type": "code",
   "execution_count": null,
   "id": "b6ddd450",
   "metadata": {},
   "outputs": [],
   "source": [
    "# Find the index of the minimum RMSE\n",
    "i_min = 0           # <-- FIXME\n",
    "\n",
    "# Find the minimum RMSE\n",
    "RMSE_min = 0.       # <-- FIXME\n",
    "\n",
    "# Find the time shift that gives the minimum RMSE\n",
    "t_shift_min = 0.    # <-- FIXME"
   ]
  },
  {
   "cell_type": "markdown",
   "id": "d1719a59",
   "metadata": {},
   "source": [
    "Plot the RMSE for a range of time shifts again, this time showing the minimum."
   ]
  },
  {
   "cell_type": "code",
   "execution_count": null,
   "id": "107de9e0",
   "metadata": {},
   "outputs": [],
   "source": [
    "fig, ax = plt.subplots(1, 1, figsize=(6, 3), tight_layout=True)\n",
    "ax.plot(t_shifts, RMSEs)\n",
    "ax.plot(t_shift_min, RMSE_min, '.', markersize=12)\n",
    "ax.grid()"
   ]
  },
  {
   "cell_type": "markdown",
   "id": "49b8635f",
   "metadata": {},
   "source": [
    "Define a function to synchronize mocap data with drone data (i.e., to find the time shift that best aligns transformed mocap data with drone data)."
   ]
  },
  {
   "cell_type": "code",
   "execution_count": null,
   "id": "a822c777",
   "metadata": {},
   "outputs": [],
   "source": [
    "def sync_data_mocap(raw_data_mocap, t, z_drone):\n",
    "    # Find the time shift the minimizes RMSE\n",
    "    #\n",
    "    # ...\n",
    "    # FIXME (your code here)\n",
    "    # ...\n",
    "    #\n",
    "    t_shift_min = 0.    # <-- FIXME\n",
    "\n",
    "    # Resample mocap data with the time shift that minimizes RMSE\n",
    "    resampled_data_mocap = resample_data_mocap(raw_data_mocap, t, t_shift=t_shift_min)\n",
    "\n",
    "    # Transform mocap data\n",
    "    transformed_data_mocap = transform_data_mocap(resampled_data_mocap)\n",
    "\n",
    "    # Return the result\n",
    "    return transformed_data_mocap"
   ]
  },
  {
   "cell_type": "markdown",
   "id": "57388e24",
   "metadata": {},
   "source": [
    "Apply synchronization to mocap data."
   ]
  },
  {
   "cell_type": "code",
   "execution_count": null,
   "id": "b6919dc5",
   "metadata": {},
   "outputs": [],
   "source": [
    "data_mocap = sync_data_mocap(raw_data_mocap, t, z_drone)\n",
    "\n",
    "x_mocap = data_mocap['x']\n",
    "y_mocap = data_mocap['y']\n",
    "z_mocap = data_mocap['z']\n",
    "psi_mocap = data_mocap['yaw']\n",
    "theta_mocap = data_mocap['pitch']\n",
    "phi_mocap = data_mocap['roll']"
   ]
  },
  {
   "cell_type": "markdown",
   "id": "502bcf45",
   "metadata": {},
   "source": [
    "Plot all data."
   ]
  },
  {
   "cell_type": "code",
   "execution_count": null,
   "id": "54893963",
   "metadata": {},
   "outputs": [],
   "source": [
    "fig, (ax_x, ax_y, ax_z, ax_psi, ax_theta, ax_phi) = plt.subplots(6, 1, figsize=(8, 8), tight_layout=True)\n",
    "\n",
    "ax_x.plot(t, x_drone, label='x (drone)')\n",
    "ax_x.plot(t, x_mocap, '--', label='x (mocap)')\n",
    "ax_x.legend()\n",
    "ax_x.grid()\n",
    "\n",
    "ax_y.plot(t, y_drone, label='y (drone)')\n",
    "ax_y.plot(t, y_mocap, '--', label='y (mocap)')\n",
    "ax_y.legend()\n",
    "ax_y.grid()\n",
    "\n",
    "ax_z.plot(t, z_drone, label='z (drone)')\n",
    "ax_z.plot(t, z_mocap, '--', label='z (mocap)')\n",
    "ax_z.legend()\n",
    "ax_z.grid()\n",
    "\n",
    "ax_psi.plot(t, psi_drone, label='yaw (drone)')\n",
    "ax_psi.plot(t, psi_mocap, '--', label='yaw (mocap)')\n",
    "ax_psi.legend()\n",
    "ax_psi.grid()\n",
    "\n",
    "ax_theta.plot(t, theta_drone, label='pitch (drone)')\n",
    "ax_theta.plot(t, theta_mocap, '--', label='pitch (mocap)')\n",
    "ax_theta.legend()\n",
    "ax_theta.grid()\n",
    "\n",
    "ax_phi.plot(t, phi_drone, label='roll (drone)')\n",
    "ax_phi.plot(t, phi_mocap, '--', label='roll (mocap)')\n",
    "ax_phi.legend()\n",
    "ax_phi.grid()"
   ]
  },
  {
   "cell_type": "code",
   "execution_count": null,
   "id": "e1cbe9e5",
   "metadata": {},
   "outputs": [],
   "source": []
  }
 ],
 "metadata": {
  "kernelspec": {
   "display_name": "Python 3 (ipykernel)",
   "language": "python",
   "name": "python3"
  },
  "language_info": {
   "codemirror_mode": {
    "name": "ipython",
    "version": 3
   },
   "file_extension": ".py",
   "mimetype": "text/x-python",
   "name": "python",
   "nbconvert_exporter": "python",
   "pygments_lexer": "ipython3",
   "version": "3.12.4"
  }
 },
 "nbformat": 4,
 "nbformat_minor": 5
}
