{
 "cells": [
  {
   "cell_type": "markdown",
   "id": "bd7091b7",
   "metadata": {},
   "source": [
    "# Check"
   ]
  },
  {
   "cell_type": "markdown",
   "id": "c6f94ac1",
   "metadata": {},
   "source": [
    "Add parent directory to `sys.path` so that we can import `ae483tools`."
   ]
  },
  {
   "cell_type": "code",
   "execution_count": null,
   "id": "3c02a6d9",
   "metadata": {},
   "outputs": [],
   "source": [
    "import sys, os\n",
    "sys.path.append(os.path.abspath('..'))"
   ]
  },
  {
   "cell_type": "markdown",
   "id": "0541c67e",
   "metadata": {},
   "source": [
    "Do all other imports."
   ]
  },
  {
   "cell_type": "code",
   "execution_count": null,
   "id": "b89e50ff",
   "metadata": {},
   "outputs": [],
   "source": [
    "from ae483tools import *"
   ]
  },
  {
   "cell_type": "markdown",
   "id": "81ea8d66",
   "metadata": {},
   "source": [
    "Check `floor.json`."
   ]
  },
  {
   "cell_type": "code",
   "execution_count": null,
   "id": "3b2b7830",
   "metadata": {},
   "outputs": [],
   "source": [
    "check_mocap_coverage('floor.json')"
   ]
  },
  {
   "cell_type": "markdown",
   "id": "808d181c",
   "metadata": {},
   "source": [
    "Check `carpet.json`."
   ]
  },
  {
   "cell_type": "code",
   "execution_count": null,
   "id": "47c834d2",
   "metadata": {},
   "outputs": [],
   "source": [
    "check_mocap_coverage('carpet.json')"
   ]
  },
  {
   "cell_type": "markdown",
   "id": "ba99356f",
   "metadata": {},
   "source": [
    "Check `stilts.json`."
   ]
  },
  {
   "cell_type": "code",
   "execution_count": null,
   "id": "d7f13cb6",
   "metadata": {},
   "outputs": [],
   "source": [
    "check_mocap_coverage('stilts.json')"
   ]
  },
  {
   "cell_type": "markdown",
   "id": "d8b511ce",
   "metadata": {},
   "source": [
    "Check `square.json`."
   ]
  },
  {
   "cell_type": "code",
   "execution_count": null,
   "id": "2a891902",
   "metadata": {},
   "outputs": [],
   "source": [
    "check_mocap_coverage('square.json')"
   ]
  }
 ],
 "metadata": {
  "kernelspec": {
   "display_name": "ae483",
   "language": "python",
   "name": "python3"
  },
  "language_info": {
   "codemirror_mode": {
    "name": "ipython",
    "version": 3
   },
   "file_extension": ".py",
   "mimetype": "text/x-python",
   "name": "python",
   "nbconvert_exporter": "python",
   "pygments_lexer": "ipython3",
   "version": "3.13.5"
  }
 },
 "nbformat": 4,
 "nbformat_minor": 5
}
