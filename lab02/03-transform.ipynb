{
 "cells": [
  {
   "cell_type": "markdown",
   "id": "bd7091b7",
   "metadata": {},
   "source": [
    "# Transform"
   ]
  },
  {
   "cell_type": "markdown",
   "id": "7cfbcfb6",
   "metadata": {},
   "source": [
    "Do imports."
   ]
  },
  {
   "cell_type": "code",
   "execution_count": null,
   "id": "294d9f2d",
   "metadata": {},
   "outputs": [],
   "source": [
    "import numpy as np\n",
    "import matplotlib.pyplot as plt\n",
    "from scipy.spatial.transform import Rotation\n",
    "from ae483tools import *"
   ]
  },
  {
   "cell_type": "markdown",
   "id": "5be70037",
   "metadata": {},
   "source": [
    "Load data from a flight in which the drone took off, moved in a square, and landed."
   ]
  },
  {
   "cell_type": "code",
   "execution_count": null,
   "id": "b2e7d9de",
   "metadata": {},
   "outputs": [],
   "source": [
    "raw_data_drone, raw_data_mocap = load_hardware_data('square.json')"
   ]
  },
  {
   "cell_type": "markdown",
   "id": "bb70b4b7",
   "metadata": {},
   "source": [
    "Resample drone data."
   ]
  },
  {
   "cell_type": "code",
   "execution_count": null,
   "id": "957ddcf3",
   "metadata": {},
   "outputs": [],
   "source": [
    "data_drone = resample_data_drone(raw_data_drone, t_min_offset=0., t_max_offset=0.)\n",
    "\n",
    "t = data_drone['time']\n",
    "x_drone = data_drone['stateEstimate.x']\n",
    "y_drone = data_drone['stateEstimate.y']\n",
    "z_drone = data_drone['stateEstimate.z']\n",
    "psi_drone = np.deg2rad(data_drone['stateEstimate.yaw'])\n",
    "theta_drone = - np.deg2rad(data_drone['stateEstimate.pitch'])\n",
    "phi_drone = np.deg2rad(data_drone['stateEstimate.roll'])"
   ]
  },
  {
   "cell_type": "markdown",
   "id": "38c96477",
   "metadata": {},
   "source": [
    "Resample mocap data."
   ]
  },
  {
   "cell_type": "code",
   "execution_count": null,
   "id": "9721c6b8",
   "metadata": {},
   "outputs": [],
   "source": [
    "resampled_data_mocap = resample_data_mocap(raw_data_mocap, t)\n",
    "\n",
    "x_mocap = resampled_data_mocap['x']\n",
    "y_mocap = resampled_data_mocap['y']\n",
    "z_mocap = resampled_data_mocap['z']\n",
    "psi_mocap = resampled_data_mocap['yaw']\n",
    "theta_mocap = resampled_data_mocap['pitch']\n",
    "phi_mocap = resampled_data_mocap['roll']"
   ]
  },
  {
   "cell_type": "markdown",
   "id": "1bf29a47",
   "metadata": {},
   "source": [
    "Plot $x, y$ data."
   ]
  },
  {
   "cell_type": "code",
   "execution_count": null,
   "id": "997ea168",
   "metadata": {},
   "outputs": [],
   "source": [
    "fig, ax = plt.subplots(1, 1, figsize=(6, 6), tight_layout=True)\n",
    "ax.plot(x_drone, y_drone, label='drone')\n",
    "ax.plot(x_mocap, y_mocap, '--', label='mocap')\n",
    "ax.legend()\n",
    "ax.grid()\n",
    "ax.set_aspect('equal')\n",
    "ax.set_xlabel('x (meters)')\n",
    "ax.set_ylabel('y (meters)')\n",
    "plt.show()"
   ]
  },
  {
   "cell_type": "markdown",
   "id": "457d8b43",
   "metadata": {},
   "source": [
    "Define a function to perform coordinate transformation."
   ]
  },
  {
   "cell_type": "code",
   "execution_count": null,
   "id": "25e33221",
   "metadata": {},
   "outputs": [],
   "source": [
    "def transform_data_mocap(raw_data):\n",
    "    # Copy raw data\n",
    "    data = {}\n",
    "    for key, val in raw_data.items():\n",
    "        data[key] = val.copy()\n",
    "\n",
    "    # Define parameters\n",
    "    d_1 = 0. # <-- FIXME\n",
    "    d_2 = 0. # <-- FIXME\n",
    "    \n",
    "    # Pose of drone body frame in active marker frame\n",
    "    R_inA_ofB = np.eye(3)                   # <-- FIXME\n",
    "    p_inA_ofB = np.array([0., 0., 0.])      # <-- FIXME\n",
    "\n",
    "    ####################################\n",
    "    # START OF ANALYSIS AT TIME STEP 0\n",
    "    #\n",
    "    \n",
    "    # Pose of drone world frame in active marker frame\n",
    "    R_inA_ofW = np.eye(3)                   # <-- FIXME\n",
    "    p_inA_ofW = np.array([0., 0., 0.])      # <-- FIXME\n",
    "\n",
    "    # Get measurements of (x, y, z) and (psi, theta, phi) from mocap\n",
    "    x, y, z = data['x'][0], data['y'][0], data['z'][0]\n",
    "    psi, theta, phi = data['yaw'][0], data['pitch'][0], data['roll'][0]\n",
    "\n",
    "    # Pose of active marker frame in mocap world frame\n",
    "    R_inQ_ofA = np.eye(3)                   # <-- FIXME\n",
    "    p_inQ_ofA = np.array([0., 0., 0.])      # <-- FIXME\n",
    "    \n",
    "    # Pose of drone world frame in mocap world frame\n",
    "    R_inQ_ofW = np.eye(3)                   # <-- FIXME\n",
    "    p_inQ_ofW = np.array([0., 0., 0.])      # <-- FIXME\n",
    "    \n",
    "    # Pose of mocap world frame in drone world frame\n",
    "    R_inW_ofQ = np.eye(3)                   # <-- FIXME\n",
    "    p_inW_ofQ = np.array([0., 0., 0.])      # <-- FIXME\n",
    "\n",
    "    #\n",
    "    # END OF ANALYSIS AT TIME STEP 0\n",
    "    ####################################\n",
    "\n",
    "    for i in range(len(data['time'])):\n",
    "\n",
    "        ####################################\n",
    "        # START OF ANALYSIS AT TIME STEP i\n",
    "        #\n",
    "\n",
    "        # Get measurements of (x, y, z) and (psi, theta, phi) from mocap\n",
    "        x, y, z = data['x'][i], data['y'][i], data['z'][i]\n",
    "        psi, theta, phi = data['yaw'][i], data['pitch'][i], data['roll'][i]\n",
    "\n",
    "        # Pose of active marker deck in mocap world frame\n",
    "        R_inQ_ofA = np.eye(3)               # <-- FIXME\n",
    "        p_inQ_ofA = np.array([0., 0., 0.])  # <-- FIXME\n",
    "\n",
    "        # Pose of drone body frame in drone world frame\n",
    "        R_inW_ofB = np.eye(3)               # <-- FIXME\n",
    "        p_inW_ofB = np.array([0., 0., 0.])  # <-- FIXME\n",
    "\n",
    "        # Replace measurements of (x, y, z) and (phi, theta, psi) from mocap\n",
    "        data['x'][i], data['y'][i], data['z'][i] = 0., 0., 0.               # <-- FIXME\n",
    "        data['yaw'][i], data['pitch'][i], data['roll'][i] = 0., 0., 0.      # <-- FIXME\n",
    "\n",
    "        #\n",
    "        # END OF ANALYSIS AT TIME STEP i\n",
    "        ####################################\n",
    "    \n",
    "    # Return the result\n",
    "    return data"
   ]
  },
  {
   "cell_type": "markdown",
   "id": "1e3d5e8a",
   "metadata": {},
   "source": [
    "Apply coordinate transformation to mocap data."
   ]
  },
  {
   "cell_type": "code",
   "execution_count": null,
   "id": "1a695a7e",
   "metadata": {},
   "outputs": [],
   "source": [
    "transformed_data_mocap = transform_data_mocap(resampled_data_mocap)\n",
    "\n",
    "x_mocap = transformed_data_mocap['x']\n",
    "y_mocap = transformed_data_mocap['y']\n",
    "z_mocap = transformed_data_mocap['z']\n",
    "psi_mocap = transformed_data_mocap['yaw']\n",
    "theta_mocap = transformed_data_mocap['pitch']\n",
    "phi_mocap = transformed_data_mocap['roll']"
   ]
  },
  {
   "cell_type": "markdown",
   "id": "3bb47692",
   "metadata": {},
   "source": [
    "Plot $x, y$ data."
   ]
  },
  {
   "cell_type": "code",
   "execution_count": null,
   "id": "0498359d",
   "metadata": {},
   "outputs": [],
   "source": [
    "fig, ax = plt.subplots(1, 1, figsize=(6, 6), tight_layout=True)\n",
    "ax.plot(x_drone, y_drone, label='drone')\n",
    "ax.plot(x_mocap, y_mocap, '--', label='mocap')\n",
    "ax.legend()\n",
    "ax.grid()\n",
    "ax.set_aspect('equal')\n",
    "ax.set_xlabel('x (meters)')\n",
    "ax.set_ylabel('y (meters)')\n",
    "plt.show()"
   ]
  },
  {
   "cell_type": "markdown",
   "id": "30ffdee2",
   "metadata": {},
   "source": [
    "Plot all data."
   ]
  },
  {
   "cell_type": "code",
   "execution_count": null,
   "id": "8b1d0390",
   "metadata": {},
   "outputs": [],
   "source": [
    "fig, (ax_x, ax_y, ax_z, ax_psi, ax_theta, ax_phi) = plt.subplots(6, 1, figsize=(8, 8), tight_layout=True)\n",
    "\n",
    "ax_x.plot(t, x_drone, label='x (drone)')\n",
    "ax_x.plot(t, x_mocap, '--', label='x (mocap)')\n",
    "ax_x.legend()\n",
    "ax_x.grid()\n",
    "\n",
    "ax_y.plot(t, y_drone, label='y (drone)')\n",
    "ax_y.plot(t, y_mocap, '--', label='y (mocap)')\n",
    "ax_y.legend()\n",
    "ax_y.grid()\n",
    "\n",
    "ax_z.plot(t, z_drone, label='z (drone)')\n",
    "ax_z.plot(t, z_mocap, '--', label='z (mocap)')\n",
    "ax_z.legend()\n",
    "ax_z.grid()\n",
    "\n",
    "ax_psi.plot(t, psi_drone, label='yaw (drone)')\n",
    "ax_psi.plot(t, psi_mocap, '--', label='yaw (mocap)')\n",
    "ax_psi.legend()\n",
    "ax_psi.grid()\n",
    "\n",
    "ax_theta.plot(t, theta_drone, label='pitch (drone)')\n",
    "ax_theta.plot(t, theta_mocap, '--', label='pitch (mocap)')\n",
    "ax_theta.legend()\n",
    "ax_theta.grid()\n",
    "\n",
    "ax_phi.plot(t, phi_drone, label='roll (drone)')\n",
    "ax_phi.plot(t, phi_mocap, '--', label='roll (mocap)')\n",
    "ax_phi.legend()\n",
    "ax_phi.grid()\n",
    "\n",
    "plt.show()"
   ]
  }
 ],
 "metadata": {
  "kernelspec": {
   "display_name": "Python 3 (ipykernel)",
   "language": "python",
   "name": "python3"
  },
  "language_info": {
   "codemirror_mode": {
    "name": "ipython",
    "version": 3
   },
   "file_extension": ".py",
   "mimetype": "text/x-python",
   "name": "python",
   "nbconvert_exporter": "python",
   "pygments_lexer": "ipython3",
   "version": "3.12.4"
  }
 },
 "nbformat": 4,
 "nbformat_minor": 5
}
