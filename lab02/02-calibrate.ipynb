{
 "cells": [
  {
   "cell_type": "markdown",
   "id": "dc1f0af6",
   "metadata": {},
   "source": [
    "# Calibrate"
   ]
  },
  {
   "cell_type": "markdown",
   "id": "7cfbcfb6",
   "metadata": {},
   "source": [
    "Do imports."
   ]
  },
  {
   "cell_type": "code",
   "execution_count": null,
   "id": "294d9f2d",
   "metadata": {},
   "outputs": [],
   "source": [
    "import numpy as np\n",
    "import matplotlib.pyplot as plt\n",
    "from ae483tools import *"
   ]
  },
  {
   "cell_type": "markdown",
   "id": "bf8dae86",
   "metadata": {},
   "source": [
    "## Find $l_1$"
   ]
  },
  {
   "cell_type": "markdown",
   "id": "5be70037",
   "metadata": {},
   "source": [
    "Load data for a flight in which the drone sat motionless on the hard floor."
   ]
  },
  {
   "cell_type": "code",
   "execution_count": null,
   "id": "b2e7d9de",
   "metadata": {},
   "outputs": [],
   "source": [
    "raw_data_drone, raw_data_mocap = load_hardware_data('floor.json')"
   ]
  },
  {
   "cell_type": "markdown",
   "id": "bb70b4b7",
   "metadata": {},
   "source": [
    "Resample drone data.\n",
    "\n",
    "You may find that some of the data at the start or end of your flight are garbage. For this reason, `resample_data_drone` has two optional arguments:\n",
    "\n",
    "* `t_min_offset` is how many seconds you want to ignore (i.e., delete) at the start of the data\n",
    "* `t_max_offset` is how many seconds you want to ignore (i.e., delete) at the end of the data\n",
    "\n",
    "To use these arguments effectively, you'll want to plot the data first (evaluate the next three cells to do this, for example) and then go back and play with the offsets. We won't mention these arguments again, but you should consider using them, as necessary, with **every** new dataset you collect and analyze."
   ]
  },
  {
   "cell_type": "code",
   "execution_count": null,
   "id": "957ddcf3",
   "metadata": {},
   "outputs": [],
   "source": [
    "data_drone = resample_data_drone(raw_data_drone, t_min_offset=0., t_max_offset=0.)\n",
    "\n",
    "t = data_drone['time']\n",
    "z_drone = data_drone['stateEstimate.z']"
   ]
  },
  {
   "cell_type": "markdown",
   "id": "38c96477",
   "metadata": {},
   "source": [
    "Resample mocap data."
   ]
  },
  {
   "cell_type": "code",
   "execution_count": null,
   "id": "9721c6b8",
   "metadata": {},
   "outputs": [],
   "source": [
    "data_mocap = resample_data_mocap(raw_data_mocap, t)\n",
    "\n",
    "z_mocap = data_mocap['z']"
   ]
  },
  {
   "cell_type": "markdown",
   "id": "1bf29a47",
   "metadata": {},
   "source": [
    "Plot data."
   ]
  },
  {
   "cell_type": "code",
   "execution_count": null,
   "id": "997ea168",
   "metadata": {},
   "outputs": [],
   "source": [
    "fig, ax = plt.subplots(1, 1, figsize=(6, 3), tight_layout=True)\n",
    "ax.plot(t, z_drone, label='z (drone)')\n",
    "ax.plot(t, z_mocap, '--', label='z (mocap)')\n",
    "ax.legend()\n",
    "ax.grid()"
   ]
  },
  {
   "cell_type": "markdown",
   "id": "52eefd09",
   "metadata": {},
   "source": [
    "Find $l_1$ by... **FIXME**."
   ]
  },
  {
   "cell_type": "code",
   "execution_count": null,
   "id": "7623ae31",
   "metadata": {},
   "outputs": [],
   "source": [
    "l_1 = 0. # <-- FIXME\n",
    "print(f'l_1 = {l_1:.5f}')"
   ]
  },
  {
   "cell_type": "markdown",
   "id": "8a7c63f1",
   "metadata": {},
   "source": [
    "# Find $l_2$"
   ]
  },
  {
   "cell_type": "markdown",
   "id": "b47364d8",
   "metadata": {},
   "source": [
    "Load data for a flight in which the drone sat motionless on the carpet."
   ]
  },
  {
   "cell_type": "code",
   "execution_count": null,
   "id": "031b82c6",
   "metadata": {},
   "outputs": [],
   "source": [
    "raw_data_drone, raw_data_mocap = load_hardware_data('carpet.json')"
   ]
  },
  {
   "cell_type": "markdown",
   "id": "277bd211",
   "metadata": {},
   "source": [
    "Resample drone data."
   ]
  },
  {
   "cell_type": "code",
   "execution_count": null,
   "id": "7740f90b",
   "metadata": {},
   "outputs": [],
   "source": [
    "data_drone = resample_data_drone(raw_data_drone, t_min_offset=0., t_max_offset=0.)\n",
    "\n",
    "t = data_drone['time']\n",
    "z_drone = data_drone['stateEstimate.z']"
   ]
  },
  {
   "cell_type": "markdown",
   "id": "eeecb50b",
   "metadata": {},
   "source": [
    "Resample mocap data."
   ]
  },
  {
   "cell_type": "code",
   "execution_count": null,
   "id": "cb50450f",
   "metadata": {},
   "outputs": [],
   "source": [
    "data_mocap = resample_data_mocap(raw_data_mocap, t)\n",
    "\n",
    "z_mocap = data_mocap['z']"
   ]
  },
  {
   "cell_type": "markdown",
   "id": "6f3f016b",
   "metadata": {},
   "source": [
    "Plot data."
   ]
  },
  {
   "cell_type": "code",
   "execution_count": null,
   "id": "6ac52160",
   "metadata": {},
   "outputs": [],
   "source": [
    "fig, ax = plt.subplots(1, 1, figsize=(6, 3), tight_layout=True)\n",
    "ax.plot(t, z_drone, label='z (drone)')\n",
    "ax.plot(t, z_mocap, '--', label='z (mocap)')\n",
    "ax.legend()\n",
    "ax.grid()"
   ]
  },
  {
   "cell_type": "markdown",
   "id": "70cf4e9d",
   "metadata": {},
   "source": [
    "Find $l_2$ by... **FIXME**."
   ]
  },
  {
   "cell_type": "code",
   "execution_count": null,
   "id": "0b29c6cd",
   "metadata": {},
   "outputs": [],
   "source": [
    "l_2 = 0. # <-- FIXME\n",
    "print(f'l_2 = {l_2:.5f}')"
   ]
  },
  {
   "cell_type": "markdown",
   "id": "f69c8d87",
   "metadata": {},
   "source": [
    "# Find $l_3$ and $l_4$"
   ]
  },
  {
   "cell_type": "markdown",
   "id": "fc1e91ce",
   "metadata": {},
   "source": [
    "Load data for a flight in which the drone sat motionless on \"stilts\" on the carpet."
   ]
  },
  {
   "cell_type": "code",
   "execution_count": null,
   "id": "4ec6b28c",
   "metadata": {},
   "outputs": [],
   "source": [
    "raw_data_drone, raw_data_mocap = load_hardware_data('stilts.json')"
   ]
  },
  {
   "cell_type": "markdown",
   "id": "425f8dbd",
   "metadata": {},
   "source": [
    "Resample drone data."
   ]
  },
  {
   "cell_type": "code",
   "execution_count": null,
   "id": "6a1973b9",
   "metadata": {},
   "outputs": [],
   "source": [
    "data_drone = resample_data_drone(raw_data_drone, t_min_offset=0., t_max_offset=0.)\n",
    "\n",
    "t = data_drone['time']\n",
    "z_drone = data_drone['stateEstimate.z']"
   ]
  },
  {
   "cell_type": "markdown",
   "id": "1827d101",
   "metadata": {},
   "source": [
    "Resample mocap data."
   ]
  },
  {
   "cell_type": "code",
   "execution_count": null,
   "id": "17a51f3a",
   "metadata": {},
   "outputs": [],
   "source": [
    "data_mocap = resample_data_mocap(raw_data_mocap, t)\n",
    "\n",
    "z_mocap = data_mocap['z']"
   ]
  },
  {
   "cell_type": "markdown",
   "id": "c5a85f28",
   "metadata": {},
   "source": [
    "Plot data."
   ]
  },
  {
   "cell_type": "code",
   "execution_count": null,
   "id": "bd6068db",
   "metadata": {},
   "outputs": [],
   "source": [
    "fig, ax = plt.subplots(1, 1, figsize=(6, 3), tight_layout=True)\n",
    "ax.plot(t, z_drone, label='z (drone)')\n",
    "ax.plot(t, z_mocap, '--', label='z (mocap)')\n",
    "ax.legend()\n",
    "ax.grid()"
   ]
  },
  {
   "cell_type": "markdown",
   "id": "0971b21a",
   "metadata": {},
   "source": [
    "Find $l_3$ by... **FIXME** and find $l_4$ by... **FIXME**."
   ]
  },
  {
   "cell_type": "code",
   "execution_count": null,
   "id": "549ebc48",
   "metadata": {},
   "outputs": [],
   "source": [
    "l_3 = 0. # <-- FIXME\n",
    "l_4 = 0. # <-- FIXME\n",
    "print(f'l_3 = {l_3:.5f}')\n",
    "print(f'l_4 = {l_4:.5f}')"
   ]
  },
  {
   "cell_type": "markdown",
   "id": "a0719896",
   "metadata": {},
   "source": [
    "# Find $d_1$ and $d_2$"
   ]
  },
  {
   "cell_type": "markdown",
   "id": "a4009567",
   "metadata": {},
   "source": [
    "Find $d_1$ by... **FIXME**."
   ]
  },
  {
   "cell_type": "code",
   "execution_count": null,
   "id": "85084427",
   "metadata": {},
   "outputs": [],
   "source": [
    "d_1 = 0. # <-- FIXME\n",
    "print(f'd_1 = {d_1:.5f}')"
   ]
  },
  {
   "cell_type": "markdown",
   "id": "87838cc3",
   "metadata": {},
   "source": [
    "Find $d_2$ by... **FIXME**."
   ]
  },
  {
   "cell_type": "code",
   "execution_count": null,
   "id": "58a80f55",
   "metadata": {},
   "outputs": [],
   "source": [
    "d_2 = 0. # <-- FIXME\n",
    "print(f'd_2 = {d_2:.5f}')"
   ]
  },
  {
   "cell_type": "code",
   "execution_count": null,
   "id": "76563c41",
   "metadata": {},
   "outputs": [],
   "source": []
  }
 ],
 "metadata": {
  "kernelspec": {
   "display_name": "Python 3 (ipykernel)",
   "language": "python",
   "name": "python3"
  },
  "language_info": {
   "codemirror_mode": {
    "name": "ipython",
    "version": 3
   },
   "file_extension": ".py",
   "mimetype": "text/x-python",
   "name": "python",
   "nbconvert_exporter": "python",
   "pygments_lexer": "ipython3",
   "version": "3.12.4"
  }
 },
 "nbformat": 4,
 "nbformat_minor": 5
}
