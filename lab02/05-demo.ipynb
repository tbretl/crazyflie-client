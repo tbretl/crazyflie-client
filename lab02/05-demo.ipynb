{
 "cells": [
  {
   "cell_type": "markdown",
   "id": "892d4b04",
   "metadata": {},
   "source": [
    "# Demo"
   ]
  },
  {
   "cell_type": "markdown",
   "id": "9e759091",
   "metadata": {},
   "source": [
    "Add parent directory to `sys.path` so that we can import `ae483tools`."
   ]
  },
  {
   "cell_type": "code",
   "execution_count": null,
   "id": "be31ccd1",
   "metadata": {},
   "outputs": [],
   "source": [
    "import sys, os\n",
    "sys.path.append(os.path.abspath('..'))"
   ]
  },
  {
   "cell_type": "markdown",
   "id": "691bfd3e",
   "metadata": {},
   "source": [
    "Do all other imports."
   ]
  },
  {
   "cell_type": "code",
   "execution_count": null,
   "id": "1c947f18",
   "metadata": {},
   "outputs": [],
   "source": [
    "import numpy as np\n",
    "import matplotlib.pyplot as plt\n",
    "from ae483tools import *"
   ]
  },
  {
   "cell_type": "markdown",
   "id": "a46b5afc",
   "metadata": {},
   "source": [
    "Load data from a flight in which the drone took off, moved in a square, and landed."
   ]
  },
  {
   "cell_type": "code",
   "execution_count": null,
   "id": "51f8809f",
   "metadata": {},
   "outputs": [],
   "source": [
    "raw_data_drone, raw_data_mocap, raw_data_bodies = load_hardware_data('square.json')"
   ]
  },
  {
   "cell_type": "markdown",
   "id": "913f41a8",
   "metadata": {},
   "source": [
    "Resample drone data."
   ]
  },
  {
   "cell_type": "code",
   "execution_count": null,
   "id": "bd8a6f25",
   "metadata": {},
   "outputs": [],
   "source": [
    "data_drone = resample_data_drone(raw_data_drone, t_min_offset=0.1, t_max_offset=0.)\n",
    "\n",
    "t = data_drone['time']\n",
    "x_drone = data_drone['stateEstimate.x']\n",
    "y_drone = data_drone['stateEstimate.y']\n",
    "z_drone = data_drone['stateEstimate.z']\n",
    "psi_drone = np.deg2rad(data_drone['stateEstimate.yaw'])\n",
    "theta_drone = - np.deg2rad(data_drone['stateEstimate.pitch'])\n",
    "phi_drone = np.deg2rad(data_drone['stateEstimate.roll'])"
   ]
  },
  {
   "cell_type": "markdown",
   "id": "b39e1f83",
   "metadata": {},
   "source": [
    "Resample mocap data (with an optimal time shift and with coordinate transformation)."
   ]
  },
  {
   "cell_type": "code",
   "execution_count": null,
   "id": "24ab1b6b",
   "metadata": {},
   "outputs": [],
   "source": [
    "data_mocap = sync_data_mocap(\n",
    "    raw_data_mocap,\n",
    "    t,\n",
    "    z_drone,\n",
    "    do_transform=True,      # <-- whether to align mocap data in space\n",
    "    t_min_offset=0.,        # <-- how many seconds of mocap data to delete at the start\n",
    "    t_shift_bnds=[0., 1.],  # <-- range of time shifts over which to search\n",
    "    t_shift_res=0.05,       # <-- resolution at which to sample time shifts in the range\n",
    ")\n",
    "\n",
    "x_mocap = data_mocap['x']\n",
    "y_mocap = data_mocap['y']\n",
    "z_mocap = data_mocap['z']\n",
    "psi_mocap = data_mocap['yaw']\n",
    "theta_mocap = data_mocap['pitch']\n",
    "phi_mocap = data_mocap['roll']"
   ]
  },
  {
   "cell_type": "markdown",
   "id": "81398ae3",
   "metadata": {},
   "source": [
    "Plot $x, y$ data."
   ]
  },
  {
   "cell_type": "code",
   "execution_count": null,
   "id": "85af48bd",
   "metadata": {},
   "outputs": [],
   "source": [
    "fig, ax = plt.subplots(1, 1, figsize=(6, 6), tight_layout=True)\n",
    "ax.plot(x_drone, y_drone, label='drone')\n",
    "ax.plot(x_mocap, y_mocap, '--', label='mocap')\n",
    "ax.legend()\n",
    "ax.grid()\n",
    "ax.set_aspect('equal')\n",
    "ax.set_xlabel('x (meters)')\n",
    "ax.set_ylabel('y (meters)')\n",
    "plt.show()"
   ]
  },
  {
   "cell_type": "markdown",
   "id": "84e3cbe4",
   "metadata": {},
   "source": [
    "Plot all data."
   ]
  },
  {
   "cell_type": "code",
   "execution_count": null,
   "id": "2f5a984d",
   "metadata": {},
   "outputs": [],
   "source": [
    "fig, (ax_x, ax_y, ax_z, ax_psi, ax_theta, ax_phi) = plt.subplots(6, 1, figsize=(8, 8), tight_layout=True)\n",
    "\n",
    "ax_x.plot(t, x_drone, label='x (drone)')\n",
    "ax_x.plot(t, x_mocap, '--', label='x (mocap)')\n",
    "ax_x.legend()\n",
    "ax_x.grid()\n",
    "\n",
    "ax_y.plot(t, y_drone, label='y (drone)')\n",
    "ax_y.plot(t, y_mocap, '--', label='y (mocap)')\n",
    "ax_y.legend()\n",
    "ax_y.grid()\n",
    "\n",
    "ax_z.plot(t, z_drone, label='z (drone)')\n",
    "ax_z.plot(t, z_mocap, '--', label='z (mocap)')\n",
    "ax_z.legend()\n",
    "ax_z.grid()\n",
    "\n",
    "ax_psi.plot(t, psi_drone, label='yaw (drone)')\n",
    "ax_psi.plot(t, psi_mocap, '--', label='yaw (mocap)')\n",
    "ax_psi.legend()\n",
    "ax_psi.grid()\n",
    "\n",
    "ax_theta.plot(t, theta_drone, label='pitch (drone)')\n",
    "ax_theta.plot(t, theta_mocap, '--', label='pitch (mocap)')\n",
    "ax_theta.legend()\n",
    "ax_theta.grid()\n",
    "\n",
    "ax_phi.plot(t, phi_drone, label='roll (drone)')\n",
    "ax_phi.plot(t, phi_mocap, '--', label='roll (mocap)')\n",
    "ax_phi.legend()\n",
    "ax_phi.grid()\n",
    "\n",
    "plt.show()"
   ]
  },
  {
   "cell_type": "markdown",
   "id": "ba37b196",
   "metadata": {},
   "source": [
    "### Reflection"
   ]
  },
  {
   "cell_type": "markdown",
   "id": "4ff6ffa7",
   "metadata": {},
   "source": [
    "Review your reflection you put in your Lab 1 notebook. **Modify the text in this cell** to answer the following three questions with at least one sentence each:\n",
    "* What was your biggest struggle this week? Was it the same or different from last week?\n",
    "* What was the most important thing you learned this week?\n",
    "* How does what you learned this week relate to what you learned last week?"
   ]
  }
 ],
 "metadata": {
  "kernelspec": {
   "display_name": "Python 3 (ipykernel)",
   "language": "python",
   "name": "python3"
  },
  "language_info": {
   "codemirror_mode": {
    "name": "ipython",
    "version": 3
   },
   "file_extension": ".py",
   "mimetype": "text/x-python",
   "name": "python",
   "nbconvert_exporter": "python",
   "pygments_lexer": "ipython3",
   "version": "3.12.4"
  }
 },
 "nbformat": 4,
 "nbformat_minor": 5
}
