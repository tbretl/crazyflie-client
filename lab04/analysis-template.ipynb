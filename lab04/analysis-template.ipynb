{
 "cells": [
  {
   "cell_type": "markdown",
   "id": "f4233d19",
   "metadata": {},
   "source": [
    "# 1. Set up the notebook"
   ]
  },
  {
   "cell_type": "markdown",
   "id": "38bcc561",
   "metadata": {},
   "source": [
    "Import modules."
   ]
  },
  {
   "cell_type": "code",
   "execution_count": null,
   "id": "294d9f2d",
   "metadata": {},
   "outputs": [],
   "source": [
    "import os\n",
    "import json\n",
    "import numpy as np\n",
    "import matplotlib.pyplot as plt\n",
    "from scipy.interpolate import interp1d\n",
    "from IPython.display import display, IFrame, HTML"
   ]
  },
  {
   "cell_type": "markdown",
   "id": "52091e6a",
   "metadata": {},
   "source": [
    "Create a random number generator (used for examples)."
   ]
  },
  {
   "cell_type": "code",
   "execution_count": null,
   "id": "f4db5966",
   "metadata": {},
   "outputs": [],
   "source": [
    "rng = np.random.default_rng()"
   ]
  },
  {
   "cell_type": "markdown",
   "id": "db664848",
   "metadata": {},
   "source": [
    "Define a function to load flight data from hardware experiments and resample it at 100 Hz using linear interpolation, optionally discarding data from the start or end of your experiment."
   ]
  },
  {
   "cell_type": "code",
   "execution_count": null,
   "id": "a51e9f5d",
   "metadata": {},
   "outputs": [],
   "source": [
    "def load_hardware_data(filename, t_min_offset=0, t_max_offset=0):\n",
    "    # load raw data\n",
    "    with open(filename, 'r') as f:\n",
    "        data = json.load(f)\n",
    "\n",
    "    # convert lists to numpy arrays\n",
    "    for val in data.values():\n",
    "        for key in val.keys():\n",
    "            val[key] = np.array(val[key])\n",
    "\n",
    "    # create an array of times at which to subsample\n",
    "    t_min = -np.inf\n",
    "    t_max = np.inf\n",
    "    for key, val in data.items():\n",
    "        t_min = max(t_min, val['time'][0])\n",
    "        t_max = min(t_max, val['time'][-1])\n",
    "    t_min += t_min_offset * 1000\n",
    "    t_max -= t_max_offset * 1000\n",
    "    nt = int(1 + np.floor((t_max - t_min) / 10.))\n",
    "    t = np.arange(0, 10 * nt, 10) / 1000.\n",
    "    resampled_data = {'time': t}\n",
    "\n",
    "    # resample raw data with linear interpolation\n",
    "    for k, v in data.items():\n",
    "        f = interp1d((v['time'] - t_min) / 1000., v['data'])\n",
    "        resampled_data[k] = f(t)\n",
    "        \n",
    "    # return the resampled data\n",
    "    return resampled_data"
   ]
  },
  {
   "cell_type": "markdown",
   "id": "b3780cf5",
   "metadata": {},
   "source": [
    "Define a function to embed videos that have been uploaded to [Illinois Mediaspace](https://mediaspace.illinois.edu/)."
   ]
  },
  {
   "cell_type": "code",
   "execution_count": null,
   "id": "644c5c24",
   "metadata": {},
   "outputs": [],
   "source": [
    "def mediaspace(url, width=640, height=397):\n",
    "    video_id = url.rsplit('/', 1)[-1]\n",
    "    src = f'https://mediaspace.illinois.edu/embed/secure/iframe/entryId/{video_id}?st=0'\n",
    "    display(IFrame(src, width=width, height=height))\n",
    "    display(HTML(f'<a href=\"{url}\" target=\"_blank\">Go to video on Illinois Mediaspace</a>'))"
   ]
  },
  {
   "cell_type": "markdown",
   "id": "efed0519",
   "metadata": {},
   "source": [
    "# 2. See an example of linear regression"
   ]
  },
  {
   "cell_type": "markdown",
   "id": "6a6b4280",
   "metadata": {},
   "source": [
    "Create example data."
   ]
  },
  {
   "cell_type": "code",
   "execution_count": null,
   "id": "505b202f",
   "metadata": {},
   "outputs": [],
   "source": [
    "# number of data points\n",
    "n = 20\n",
    "\n",
    "# sample c uniformly at random in [-2, 2]\n",
    "c = rng.uniform(low=-2., high=2.)\n",
    "\n",
    "# sample n values of x uniformly at random in [-10, 10]\n",
    "x = rng.uniform(low=-10., high=10., size=n)\n",
    "\n",
    "# sample each value of y from a normal distribution about\n",
    "# the corresponding value of x\n",
    "y = c * x + rng.standard_normal(size=n)"
   ]
  },
  {
   "cell_type": "markdown",
   "id": "7fa84db7",
   "metadata": {},
   "source": [
    "Apply least-squares linear regression to estimate $c$.\n",
    "\n",
    "Note that `y * x` performs *arithmetic* multiplication *element-wise* - that is, it produces an array of the same size as `y` and `x` with the following elements:\n",
    "\n",
    "```\n",
    "[y[0] * x[0], y[1] * x[1], ...]\n",
    "```\n",
    "\n",
    "The same is true of `x**2` - it takes the square of each *element* of `x`."
   ]
  },
  {
   "cell_type": "code",
   "execution_count": null,
   "id": "0fab5b72",
   "metadata": {},
   "outputs": [],
   "source": [
    "c_est = np.sum(y * x) / np.sum(x**2)"
   ]
  },
  {
   "cell_type": "markdown",
   "id": "23edd971",
   "metadata": {},
   "source": [
    "Print the result. We expect `c_est` to be close to `c` but not exactly the same. We also expect `c_est` to be a better and better estimate as we increase the amount of data - **try increasing `n` and see what happens**."
   ]
  },
  {
   "cell_type": "code",
   "execution_count": null,
   "id": "f3fda285",
   "metadata": {},
   "outputs": [],
   "source": [
    "print(f'    c = {c:6.3f}')\n",
    "print(f'c_est = {c_est:6.3f}')"
   ]
  },
  {
   "cell_type": "markdown",
   "id": "a2d029c9",
   "metadata": {},
   "source": [
    "Plot the result."
   ]
  },
  {
   "cell_type": "code",
   "execution_count": null,
   "id": "516a7053",
   "metadata": {},
   "outputs": [],
   "source": [
    "plt.figure(figsize=(8, 4))\n",
    "plt.plot(x, y, '.', markersize=12, label='raw data')\n",
    "plt.plot([-10, 10], [c_est * -10, c_est * 10], label='linear fit')\n",
    "plt.xlim(-10, 10)\n",
    "plt.xlabel('x')\n",
    "plt.ylim(-20, 20)\n",
    "plt.ylabel('y')\n",
    "plt.grid()\n",
    "plt.legend()"
   ]
  },
  {
   "cell_type": "markdown",
   "id": "9065f52f",
   "metadata": {},
   "source": [
    "# 3. See an example of finite difference approximation"
   ]
  },
  {
   "cell_type": "markdown",
   "id": "3b3e95aa",
   "metadata": {},
   "source": [
    "Create example data."
   ]
  },
  {
   "cell_type": "code",
   "execution_count": null,
   "id": "3c5d2a6e",
   "metadata": {},
   "outputs": [],
   "source": [
    "# time step\n",
    "dt = 0.01\n",
    "\n",
    "# array of t\n",
    "t = np.linspace(0., 5., 1 + int(5 / dt))\n",
    "\n",
    "# array of x(t)\n",
    "x = np.sin(t)\n",
    "\n",
    "# array of xdot(t)\n",
    "xdot = np.cos(t)"
   ]
  },
  {
   "cell_type": "markdown",
   "id": "c0c9f2b4",
   "metadata": {},
   "source": [
    "Estimate $\\dot{x}(t)$ by finite difference approximation.\n",
    "\n",
    "Remember that, if there are `n` elements in `x`, then:\n",
    "\n",
    "* `x[1:]` is the array `[x[1], x[2], ..., x[n-1]]`\n",
    "* `x[:-1]` is the array `[x[0], x[1], ..., x[n-2]]`\n",
    "\n",
    "So:\n",
    "\n",
    "* `x[1:] - x[:-1]` is the array `[x[1] - x[0], x[2] - x[1], ..., x[n-1] - x[n-2]]`"
   ]
  },
  {
   "cell_type": "code",
   "execution_count": null,
   "id": "c2f3c332",
   "metadata": {},
   "outputs": [],
   "source": [
    "xdot_est = (x[1:] - x[:-1]) / dt"
   ]
  },
  {
   "cell_type": "markdown",
   "id": "85c938b1",
   "metadata": {},
   "source": [
    "Note that the length of `xdot_est` is one less than the length of `x`."
   ]
  },
  {
   "cell_type": "code",
   "execution_count": null,
   "id": "770c61d4",
   "metadata": {},
   "outputs": [],
   "source": [
    "print(f'length of x is {len(x)}')\n",
    "print(f'length of xdot_est is {len(xdot_est)}')"
   ]
  },
  {
   "cell_type": "markdown",
   "id": "339ff0aa",
   "metadata": {},
   "source": [
    "Plot $x(t)$, the true value of $\\dot{x}(t)$, and our finite-difference estimate of $\\dot{x}(t)$. Note that, because `xdot_est` has one fewer element than `x` and `t`, we need to plot `xdot_est` versus `t[:-1]` (i.e., all but the last element of `t`) rather than versus `t`."
   ]
  },
  {
   "cell_type": "code",
   "execution_count": null,
   "id": "3d17cd89",
   "metadata": {},
   "outputs": [],
   "source": [
    "plt.figure(figsize=(8, 4))\n",
    "plt.plot(t, x, label='$x$')\n",
    "plt.plot(t, xdot, linewidth=2, label='$\\dot{x}$')\n",
    "plt.plot(t[:-1], xdot_est, '-.', linewidth=2, label='$\\dot{x}$ (estimate)')\n",
    "plt.legend(fontsize=16)\n",
    "plt.grid()\n",
    "plt.ylim(-1.5, 1.5)"
   ]
  },
  {
   "cell_type": "markdown",
   "id": "06b76aa6",
   "metadata": {},
   "source": [
    "**Beware!** The finite difference approximation amplifies noise. Here is the result if we add a small amount of Gaussian noise to each sample of $x(t)$. Notice that $x(t)$ looks exactly the same as before, but the estimate of $\\dot{x}(t)$ looks very noise (100 times noisier than $x(t)$)."
   ]
  },
  {
   "cell_type": "code",
   "execution_count": null,
   "id": "922b9d0a",
   "metadata": {},
   "outputs": [],
   "source": [
    "# create noisy data\n",
    "x = np.sin(t) + 0.001 * rng.standard_normal(len(t))\n",
    "\n",
    "# recompute estimate of xdot\n",
    "xdot_est = (x[1:] - x[:-1]) / dt\n",
    "\n",
    "# plot result\n",
    "plt.figure(figsize=(8, 4))\n",
    "plt.plot(t, x, label='$x$')\n",
    "plt.plot(t, xdot, linewidth=2, label='$\\dot{x}$')\n",
    "plt.plot(t[:-1], xdot_est, '-.', linewidth=2, label='$\\dot{x}$ (estimate)')\n",
    "plt.legend(fontsize=16)\n",
    "plt.grid()\n",
    "plt.ylim(-1.5, 1.5)"
   ]
  },
  {
   "cell_type": "markdown",
   "id": "9afda878",
   "metadata": {},
   "source": [
    "# 4. Define constants"
   ]
  },
  {
   "cell_type": "markdown",
   "id": "b4471de4",
   "metadata": {},
   "source": [
    "Define the acceleration of gravity in $\\text{kg}\\cdot\\text{m} \\;/\\; \\text{s}^2$:"
   ]
  },
  {
   "cell_type": "code",
   "execution_count": null,
   "id": "34d4e541",
   "metadata": {},
   "outputs": [],
   "source": [
    "g = 9.81"
   ]
  },
  {
   "cell_type": "markdown",
   "id": "c604d6c6",
   "metadata": {},
   "source": [
    "Define the mass of the drone in $\\text{kg}$:"
   ]
  },
  {
   "cell_type": "code",
   "execution_count": null,
   "id": "73d36ac6",
   "metadata": {},
   "outputs": [],
   "source": [
    "m = 1.00 # <-- FIXME"
   ]
  },
  {
   "cell_type": "markdown",
   "id": "7ee894bc",
   "metadata": {},
   "source": [
    "Define the principle moment of inertia about the $z$ axis in $\\text{kg}\\cdot\\text{m}^2$:"
   ]
  },
  {
   "cell_type": "code",
   "execution_count": null,
   "id": "1fcbce3c",
   "metadata": {},
   "outputs": [],
   "source": [
    "J_z = 1.00 # <-- FIXME"
   ]
  },
  {
   "cell_type": "markdown",
   "id": "ec7f71ee",
   "metadata": {},
   "source": [
    "Using a ruler, measure the distance $l$ in **meters** along both the $x$ and $y$ axis from the center of mass to the center of each rotor."
   ]
  },
  {
   "cell_type": "code",
   "execution_count": null,
   "id": "972c9b27",
   "metadata": {},
   "outputs": [],
   "source": [
    "l = 0.00 # <-- FIXME"
   ]
  },
  {
   "cell_type": "markdown",
   "id": "45733b0d",
   "metadata": {},
   "source": [
    "# 5. Find the force parameter"
   ]
  },
  {
   "cell_type": "markdown",
   "id": "92daf483",
   "metadata": {},
   "source": [
    "### 5.1 Show video of flight"
   ]
  },
  {
   "cell_type": "markdown",
   "id": "2850519a",
   "metadata": {},
   "source": [
    "In the following cell, show a video of your flight to collect data (change the url as appropriate)."
   ]
  },
  {
   "cell_type": "code",
   "execution_count": null,
   "id": "92495853",
   "metadata": {},
   "outputs": [],
   "source": [
    "# FIXME (REPLACE URL TO SHOW A VIDEO OF YOUR FLIGHT)\n",
    "mediaspace('https://mediaspace.illinois.edu/media/t/YOUR_VIDEO_ID')"
   ]
  },
  {
   "cell_type": "markdown",
   "id": "7ec9fefe",
   "metadata": {},
   "source": [
    "Replace this cell with a precise description of the flight trajectory, both in words and (if you like) with a snippet of code from `flight.py`. You can include code in markdown with a \"code block\" that is delimited by three backslashes above and below - for example, this...\n",
    "\n",
    "``````\n",
    "```python\n",
    "client.move(0.0, 0.0, 0.5, 0.0, 1.0)\n",
    "```\n",
    "``````\n",
    "...is rendered like this:\n",
    "```python\n",
    "client.move(0.0, 0.0, 0.5, 0.0, 1.0)\n",
    "```"
   ]
  },
  {
   "cell_type": "markdown",
   "id": "d19af812",
   "metadata": {},
   "source": [
    "### 5.2 Get and plot flight data"
   ]
  },
  {
   "cell_type": "markdown",
   "id": "7f727af9",
   "metadata": {},
   "source": [
    "Load and resample data."
   ]
  },
  {
   "cell_type": "code",
   "execution_count": null,
   "id": "989fc60b",
   "metadata": {},
   "outputs": [],
   "source": [
    "data = load_hardware_data(\n",
    "    'force-data.json',\n",
    "    t_min_offset=0.,\n",
    "    t_max_offset=0.,\n",
    ")"
   ]
  },
  {
   "cell_type": "markdown",
   "id": "39a733c7",
   "metadata": {},
   "source": [
    "Parse data to get:\n",
    "* time\n",
    "* the accelerometer measurements (**note!** these are in units of \"g's\")\n",
    "* the motor power commands"
   ]
  },
  {
   "cell_type": "code",
   "execution_count": null,
   "id": "fbbf09d6",
   "metadata": {},
   "outputs": [],
   "source": [
    "t = data['time']\n",
    "a_x = g * data['acc.x']\n",
    "a_y = g * data['acc.y']\n",
    "a_z = g * data['acc.z']\n",
    "m_1 = data['motor.m1']\n",
    "m_2 = data['motor.m2']\n",
    "m_3 = data['motor.m3']\n",
    "m_4 = data['motor.m4']"
   ]
  },
  {
   "cell_type": "markdown",
   "id": "74bd3817",
   "metadata": {},
   "source": [
    "Plot accelerometer measurements and motor power commands. Since the rotors generate force only in the body-fixed $z$ direction, the $x$ and $y$ accelerometer measurements should be much smaller than the $z$ accelerometer measurements. It is important to check this. (Also remember to use `t_min_offset` and `t_max_offset` so that you only look at data from when you are *actually flying.*)"
   ]
  },
  {
   "cell_type": "code",
   "execution_count": null,
   "id": "80234d2c",
   "metadata": {},
   "outputs": [],
   "source": [
    "fig, (ax_a, ax_m) = plt.subplots(2, 1, figsize=(12, 12), sharex=True)\n",
    "ax_a.plot(t, a_x, label='a_x')\n",
    "ax_a.plot(t, a_y, label='a_y')\n",
    "ax_a.plot(t, a_z, label='a_z')\n",
    "ax_a.legend()\n",
    "ax_a.grid()\n",
    "ax_m.plot(t, m_1, label='m_1')\n",
    "ax_m.plot(t, m_2, label='m_2')\n",
    "ax_m.plot(t, m_3, label='m_3')\n",
    "ax_m.plot(t, m_4, label='m_4')\n",
    "ax_m.legend()\n",
    "ax_m.grid()"
   ]
  },
  {
   "cell_type": "markdown",
   "id": "0901d777",
   "metadata": {},
   "source": [
    "### 5.3 Apply linear regression to estimate $k_F$"
   ]
  },
  {
   "cell_type": "markdown",
   "id": "c31e68a3",
   "metadata": {},
   "source": [
    "First, compute `x`."
   ]
  },
  {
   "cell_type": "code",
   "execution_count": null,
   "id": "8451c29d",
   "metadata": {},
   "outputs": [],
   "source": [
    "x = [] # <-- FIXME (REPLACE WITH CODE TO DEFINE THE \"X\" IN LINEAR REGRESSION)"
   ]
  },
  {
   "cell_type": "markdown",
   "id": "2b137ab2",
   "metadata": {},
   "source": [
    "Second, compute `y`."
   ]
  },
  {
   "cell_type": "code",
   "execution_count": null,
   "id": "ead4b30b",
   "metadata": {},
   "outputs": [],
   "source": [
    "y = [] # <-- FIXME (REPLACE WITH CODE TO DEFINE THE \"Y\" IN LINEAR REGRESSION)"
   ]
  },
  {
   "cell_type": "markdown",
   "id": "1eb6b7c1",
   "metadata": {},
   "source": [
    "Third, compute `c_est`."
   ]
  },
  {
   "cell_type": "code",
   "execution_count": null,
   "id": "36e636a9",
   "metadata": {},
   "outputs": [],
   "source": [
    "c_est = 0. # <-- FIXME (REPLACE WITH CODE TO COMPUTE THE ESTIMATE OF \"C\" IN LINEAR REGRESSION)"
   ]
  },
  {
   "cell_type": "markdown",
   "id": "d9426c9d",
   "metadata": {},
   "source": [
    "Finally, compute `k_F` in terms of `c_est`."
   ]
  },
  {
   "cell_type": "code",
   "execution_count": null,
   "id": "35ec581c",
   "metadata": {},
   "outputs": [],
   "source": [
    "k_F = 0. # <-- FIXME (REPLACE WITH CODE TO COMPUTE K_F GIVEN C_EST - LIKELY VERY SIMPLE!)"
   ]
  },
  {
   "cell_type": "markdown",
   "id": "19d51cf6",
   "metadata": {},
   "source": [
    "Show the estimate."
   ]
  },
  {
   "cell_type": "code",
   "execution_count": null,
   "id": "a4825de4",
   "metadata": {},
   "outputs": [],
   "source": [
    "print(f'k_F = {k_F:.2e}')"
   ]
  },
  {
   "cell_type": "markdown",
   "id": "a402ddad",
   "metadata": {},
   "source": [
    "### 5.4 Validate your estimate"
   ]
  },
  {
   "cell_type": "markdown",
   "id": "3a601d74",
   "metadata": {},
   "source": [
    "Compare the linear fit to the raw data."
   ]
  },
  {
   "cell_type": "code",
   "execution_count": null,
   "id": "0784116d",
   "metadata": {},
   "outputs": [],
   "source": [
    "plt.figure(figsize=(10, 10))\n",
    "plt.plot(x, y, '.', markersize=4, label='raw data')\n",
    "plt.plot([0, 262140], [c_est * 0, c_est * 262140], label='linear fit')\n",
    "plt.xlim(0, 262140)\n",
    "plt.xlabel('x')\n",
    "plt.ylim(0, 0.5)\n",
    "plt.ylabel('y')\n",
    "plt.grid()\n",
    "plt.legend()"
   ]
  },
  {
   "cell_type": "markdown",
   "id": "a46a5c86",
   "metadata": {},
   "source": [
    "Compare the z-axis accelerometer measurement to what you would have predicted with your estimate of $k_F$."
   ]
  },
  {
   "cell_type": "code",
   "execution_count": null,
   "id": "e14a3562",
   "metadata": {},
   "outputs": [],
   "source": [
    "a_z_predicted = [] # <-- FIXME (REPLACE WITH CODE TO COMPUTE\n",
    "                  #     THE ACCELEROMETER MEASUREMENTS, GIVEN\n",
    "                  #     YOUR ESTIMATE OF K_F, THE MASS, AND THE\n",
    "                  #     MOTOR POWER COMMANDS)\n",
    "\n",
    "plt.figure(figsize=(12, 6))\n",
    "plt.plot(t, a_z, label='a_z (measured)')\n",
    "plt.plot(t, a_z_predicted, '--', label='a_z (predicted)')\n",
    "plt.grid()\n",
    "plt.legend()"
   ]
  },
  {
   "cell_type": "markdown",
   "id": "e3be659c",
   "metadata": {},
   "source": [
    "# 6. Find the moment parameter"
   ]
  },
  {
   "cell_type": "markdown",
   "id": "4d2d19d3",
   "metadata": {},
   "source": [
    "### 6.1 Show video of flight"
   ]
  },
  {
   "cell_type": "markdown",
   "id": "d4245b9f",
   "metadata": {},
   "source": [
    "In the following cell, show a video of your flight to collect data (change the url as appropriate)."
   ]
  },
  {
   "cell_type": "code",
   "execution_count": null,
   "id": "656f2357",
   "metadata": {},
   "outputs": [],
   "source": [
    "# FIXME (REPLACE URL TO SHOW A VIDEO OF YOUR FLIGHT)\n",
    "mediaspace('https://mediaspace.illinois.edu/media/t/YOUR_VIDEO_ID')"
   ]
  },
  {
   "cell_type": "markdown",
   "id": "cda7ed37",
   "metadata": {},
   "source": [
    "Replace this cell with a precise description of the flight trajectory, both in words and (if you like) with a snippet of code from `flight.py`. You can include code in markdown with a \"code block\" that is delimited by three backslashes above and below - for example, this...\n",
    "\n",
    "``````\n",
    "```python\n",
    "client.move(0.0, 0.0, 0.5, 0.0, 1.0)\n",
    "```\n",
    "``````\n",
    "...is rendered like this:\n",
    "```python\n",
    "client.move(0.0, 0.0, 0.5, 0.0, 1.0)\n",
    "```"
   ]
  },
  {
   "cell_type": "markdown",
   "id": "c1c6368a",
   "metadata": {},
   "source": [
    "### 6.2 Get and plot flight data"
   ]
  },
  {
   "cell_type": "markdown",
   "id": "bb775791",
   "metadata": {},
   "source": [
    "Load and resample data."
   ]
  },
  {
   "cell_type": "code",
   "execution_count": null,
   "id": "6778ef2c",
   "metadata": {},
   "outputs": [],
   "source": [
    "data = load_hardware_data(\n",
    "    'moment-data.json',\n",
    "    t_min_offset=0.,\n",
    "    t_max_offset=0.,\n",
    ")"
   ]
  },
  {
   "cell_type": "markdown",
   "id": "d81ea0cc",
   "metadata": {},
   "source": [
    "Parse data to get:\n",
    "* time\n",
    "* the gyroscope measurements (**note!** these are in units of degrees / second)\n",
    "* the motor power commands"
   ]
  },
  {
   "cell_type": "code",
   "execution_count": null,
   "id": "9770b120",
   "metadata": {},
   "outputs": [],
   "source": [
    "t = data['time']\n",
    "w_x = np.deg2rad(data['gyro.x'])\n",
    "w_y = np.deg2rad(data['gyro.y'])\n",
    "w_z = np.deg2rad(data['gyro.z'])\n",
    "m_1 = data['motor.m1']\n",
    "m_2 = data['motor.m2']\n",
    "m_3 = data['motor.m3']\n",
    "m_4 = data['motor.m4']"
   ]
  },
  {
   "cell_type": "markdown",
   "id": "d204f5fe",
   "metadata": {},
   "source": [
    "Find the time step. It should be `0.01` because data were sampled at 100 Hz."
   ]
  },
  {
   "cell_type": "code",
   "execution_count": null,
   "id": "54b16e30",
   "metadata": {},
   "outputs": [],
   "source": [
    "dt = t[1] - t[0]\n",
    "print(f'dt = {dt}')"
   ]
  },
  {
   "cell_type": "markdown",
   "id": "13aaff19",
   "metadata": {},
   "source": [
    "Plot gyroscope measurements and motor power commands. Since the drone was near hover during flight (only yawing back and forth), the $x$ and $y$ gyroscope measurements should be much smaller than the $z$ gyroscope measurements. It is important to check this. (Also remember to use `t_min_offset` and `t_max_offset` so that you only look at data from when you are *actually flying.*)"
   ]
  },
  {
   "cell_type": "code",
   "execution_count": null,
   "id": "28baa387",
   "metadata": {},
   "outputs": [],
   "source": [
    "fig, (ax_w, ax_m) = plt.subplots(2, 1, figsize=(12, 12), sharex=True)\n",
    "ax_w.plot(t, w_x, label='w_x')\n",
    "ax_w.plot(t, w_y, label='w_y')\n",
    "ax_w.plot(t, w_z, label='w_z')\n",
    "ax_w.legend()\n",
    "ax_w.grid()\n",
    "ax_m.plot(t, m_1, label='m_1')\n",
    "ax_m.plot(t, m_2, label='m_2')\n",
    "ax_m.plot(t, m_3, label='m_3')\n",
    "ax_m.plot(t, m_4, label='m_4')\n",
    "ax_m.legend()\n",
    "ax_m.grid()"
   ]
  },
  {
   "cell_type": "markdown",
   "id": "b8eeb5e2",
   "metadata": {},
   "source": [
    "### 6.3 Use finite difference to estimate $\\dot{w}_z$"
   ]
  },
  {
   "cell_type": "markdown",
   "id": "1da7e9de",
   "metadata": {},
   "source": [
    "Estimate $\\dot{w}_z$ by finite difference."
   ]
  },
  {
   "cell_type": "code",
   "execution_count": null,
   "id": "4136e565",
   "metadata": {},
   "outputs": [],
   "source": [
    "w_z_dot = [] # <-- FIXME (REPLACE WITH CODE TO COMPUTE W_Z BY FINITE DIFFERENCE)"
   ]
  },
  {
   "cell_type": "markdown",
   "id": "99056c4f",
   "metadata": {},
   "source": [
    "Plot both $w_z$ and $\\dot{w}_z$.\n",
    "\n",
    "**This code, unmodified, will result in an error!** This is because `w_z_dot` has one fewer element than `w_z` and `t`. Do you remember what you need to change? Fix it."
   ]
  },
  {
   "cell_type": "code",
   "execution_count": null,
   "id": "0ed4fbde",
   "metadata": {},
   "outputs": [],
   "source": [
    "plt.figure(figsize=(12, 6))\n",
    "plt.plot(t, w_z, label='$w_z$')\n",
    "plt.plot(t, w_z_dot, '--', label='$\\dot{w}_z$')\n",
    "plt.grid()\n",
    "plt.legend(fontsize=16)"
   ]
  },
  {
   "cell_type": "markdown",
   "id": "77aa6c8b",
   "metadata": {},
   "source": [
    "### 6.4 Apply linear regression to estimate $k_M$"
   ]
  },
  {
   "cell_type": "markdown",
   "id": "3e181ad8",
   "metadata": {},
   "source": [
    "First, compute `x`."
   ]
  },
  {
   "cell_type": "code",
   "execution_count": null,
   "id": "ce393ad9",
   "metadata": {},
   "outputs": [],
   "source": [
    "x = [] # <-- FIXME (REPLACE WITH CODE TO DEFINE THE \"X\" IN LINEAR REGRESSION)"
   ]
  },
  {
   "cell_type": "markdown",
   "id": "067e97f6",
   "metadata": {},
   "source": [
    "Second, compute `y`."
   ]
  },
  {
   "cell_type": "code",
   "execution_count": null,
   "id": "3d4c9593",
   "metadata": {},
   "outputs": [],
   "source": [
    "y = [] # <-- FIXME (REPLACE WITH CODE TO DEFINE THE \"Y\" IN LINEAR REGRESSION)"
   ]
  },
  {
   "cell_type": "markdown",
   "id": "6dda405d",
   "metadata": {},
   "source": [
    "Third, compute `c_est`.\n",
    "\n",
    "**If you do this without thinking, you will get an error!** In particular, you will likely see something like this:\n",
    "\n",
    "```\n",
    "ValueError: operands could not be broadcast together with shapes (1313,) (1314,)\n",
    "```\n",
    "\n",
    "The reason for this error is that you are trying to add, subtract, multiply, or divide (element-wise) two 1D numpy arrays that have different lengths. Remember, in particular, that `w_z_dot` has one fewer element than everything else. What will you need to change in order to make your code work without error?"
   ]
  },
  {
   "cell_type": "code",
   "execution_count": null,
   "id": "1bbc004f",
   "metadata": {},
   "outputs": [],
   "source": [
    "c_est = 0. # <-- FIXME (REPLACE WITH CODE TO COMPUTE THE ESTIMATE OF \"C\" IN LINEAR REGRESSION)"
   ]
  },
  {
   "cell_type": "markdown",
   "id": "6fff6952",
   "metadata": {},
   "source": [
    "Finally, compute `k_M` in terms of `c_est`."
   ]
  },
  {
   "cell_type": "code",
   "execution_count": null,
   "id": "6ae191cb",
   "metadata": {},
   "outputs": [],
   "source": [
    "k_M = 0. # <-- FIXME (REPLACE WITH CODE TO COMPUTE K_M GIVEN C_EST - LIKELY VERY SIMPLE!)"
   ]
  },
  {
   "cell_type": "markdown",
   "id": "2d4dc5ea",
   "metadata": {},
   "source": [
    "Show the estimate."
   ]
  },
  {
   "cell_type": "code",
   "execution_count": null,
   "id": "75f2d14d",
   "metadata": {},
   "outputs": [],
   "source": [
    "print(f'k_M = {k_M:.2e}')"
   ]
  },
  {
   "cell_type": "markdown",
   "id": "c38d054c",
   "metadata": {},
   "source": [
    "### 6.4 Validate your estimate"
   ]
  },
  {
   "cell_type": "markdown",
   "id": "c5425bce",
   "metadata": {},
   "source": [
    "Compare the linear fit to the raw data."
   ]
  },
  {
   "cell_type": "code",
   "execution_count": null,
   "id": "621d20d0",
   "metadata": {},
   "outputs": [],
   "source": [
    "plt.figure(figsize=(10, 10))\n",
    "plt.plot(x, y, '.', markersize=12, label='raw data')\n",
    "plt.plot([-131070, 131070], [c_est * -131070, c_est * 131070], label='linear fit')\n",
    "plt.xlim(-131070, 131070)\n",
    "plt.xlabel('x')\n",
    "plt.ylim(-.002, 0.002)\n",
    "plt.ylabel('y')\n",
    "plt.grid()\n",
    "plt.legend()"
   ]
  },
  {
   "cell_type": "markdown",
   "id": "0deeaf05",
   "metadata": {},
   "source": [
    "Compare the finite-difference estimate of $\\dot{w}_z$ to what you would have predicted using $k_M$. **Again, you will likely have to modify this code for it to execute without error - be careful about the lengths of your arrays!**"
   ]
  },
  {
   "cell_type": "code",
   "execution_count": null,
   "id": "bedd2248",
   "metadata": {},
   "outputs": [],
   "source": [
    "w_z_dot_predicted = [] # <-- FIXME (REPLACE WITH CODE TO COMPUTE\n",
    "                       #     W_Z_DOT AS PREDICTED FROM YOUR ESTIMATE\n",
    "                       #     OF K_F, THE MOMENT OF INERTIA J_Z, AND\n",
    "                       #     THE MOTOR POWER COMMANDS)\n",
    "\n",
    "plt.figure(figsize=(12, 6))\n",
    "plt.plot(t, w_z_dot, label='$\\dot{w}_z$ (measured)')\n",
    "plt.plot(t, w_z_dot_predicted, '--', label='$\\dot{w}_z$ (predicted)')\n",
    "plt.grid()\n",
    "plt.legend()"
   ]
  },
  {
   "cell_type": "markdown",
   "id": "47277435",
   "metadata": {},
   "source": [
    "# 7. Summarize and discuss the results"
   ]
  },
  {
   "cell_type": "markdown",
   "id": "18f63a6c",
   "metadata": {},
   "source": [
    "### Summary of results"
   ]
  },
  {
   "cell_type": "code",
   "execution_count": null,
   "id": "2952b085",
   "metadata": {},
   "outputs": [],
   "source": [
    "print(f'l = {l:.2} m')\n",
    "print(f'k_F = {k_F:.2e}')\n",
    "print(f'k_M = {k_M:.2e}')"
   ]
  },
  {
   "cell_type": "markdown",
   "id": "48819a28",
   "metadata": {},
   "source": [
    "### Sources of error"
   ]
  },
  {
   "cell_type": "markdown",
   "id": "db6b7415",
   "metadata": {},
   "source": [
    "**Modify the text in this cell** to discuss possible sources of error. For example:\n",
    "* How uncertain was each measurement and each computed quantity?\n",
    "* What assumptions were made and to what extent were these assumptions violated?\n",
    "* Are there ways in which either the experiments or the analysis could be improved?"
   ]
  },
  {
   "cell_type": "code",
   "execution_count": null,
   "id": "0ef03324",
   "metadata": {},
   "outputs": [],
   "source": []
  }
 ],
 "metadata": {
  "kernelspec": {
   "display_name": "Python 3 (ipykernel)",
   "language": "python",
   "name": "python3"
  },
  "language_info": {
   "codemirror_mode": {
    "name": "ipython",
    "version": 3
   },
   "file_extension": ".py",
   "mimetype": "text/x-python",
   "name": "python",
   "nbconvert_exporter": "python",
   "pygments_lexer": "ipython3",
   "version": "3.10.5"
  }
 },
 "nbformat": 4,
 "nbformat_minor": 5
}
