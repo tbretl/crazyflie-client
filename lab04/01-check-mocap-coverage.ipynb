{
 "cells": [
  {
   "cell_type": "markdown",
   "id": "bd7091b7",
   "metadata": {},
   "source": [
    "# Check motion capture system coverage"
   ]
  },
  {
   "cell_type": "markdown",
   "id": "7cfbcfb6",
   "metadata": {},
   "source": [
    "Do imports."
   ]
  },
  {
   "cell_type": "code",
   "execution_count": null,
   "id": "294d9f2d",
   "metadata": {},
   "outputs": [],
   "source": [
    "import numpy as np\n",
    "import matplotlib.pyplot as plt\n",
    "from ae483tools import *"
   ]
  },
  {
   "cell_type": "markdown",
   "id": "525b5e73",
   "metadata": {},
   "source": [
    "Define a function to check data from a given flight."
   ]
  },
  {
   "cell_type": "code",
   "execution_count": null,
   "id": "516ea4a2",
   "metadata": {},
   "outputs": [],
   "source": [
    "def check_data(filename):\n",
    "    # Load data\n",
    "    raw_data_drone, raw_data_mocap = load_hardware_data(filename)\n",
    "\n",
    "    # Compute statistics\n",
    "    how_many_timesteps = len(raw_data_mocap['z'])\n",
    "    how_many_dropouts = len(np.argwhere(np.isnan(raw_data_mocap['z'])).flatten())\n",
    "    percent_coverage = 100. * (1. - (how_many_dropouts / how_many_timesteps))\n",
    "    elapsed_time = raw_data_mocap['time'][-1] - raw_data_mocap['time'][0]\n",
    "    sample_rate = how_many_timesteps / elapsed_time\n",
    "\n",
    "    # Plot data (with relevant statistics in the title)\n",
    "    fig, ax = plt.subplots(1, 1, figsize=(7, 3), tight_layout=True)\n",
    "    ax.plot(raw_data_mocap['time'], raw_data_mocap['z'])\n",
    "    ax.set_xlabel('t (seconds)')\n",
    "    ax.set_ylabel('z (meters)')\n",
    "    ax.set_ylim(0., 1.)\n",
    "    ax.set_title(f'({filename}) Tracked {percent_coverage:.1f}% of {how_many_timesteps} time steps at about {sample_rate:.0f} Hz')\n",
    "    ax.grid()"
   ]
  },
  {
   "cell_type": "markdown",
   "id": "81ea8d66",
   "metadata": {},
   "source": [
    "Check `force_data.json`."
   ]
  },
  {
   "cell_type": "code",
   "execution_count": null,
   "id": "3b2b7830",
   "metadata": {},
   "outputs": [],
   "source": [
    "check_data('force_data.json')"
   ]
  },
  {
   "cell_type": "markdown",
   "id": "808d181c",
   "metadata": {},
   "source": [
    "Check `moment_data.json`."
   ]
  },
  {
   "cell_type": "code",
   "execution_count": null,
   "id": "47c834d2",
   "metadata": {},
   "outputs": [],
   "source": [
    "check_data('moment_data.json')"
   ]
  },
  {
   "cell_type": "code",
   "execution_count": null,
   "id": "b383c34c",
   "metadata": {},
   "outputs": [],
   "source": []
  }
 ],
 "metadata": {
  "kernelspec": {
   "display_name": "Python 3 (ipykernel)",
   "language": "python",
   "name": "python3"
  },
  "language_info": {
   "codemirror_mode": {
    "name": "ipython",
    "version": 3
   },
   "file_extension": ".py",
   "mimetype": "text/x-python",
   "name": "python",
   "nbconvert_exporter": "python",
   "pygments_lexer": "ipython3",
   "version": "3.12.4"
  }
 },
 "nbformat": 4,
 "nbformat_minor": 5
}
