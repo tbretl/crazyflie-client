{
 "cells": [
  {
   "cell_type": "markdown",
   "id": "bd7091b7",
   "metadata": {},
   "source": [
    "# Check motion capture system coverage"
   ]
  },
  {
   "cell_type": "markdown",
   "id": "5a7dc625",
   "metadata": {},
   "source": [
    "Add parent directory to `sys.path` so that we can import `ae483tools`."
   ]
  },
  {
   "cell_type": "code",
   "execution_count": null,
   "id": "f0dff31c",
   "metadata": {},
   "outputs": [],
   "source": [
    "import sys, os\n",
    "sys.path.append(os.path.abspath('..'))"
   ]
  },
  {
   "cell_type": "markdown",
   "id": "b6cdaf1c",
   "metadata": {},
   "source": [
    "Do all other imports."
   ]
  },
  {
   "cell_type": "code",
   "execution_count": null,
   "id": "294d9f2d",
   "metadata": {},
   "outputs": [],
   "source": [
    "from ae483tools import *"
   ]
  },
  {
   "cell_type": "markdown",
   "id": "81ea8d66",
   "metadata": {},
   "source": [
    "Check `force_data.json`."
   ]
  },
  {
   "cell_type": "code",
   "execution_count": null,
   "id": "3b2b7830",
   "metadata": {},
   "outputs": [],
   "source": [
    "check_mocap_coverage('force_data.json')"
   ]
  },
  {
   "cell_type": "markdown",
   "id": "808d181c",
   "metadata": {},
   "source": [
    "Check `moment_data.json`."
   ]
  },
  {
   "cell_type": "code",
   "execution_count": null,
   "id": "47c834d2",
   "metadata": {},
   "outputs": [],
   "source": [
    "check_mocap_coverage('moment_data.json')"
   ]
  }
 ],
 "metadata": {
  "kernelspec": {
   "display_name": "Python 3 (ipykernel)",
   "language": "python",
   "name": "python3"
  },
  "language_info": {
   "codemirror_mode": {
    "name": "ipython",
    "version": 3
   },
   "file_extension": ".py",
   "mimetype": "text/x-python",
   "name": "python",
   "nbconvert_exporter": "python",
   "pygments_lexer": "ipython3",
   "version": "3.12.4"
  }
 },
 "nbformat": 4,
 "nbformat_minor": 5
}
