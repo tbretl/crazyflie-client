{
 "cells": [
  {
   "cell_type": "markdown",
   "id": "de76993f",
   "metadata": {},
   "source": [
    "# Estimate $k_F$ and $k_M$"
   ]
  },
  {
   "cell_type": "markdown",
   "id": "f4233d19",
   "metadata": {},
   "source": [
    "## 1. Set up the notebook"
   ]
  },
  {
   "cell_type": "markdown",
   "id": "38bcc561",
   "metadata": {},
   "source": [
    "Do imports."
   ]
  },
  {
   "cell_type": "code",
   "execution_count": null,
   "id": "294d9f2d",
   "metadata": {},
   "outputs": [],
   "source": [
    "import numpy as np\n",
    "import matplotlib.pyplot as plt\n",
    "from ae483tools import *"
   ]
  },
  {
   "cell_type": "markdown",
   "id": "9afda878",
   "metadata": {},
   "source": [
    "## 2. Define constants"
   ]
  },
  {
   "cell_type": "markdown",
   "id": "b4471de4",
   "metadata": {},
   "source": [
    "Define the acceleration of gravity in $\\text{m} \\;/\\; \\text{s}^2$:"
   ]
  },
  {
   "cell_type": "code",
   "execution_count": null,
   "id": "34d4e541",
   "metadata": {},
   "outputs": [],
   "source": [
    "g = 9.81"
   ]
  },
  {
   "cell_type": "markdown",
   "id": "c604d6c6",
   "metadata": {},
   "source": [
    "Define the mass of the drone in $\\text{kg}$:"
   ]
  },
  {
   "cell_type": "code",
   "execution_count": null,
   "id": "73d36ac6",
   "metadata": {},
   "outputs": [],
   "source": [
    "m = 1.00 # <-- FIXME"
   ]
  },
  {
   "cell_type": "markdown",
   "id": "7ee894bc",
   "metadata": {},
   "source": [
    "Define the principle moment of inertia about the $z$ axis in $\\text{kg}\\cdot\\text{m}^2$:"
   ]
  },
  {
   "cell_type": "code",
   "execution_count": null,
   "id": "1fcbce3c",
   "metadata": {},
   "outputs": [],
   "source": [
    "J_z = 1.00 # <-- FIXME"
   ]
  },
  {
   "cell_type": "markdown",
   "id": "ec7f71ee",
   "metadata": {},
   "source": [
    "Using a ruler, measure the distance $\\ell$ in **meters** along both the $x_B$ and $y_B$ axis from the center of mass to the center of each rotor. The position of the front-right rotor, for example, would then be expressed in the coordinates of the body-frame as\n",
    "\n",
    "$$p^B_1 = \\begin{bmatrix} \\ell \\\\ -\\ell \\\\ 0 \\end{bmatrix}.$$"
   ]
  },
  {
   "cell_type": "code",
   "execution_count": null,
   "id": "972c9b27",
   "metadata": {},
   "outputs": [],
   "source": [
    "l = 0.00 # <-- FIXME"
   ]
  },
  {
   "cell_type": "markdown",
   "id": "45733b0d",
   "metadata": {},
   "source": [
    "## 3. Find the force parameter"
   ]
  },
  {
   "cell_type": "markdown",
   "id": "082de786",
   "metadata": {},
   "source": [
    "### 3.1 Describe the flight"
   ]
  },
  {
   "cell_type": "markdown",
   "id": "7ec9fefe",
   "metadata": {},
   "source": [
    "**Modify the text in this cell** to give a precise description of the flight trajectory, both in words and with the relevant code from `flight.py` (i.e., the sequence of stop and move commands). Please include code in markdown with a \"code block\" that is delimited by three backslashes above and below — for example, this...\n",
    "\n",
    "``````\n",
    "```python\n",
    "drone_client.move(0.0, 0.0, 0.5, 0.0, 1.0)\n",
    "```\n",
    "``````\n",
    "...is rendered like this:\n",
    "```python\n",
    "drone_client.move(0.0, 0.0, 0.5, 0.0, 1.0)\n",
    "```"
   ]
  },
  {
   "cell_type": "markdown",
   "id": "d19af812",
   "metadata": {},
   "source": [
    "### 3.2 Get and plot flight data"
   ]
  },
  {
   "cell_type": "markdown",
   "id": "7f727af9",
   "metadata": {},
   "source": [
    "Load and resample data."
   ]
  },
  {
   "cell_type": "code",
   "execution_count": null,
   "id": "989fc60b",
   "metadata": {},
   "outputs": [],
   "source": [
    "# Load data\n",
    "raw_data_drone, raw_data_mocap = load_hardware_data('force_data.json')\n",
    "\n",
    "# Resample data\n",
    "data_drone = resample_data_drone(\n",
    "    raw_data_drone,\n",
    "    t_min_offset=0.,    # <-- FIXME\n",
    "    t_max_offset=0.,    # <-- FIXME\n",
    ")"
   ]
  },
  {
   "cell_type": "markdown",
   "id": "1baa3283",
   "metadata": {},
   "source": [
    "Parse data to get:\n",
    "* time\n",
    "* the accelerometer measurements (**note!** these are in units of \"$g$'s\")\n",
    "* the motor power commands"
   ]
  },
  {
   "cell_type": "code",
   "execution_count": null,
   "id": "5a8b0c58",
   "metadata": {},
   "outputs": [],
   "source": [
    "t = data_drone['time']\n",
    "a_x = g * data_drone['acc.x']\n",
    "a_y = g * data_drone['acc.y']\n",
    "a_z = g * data_drone['acc.z']\n",
    "m_1 = data_drone['motor.m1']\n",
    "m_2 = data_drone['motor.m2']\n",
    "m_3 = data_drone['motor.m3']\n",
    "m_4 = data_drone['motor.m4']"
   ]
  },
  {
   "cell_type": "markdown",
   "id": "1465ea8a",
   "metadata": {},
   "source": [
    "Plot accelerometer measurements and motor power commands, and check three things:\n",
    "* Check that the $x$ and $y$ accelerometer measurements are much smaller than the $z$ accelerometer measurements. We would expect this to be true, because the rotors generate force only in the body-fixed $z$ direction. If this is not true, then something is wrong — fix the problem before going any further.\n",
    "* Check that all four motor power commands are approximately the same. If this is not true, then either the mass on your drone is unbalanced (e.g., the battery may be out of place) or some of the motors (or rotors) on your drone may be damaged — fix the problem before going any further.\n",
    "* Check that you are only seeing data from when the drone was *actually flying*. If this is not true, go back and adjust `t_min_offset` and `t_max_offset`."
   ]
  },
  {
   "cell_type": "code",
   "execution_count": null,
   "id": "f9438745",
   "metadata": {},
   "outputs": [],
   "source": [
    "fig, (ax_a, ax_m) = plt.subplots(2, 1, figsize=(8, 8), sharex=True, tight_layout=True)\n",
    "ax_a.plot(t, a_x, label=r'$a_x$')\n",
    "ax_a.plot(t, a_y, label=r'$a_y$')\n",
    "ax_a.plot(t, a_z, label=r'$a_z$')\n",
    "ax_a.legend()\n",
    "ax_a.grid()\n",
    "ax_m.plot(t, m_1, label=r'$m_1$')\n",
    "ax_m.plot(t, m_2, label=r'$m_2$')\n",
    "ax_m.plot(t, m_3, label=r'$m_3$')\n",
    "ax_m.plot(t, m_4, label=r'$m_4$')\n",
    "ax_m.legend()\n",
    "ax_m.grid()"
   ]
  },
  {
   "cell_type": "markdown",
   "id": "da4e56cb",
   "metadata": {},
   "source": [
    "### 3.3 Apply linear regression to estimate $k_F$ and $T_F$"
   ]
  },
  {
   "cell_type": "markdown",
   "id": "38187c7b",
   "metadata": {},
   "source": [
    "Write a function to estimate $k_F$ for a given $T_F$."
   ]
  },
  {
   "cell_type": "code",
   "execution_count": null,
   "id": "08805b94",
   "metadata": {},
   "outputs": [],
   "source": [
    "def estimate_force_parameter(T_F):\n",
    "    # Compute x(t)\n",
    "    x = np.zeros_like(t) # <-- FIXME\n",
    "    \n",
    "    # Compute y(t)\n",
    "    y = np.zeros_like(t) # <-- FIXME\n",
    "\n",
    "    # Compute y(t + T_F)\n",
    "    y = np.interp(t + T_F, t, y)\n",
    "\n",
    "    # Compute estimate\n",
    "    k_F = 0. # <-- FIXME\n",
    "\n",
    "    # Compute RMSE\n",
    "    RMSE = np.sqrt(np.mean((y - k_F * x)**2))\n",
    "\n",
    "    return k_F, RMSE, x, y"
   ]
  },
  {
   "cell_type": "markdown",
   "id": "3bf99e0c",
   "metadata": {},
   "source": [
    "Find the RMSE for a range of $T_F$."
   ]
  },
  {
   "cell_type": "code",
   "execution_count": null,
   "id": "fd6195f5",
   "metadata": {},
   "outputs": [],
   "source": [
    "# Create an array with a range of T_F's\n",
    "T_Fs = np.linspace(0., 0.2, 401)\n",
    "\n",
    "# Create an array to hold the RMSE for each T_F\n",
    "RMSEs = np.empty_like(T_Fs)\n",
    "\n",
    "# Find the RMSE for each T_F\n",
    "for i, T_F in enumerate(T_Fs):\n",
    "    k_F, RMSEs[i], x, y = estimate_force_parameter(T_F)"
   ]
  },
  {
   "cell_type": "markdown",
   "id": "1e80b751",
   "metadata": {},
   "source": [
    "Find the value of $T_F$ that gives the minimum RMSE."
   ]
  },
  {
   "cell_type": "code",
   "execution_count": null,
   "id": "f217a0c6",
   "metadata": {},
   "outputs": [],
   "source": [
    "# Find the index of the minimum RMSE\n",
    "i = 0           # <-- FIXME\n",
    "\n",
    "# Find the minimum RMSE\n",
    "RMSE = 0.       # <-- FIXME\n",
    "\n",
    "# Find the time shift that gives the minimum RMSE\n",
    "T_F = 0.    # <-- FIXME"
   ]
  },
  {
   "cell_type": "markdown",
   "id": "e9a096bb",
   "metadata": {},
   "source": [
    "Plot the RMSE for a range of $T_F$, showing the minimum."
   ]
  },
  {
   "cell_type": "code",
   "execution_count": null,
   "id": "77ba112f",
   "metadata": {},
   "outputs": [],
   "source": [
    "fig, ax = plt.subplots(1, 1, figsize=(6, 3), tight_layout=True)\n",
    "ax.plot(T_Fs, RMSEs)\n",
    "ax.plot(T_F, RMSE, '.', markersize=12)\n",
    "ax.grid()"
   ]
  },
  {
   "cell_type": "markdown",
   "id": "cc6f459e",
   "metadata": {},
   "source": [
    "Recompute the estimate of $k_F$ for the value of $T_F$ that results in minimum RMSE."
   ]
  },
  {
   "cell_type": "code",
   "execution_count": null,
   "id": "bff3b004",
   "metadata": {},
   "outputs": [],
   "source": [
    "k_F, RMSE, x, y = estimate_force_parameter(T_F)"
   ]
  },
  {
   "cell_type": "markdown",
   "id": "26688a8a",
   "metadata": {},
   "source": [
    "Show the estimate."
   ]
  },
  {
   "cell_type": "code",
   "execution_count": null,
   "id": "08740a9c",
   "metadata": {},
   "outputs": [],
   "source": [
    "print(f'k_F = {k_F:.2e}')\n",
    "print(f'T_F = {T_F:.3f}')"
   ]
  },
  {
   "cell_type": "markdown",
   "id": "e4187a7c",
   "metadata": {},
   "source": [
    "### 3.4 Validate your estimate"
   ]
  },
  {
   "cell_type": "markdown",
   "id": "4a7d978d",
   "metadata": {},
   "source": [
    "Show a plot that compares the predicted value of $f_z$ (i.e., $k_F x(t)$) with the measured value of $f_Z$ (i.e., $y(t + T_F)$), both as functions of $t$."
   ]
  },
  {
   "cell_type": "code",
   "execution_count": null,
   "id": "4af3103a",
   "metadata": {},
   "outputs": [],
   "source": [
    "fig, ax = plt.subplots(1, 1, figsize=(8, 4), tight_layout=True)\n",
    "ax.plot(t, y, label=r'$f_z$ (measured)')\n",
    "ax.plot(t, k_F * x, '--', label=r'$f_z$ (predicted)')\n",
    "ax.legend()\n",
    "ax.grid()"
   ]
  },
  {
   "cell_type": "markdown",
   "id": "88681172",
   "metadata": {},
   "source": [
    "Show a plot that compares the linear fit (i.e., $k_F x(t)$) to the raw data (i.e., $y(t + T_F)$), both as functions of $x(t)$."
   ]
  },
  {
   "cell_type": "code",
   "execution_count": null,
   "id": "08e6ff4c",
   "metadata": {},
   "outputs": [],
   "source": [
    "fig, ax = plt.subplots(1, 1, figsize=(6, 6), tight_layout=True)\n",
    "ax.plot(x, y, '.', markersize=4, label='raw data')\n",
    "ax.plot([0, 262140], [k_F * 0, k_F * 262140], label='linear fit')\n",
    "ax.set_xlim(0, 262140)\n",
    "ax.set_xlabel('x')\n",
    "ax.set_ylim(0, 0.5)\n",
    "ax.set_ylabel('y')\n",
    "ax.legend()\n",
    "ax.grid()"
   ]
  },
  {
   "cell_type": "markdown",
   "id": "e3be659c",
   "metadata": {},
   "source": [
    "## 4. Find the moment parameter"
   ]
  },
  {
   "cell_type": "markdown",
   "id": "b53b53d5",
   "metadata": {},
   "source": [
    "### 4.1 Describe the flight"
   ]
  },
  {
   "cell_type": "markdown",
   "id": "3d9a2afd",
   "metadata": {},
   "source": [
    "**Modify the text in this cell** to give a precise description of the flight trajectory, both in words and with the relevant code from `flight.py` (i.e., the sequence of stop and move commands). Please include code in markdown with a \"code block\" that is delimited by three backslashes above and below — for example, this...\n",
    "\n",
    "``````\n",
    "```python\n",
    "drone_client.move(0.0, 0.0, 0.5, 0.0, 1.0)\n",
    "```\n",
    "``````\n",
    "...is rendered like this:\n",
    "```python\n",
    "drone_client.move(0.0, 0.0, 0.5, 0.0, 1.0)\n",
    "```"
   ]
  },
  {
   "cell_type": "markdown",
   "id": "c1c6368a",
   "metadata": {},
   "source": [
    "### 4.2 Get and plot flight data"
   ]
  },
  {
   "cell_type": "markdown",
   "id": "a080a96d",
   "metadata": {},
   "source": [
    "Load and resample data."
   ]
  },
  {
   "cell_type": "code",
   "execution_count": null,
   "id": "515fcb09",
   "metadata": {},
   "outputs": [],
   "source": [
    "# Load data\n",
    "raw_data_drone, raw_data_mocap = load_hardware_data('moment_data.json')\n",
    "\n",
    "# Resample data\n",
    "data_drone = resample_data_drone(\n",
    "    raw_data_drone,\n",
    "    t_min_offset=0.,    # <-- FIXME\n",
    "    t_max_offset=0.,    # <-- FIXME\n",
    ")"
   ]
  },
  {
   "cell_type": "markdown",
   "id": "411d1f8e",
   "metadata": {},
   "source": [
    "Parse data to get:\n",
    "* time\n",
    "* the gyroscope measurements (**note!** these are in units of degrees / second)\n",
    "* the motor power commands"
   ]
  },
  {
   "cell_type": "code",
   "execution_count": null,
   "id": "ad8cfbcd",
   "metadata": {},
   "outputs": [],
   "source": [
    "t = data_drone['time']\n",
    "w_x = np.deg2rad(data_drone['gyro.x'])\n",
    "w_y = np.deg2rad(data_drone['gyro.y'])\n",
    "w_z = np.deg2rad(data_drone['gyro.z'])\n",
    "m_1 = data_drone['motor.m1']\n",
    "m_2 = data_drone['motor.m2']\n",
    "m_3 = data_drone['motor.m3']\n",
    "m_4 = data_drone['motor.m4']"
   ]
  },
  {
   "cell_type": "markdown",
   "id": "d204f5fe",
   "metadata": {},
   "source": [
    "Find the time step. It should be `0.01` because data were sampled at 100 Hz. (If it is not, stop and fix the problem.)"
   ]
  },
  {
   "cell_type": "code",
   "execution_count": null,
   "id": "54b16e30",
   "metadata": {},
   "outputs": [],
   "source": [
    "dt = t[1] - t[0]\n",
    "print(f'dt = {dt}')"
   ]
  },
  {
   "cell_type": "markdown",
   "id": "13aaff19",
   "metadata": {},
   "source": [
    "Plot gyroscope measurements and motor power commands, and check two things:\n",
    "* Check that the $x$ and $y$ gyroscope measurements are much smaller than the $z$ gyroscope measurements. We would expect this to be true, because the drone was near hover during flight (only yawing back and forth). If this is not true, then something is wrong — fix the problem before going any further.\n",
    "* Check that you are only seeing data from when the drone was *actually flying*. If this is not true, go back and adjust `t_min_offset` and `t_max_offset`."
   ]
  },
  {
   "cell_type": "code",
   "execution_count": null,
   "id": "28baa387",
   "metadata": {},
   "outputs": [],
   "source": [
    "fig, (ax_w, ax_m) = plt.subplots(2, 1, figsize=(8, 8), sharex=True)\n",
    "ax_w.plot(t, w_x, label='w_x')\n",
    "ax_w.plot(t, w_y, label='w_y')\n",
    "ax_w.plot(t, w_z, label='w_z')\n",
    "ax_w.legend()\n",
    "ax_w.grid()\n",
    "ax_m.plot(t, m_1, label='m_1')\n",
    "ax_m.plot(t, m_2, label='m_2')\n",
    "ax_m.plot(t, m_3, label='m_3')\n",
    "ax_m.plot(t, m_4, label='m_4')\n",
    "ax_m.legend()\n",
    "ax_m.grid()"
   ]
  },
  {
   "cell_type": "markdown",
   "id": "b8eeb5e2",
   "metadata": {},
   "source": [
    "### 4.3 Use finite difference to estimate $\\dot{w}_z$"
   ]
  },
  {
   "cell_type": "markdown",
   "id": "1da7e9de",
   "metadata": {},
   "source": [
    "Estimate $\\dot{w}_z$ by finite difference."
   ]
  },
  {
   "cell_type": "code",
   "execution_count": null,
   "id": "4136e565",
   "metadata": {},
   "outputs": [],
   "source": [
    "w_z_dot = np.zeros_like(w_z) # <-- FIXME (REPLACE WITH CODE TO COMPUTE W_Z BY FINITE DIFFERENCE)"
   ]
  },
  {
   "cell_type": "markdown",
   "id": "941c535a",
   "metadata": {},
   "source": [
    "Truncate all other data so that everything has the same length."
   ]
  },
  {
   "cell_type": "code",
   "execution_count": null,
   "id": "4db2e121",
   "metadata": {},
   "outputs": [],
   "source": [
    "# FIXME (REPLACE WITH CODE TO MODIFY t, m_1, etc.)"
   ]
  },
  {
   "cell_type": "markdown",
   "id": "99056c4f",
   "metadata": {},
   "source": [
    "Plot both $w_z$ and $\\dot{w}_z$ as a check to make sure finite difference was implemented correctly. (What should the sign of $\\dot{w}_z$ be when $w_z$ is increasing, for example?)"
   ]
  },
  {
   "cell_type": "code",
   "execution_count": null,
   "id": "0ed4fbde",
   "metadata": {},
   "outputs": [],
   "source": [
    "fig, (ax_w_z, ax_w_z_dot) = plt.subplots(2, 1, figsize=(8, 4), sharex=True, tight_layout=True)\n",
    "ax_w_z.plot(t, w_z, label=r'$w_z$')\n",
    "ax_w_z.legend()\n",
    "ax_w_z.grid()\n",
    "ax_w_z_dot.plot(t, w_z_dot, '--', label=r'$\\dot{w}_z$')\n",
    "ax_w_z_dot.legend()\n",
    "ax_w_z_dot.grid()"
   ]
  },
  {
   "cell_type": "markdown",
   "id": "77aa6c8b",
   "metadata": {},
   "source": [
    "### 4.4 Apply linear regression to estimate $k_M$ and $T_M$"
   ]
  },
  {
   "cell_type": "markdown",
   "id": "6447ccc9",
   "metadata": {},
   "source": [
    "Write a function to estimate $k_M$ for a given $T_M$."
   ]
  },
  {
   "cell_type": "code",
   "execution_count": null,
   "id": "9f1e6c90",
   "metadata": {},
   "outputs": [],
   "source": [
    "def estimate_kM(T_M):\n",
    "    # Compute x(t)\n",
    "    x = np.zeros_like(t) # <-- FIXME\n",
    "    \n",
    "    # Compute y(t)\n",
    "    y = np.zeros_like(t) # <-- FIXME\n",
    "    \n",
    "    # Compute y(t + T_M)\n",
    "    y = np.interp(t + T_M, t, y)\n",
    "\n",
    "    # Compute estimate\n",
    "    k_M = 0. # <-- FIXME\n",
    "    \n",
    "    # Compute RMSE\n",
    "    RMSE = np.sqrt(np.mean((y - k_M * x)**2))\n",
    "\n",
    "    return k_M, RMSE, x, y"
   ]
  },
  {
   "cell_type": "markdown",
   "id": "cac1ee6b",
   "metadata": {},
   "source": [
    "Find the RMSE for a range of $T_M$."
   ]
  },
  {
   "cell_type": "code",
   "execution_count": null,
   "id": "71616956",
   "metadata": {},
   "outputs": [],
   "source": [
    "# Create an array with a range of T's\n",
    "T_Ms = np.linspace(0., 0.2, 401)\n",
    "\n",
    "# Create an array to hold the RMSE for each T\n",
    "RMSEs = np.empty_like(T_Ms)\n",
    "\n",
    "# Find the RMSE for each T_M\n",
    "for i, T_M in enumerate(T_Ms):\n",
    "    k_M, RMSEs[i], x, y = estimate_kM(T_M)"
   ]
  },
  {
   "cell_type": "markdown",
   "id": "ba6f63bf",
   "metadata": {},
   "source": [
    "Find the value of $T_M$ that gives the minimum RMSE."
   ]
  },
  {
   "cell_type": "code",
   "execution_count": null,
   "id": "425568c7",
   "metadata": {},
   "outputs": [],
   "source": [
    "# Find the index of the minimum RMSE\n",
    "i = 0           # <-- FIXME\n",
    "\n",
    "# Find the minimum RMSE\n",
    "RMSE = 0.       # <-- FIXME\n",
    "\n",
    "# Find the time shift that gives the minimum RMSE\n",
    "T_M = 0.        # <-- FIXME"
   ]
  },
  {
   "cell_type": "markdown",
   "id": "81d915b2",
   "metadata": {},
   "source": [
    "Plot the RMSE for a range of $T_M$, showing the minimum."
   ]
  },
  {
   "cell_type": "code",
   "execution_count": null,
   "id": "493c1b28",
   "metadata": {},
   "outputs": [],
   "source": [
    "fig, ax = plt.subplots(1, 1, figsize=(6, 3), tight_layout=True)\n",
    "ax.plot(T_Ms, RMSEs)\n",
    "ax.plot(T_M, RMSE, '.', markersize=12)\n",
    "ax.grid()"
   ]
  },
  {
   "cell_type": "markdown",
   "id": "5c89859e",
   "metadata": {},
   "source": [
    "Recompute the estimate of $k_F$ for the value of $T_M$ that results in minimum RMSE."
   ]
  },
  {
   "cell_type": "code",
   "execution_count": null,
   "id": "356e9759",
   "metadata": {},
   "outputs": [],
   "source": [
    "k_M, RMSE, x, y = estimate_kM(T_M)"
   ]
  },
  {
   "cell_type": "markdown",
   "id": "8892d2d9",
   "metadata": {},
   "source": [
    "Show the estimate."
   ]
  },
  {
   "cell_type": "code",
   "execution_count": null,
   "id": "d1b3bc2d",
   "metadata": {},
   "outputs": [],
   "source": [
    "print(f'k_M = {k_M:.2e}')\n",
    "print(f'T_M = {T_M:.3f}')"
   ]
  },
  {
   "cell_type": "markdown",
   "id": "c38d054c",
   "metadata": {},
   "source": [
    "### 4.5 Validate your estimate"
   ]
  },
  {
   "cell_type": "markdown",
   "id": "e90f7350",
   "metadata": {},
   "source": [
    "Show a plot that compares the predicted value of $\\tau_z$ (i.e., $k_M x(t)$) with the measured value of $\\tau_Z$ (i.e., $y(t + T_M)$), both as functions of $t$."
   ]
  },
  {
   "cell_type": "code",
   "execution_count": null,
   "id": "1e74fd94",
   "metadata": {},
   "outputs": [],
   "source": [
    "fig, ax = plt.subplots(1, 1, figsize=(8, 4), tight_layout=True)\n",
    "ax.plot(t, y, label=r'$\\tau_z$ (measured)')\n",
    "ax.plot(t, k_M * x, '--', label=r'$\\tau_z$ (predicted)')\n",
    "ax.legend()\n",
    "ax.grid()"
   ]
  },
  {
   "cell_type": "markdown",
   "id": "99772c1f",
   "metadata": {},
   "source": [
    "Show a plot that compares the linear fit (i.e., $k_M x$ versus $x$) to the raw data (i.e., $y(t + T_M)$ versus $x(t)$)."
   ]
  },
  {
   "cell_type": "code",
   "execution_count": null,
   "id": "bcb24997",
   "metadata": {},
   "outputs": [],
   "source": [
    "fig, ax = plt.subplots(1, 1, figsize=(5, 5), tight_layout=True)\n",
    "ax.plot(x, y, '.', markersize=4, label='raw data')\n",
    "ax.plot([-131070, 131070], [k_M * -131070, k_M * 131070], label='linear fit')\n",
    "ax.set_xlim(-131070, 131070)\n",
    "ax.set_xlabel('x')\n",
    "ax.set_ylim(-.002, 0.002)\n",
    "ax.set_ylabel('y')\n",
    "ax.legend()\n",
    "ax.grid()"
   ]
  },
  {
   "cell_type": "markdown",
   "id": "47277435",
   "metadata": {},
   "source": [
    "## 5. Summarize and discuss the results"
   ]
  },
  {
   "cell_type": "markdown",
   "id": "18f63a6c",
   "metadata": {},
   "source": [
    "### 5.1 Summary of results"
   ]
  },
  {
   "cell_type": "code",
   "execution_count": null,
   "id": "2952b085",
   "metadata": {},
   "outputs": [],
   "source": [
    "print(f'l = {l:.3f} m')\n",
    "print(f'k_F = {k_F:.2e} N  (T_F = {T_F:.3f} s)')\n",
    "print(f'k_M = {k_M:.2e} N  (T_M = {T_M:.3f} s)')"
   ]
  },
  {
   "cell_type": "markdown",
   "id": "ff365d8e",
   "metadata": {},
   "source": [
    "### 5.2 Conclusions about time delay"
   ]
  },
  {
   "cell_type": "markdown",
   "id": "03bb1cd9",
   "metadata": {},
   "source": [
    "**Modify the text in this cell** to answer the following questions about your results:\n",
    "\n",
    "* What is the delay between the time at which a motor command is given and the time at which the corresponding rotor produces a force along the $z_B$ axis? Do you consider this delay to be significant?\n",
    "* What is the delay between the time at which a motor command is given and the time at which the corresponding rotor produces a moment about the $z_B$ axis? Do you consider this delay to be significant?\n",
    "\n",
    "Then, based on your answers to these first two questions, answer four more:\n",
    "\n",
    "* What delay would you expect between the time at which your controller asks for a net torque $\\tau_x$ and the time at which that torque is produced? Do you consider this delay to be significant?\n",
    "* What delay would you expect between the time at which your controller asks for a net torque $\\tau_y$ and the time at which that torque is produced? Do you consider this delay to be significant?\n",
    "* What delay would you expect between the time at which your controller asks for a net torque $\\tau_z$ and the time at which that torque is produced? Do you consider this delay to be significant?\n",
    "* What delay would you expect between the time at which your controller asks for a net force $f_z$ and the time at which that force is produced? Do you consider this delay to be significant?\n",
    "\n",
    "Please justify your answers (don't just say \"yes\" or \"no\")."
   ]
  },
  {
   "cell_type": "markdown",
   "id": "48819a28",
   "metadata": {},
   "source": [
    "### 5.3 Sources of error"
   ]
  },
  {
   "cell_type": "markdown",
   "id": "db6b7415",
   "metadata": {},
   "source": [
    "**Modify the text in this cell** to discuss possible sources of error. For example:\n",
    "\n",
    "* How uncertain was each measurement and each computed quantity?\n",
    "* What assumptions were made and to what extent were these assumptions violated?\n",
    "\n",
    "You may find that these questions are harder to answer than in the previous lab."
   ]
  },
  {
   "cell_type": "markdown",
   "id": "e818be3b",
   "metadata": {},
   "source": [
    "### 5.4 Ways to improve the results"
   ]
  },
  {
   "cell_type": "markdown",
   "id": "0ef03324",
   "metadata": {},
   "source": [
    "**Modify the text in this cell** to propose at least one way in which the experiments or the analysis could be improved to get estimates of $k_F$ and $k_M$ (as well as $T_F$ and $T_M$) that are more accurate (i.e., less uncertain). You could suggest improvements to your current method of approach, but you are also welcome to suggest a completely different method of approach."
   ]
  },
  {
   "cell_type": "markdown",
   "id": "f676b7ca",
   "metadata": {},
   "source": [
    "### 5.5 Reflection"
   ]
  },
  {
   "cell_type": "markdown",
   "id": "aa6a0fd7",
   "metadata": {},
   "source": [
    "**Modify the text in this cell** to describe, in at least two or three sentences, the biggest struggle you had (with the technical material, with collaboration, etc.) and the most important thing that you learned."
   ]
  }
 ],
 "metadata": {
  "kernelspec": {
   "display_name": "ae483",
   "language": "python",
   "name": "python3"
  },
  "language_info": {
   "codemirror_mode": {
    "name": "ipython",
    "version": 3
   },
   "file_extension": ".py",
   "mimetype": "text/x-python",
   "name": "python",
   "nbconvert_exporter": "python",
   "pygments_lexer": "ipython3",
   "version": "3.12.4"
  }
 },
 "nbformat": 4,
 "nbformat_minor": 5
}
