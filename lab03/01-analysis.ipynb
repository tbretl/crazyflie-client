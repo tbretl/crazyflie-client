{
 "cells": [
  {
   "cell_type": "markdown",
   "id": "f4233d19",
   "metadata": {},
   "source": [
    "# 1. Set up the notebook"
   ]
  },
  {
   "cell_type": "markdown",
   "id": "76c153c7",
   "metadata": {},
   "source": [
    "Do imports."
   ]
  },
  {
   "cell_type": "code",
   "execution_count": null,
   "id": "778881a0",
   "metadata": {},
   "outputs": [],
   "source": [
    "import numpy as np\n",
    "import matplotlib.pyplot as plt\n",
    "from scipy.signal import find_peaks\n",
    "from IPython.display import Image\n",
    "from ae483tools import *"
   ]
  },
  {
   "cell_type": "markdown",
   "id": "b848ed24",
   "metadata": {},
   "source": [
    "# 2. Estimate the mass"
   ]
  },
  {
   "cell_type": "markdown",
   "id": "c604d6c6",
   "metadata": {},
   "source": [
    "Find the mass $m$ of the drone in kilograms."
   ]
  },
  {
   "cell_type": "code",
   "execution_count": null,
   "id": "73d36ac6",
   "metadata": {},
   "outputs": [],
   "source": [
    "m = 1.00 # <-- FIXME"
   ]
  },
  {
   "cell_type": "markdown",
   "id": "99e6774a",
   "metadata": {},
   "source": [
    "Find a worst-case bound $\\Delta m$ on the uncertainty of your estimate. This bound should be chosen so that the true mass is guaranteed to be in the interval $[m - \\Delta m, m + \\Delta m]$."
   ]
  },
  {
   "cell_type": "code",
   "execution_count": null,
   "id": "31342852",
   "metadata": {},
   "outputs": [],
   "source": [
    "delta_m = 0.00 # <-- FIXME"
   ]
  },
  {
   "cell_type": "markdown",
   "id": "821a96e8",
   "metadata": {},
   "source": [
    "# 3. Estimate the moment of inertia about the $x_B$-axis"
   ]
  },
  {
   "cell_type": "markdown",
   "id": "7fbe0f57",
   "metadata": {},
   "source": [
    "Show a picture of your rig (change the file name or file extension as appropriate)."
   ]
  },
  {
   "cell_type": "code",
   "execution_count": null,
   "id": "7c7019a9",
   "metadata": {},
   "outputs": [],
   "source": [
    "Image(filename='x-rig.png', width=480)"
   ]
  },
  {
   "cell_type": "markdown",
   "id": "fa6cd877",
   "metadata": {},
   "source": [
    "Find the distance in meters between the axis of rotation and the center of mass."
   ]
  },
  {
   "cell_type": "code",
   "execution_count": null,
   "id": "62bf58a6",
   "metadata": {},
   "outputs": [],
   "source": [
    "r = 1.00 # <-- FIXME"
   ]
  },
  {
   "cell_type": "markdown",
   "id": "656a27af",
   "metadata": {},
   "source": [
    "Find a worst-case bound $\\Delta r$ on the uncertainty of your estimate."
   ]
  },
  {
   "cell_type": "code",
   "execution_count": null,
   "id": "35df9847",
   "metadata": {},
   "outputs": [],
   "source": [
    "delta_r = 0.00 # <-- FIXME"
   ]
  },
  {
   "cell_type": "markdown",
   "id": "2965f6a8",
   "metadata": {},
   "source": [
    "Load, resample, and parse data to get time and the three components of angular velocity (in radians / second).\n",
    "\n",
    "Remember that `resample_drone_data` has two optional arguments that allow you to discard data at the start and end of the experiment. You may find these arguments useful, since you will likely find that some of the data at the start and end of your experiment are garbage."
   ]
  },
  {
   "cell_type": "code",
   "execution_count": null,
   "id": "155864e5",
   "metadata": {},
   "outputs": [],
   "source": [
    "# Load data\n",
    "raw_data_drone, raw_data_mocap = load_hardware_data('x_data.json')\n",
    "\n",
    "# Resample data\n",
    "data_drone = resample_data_drone(\n",
    "    raw_data_drone,\n",
    "    t_min_offset=0.,    # <-- FIXME\n",
    "    t_max_offset=0.,    # <-- FIXME\n",
    ")\n",
    "\n",
    "# Parse data\n",
    "t = data_drone['time']\n",
    "w_x = np.deg2rad(data_drone['gyro.x'])\n",
    "w_y = np.deg2rad(data_drone['gyro.y'])\n",
    "w_z = np.deg2rad(data_drone['gyro.z'])"
   ]
  },
  {
   "cell_type": "markdown",
   "id": "6a761ccb",
   "metadata": {},
   "source": [
    "Plot all three components of angular velocity. You are trying to estimate the moment of inertia about the $x$ axis. The component of angular velocity about this axis should be large, and the components of angular velocity about the other two axes should be negligibly small. It is important to check this. (Please also check if you have data at the start and end of the experiment that need to be discarded.)"
   ]
  },
  {
   "cell_type": "code",
   "execution_count": null,
   "id": "adc68c83",
   "metadata": {},
   "outputs": [],
   "source": [
    "fig, ax = plt.subplots(1, 1, figsize=(8, 4), tight_layout=True)\n",
    "ax.plot(t, w_x, label='$w_x$')\n",
    "ax.plot(t, w_y, label='$w_y$')\n",
    "ax.plot(t, w_z, label='$w_z$')\n",
    "ax.set_xlabel('time (sec)')\n",
    "ax.set_ylabel('angular velocity (rad / sec)')\n",
    "ax.legend()\n",
    "ax.grid()\n",
    "plt.show()"
   ]
  },
  {
   "cell_type": "markdown",
   "id": "f812b2ed",
   "metadata": {},
   "source": [
    "You should find that `w_x` is oscillatory. The period is the peak-to-peak time. You could measure the period by hand, but it is easier to automate this process, particularly if you want to average your estimate of the period over many oscillations.\n",
    "\n",
    "Here is one way to do it:\n",
    "\n",
    "* Find the index $i_k$ of each peak $k\\in\\{0, \\dotsc, n-1\\}$ in your data.\n",
    "* Find the time $t_k$ at each peak for $k\\in\\{0, \\dotsc, n-1\\}$.\n",
    "* Find the difference $T_k = t_{k+1} - t_k$ between consecutive peak times for $k \\in \\{0, \\dotsc, n-2\\}$.\n",
    "* Find the mean difference: $$\\widehat{T} = \\dfrac{1}{n-1} \\sum_{k=0}^{n-2} T_k.$$ This is an estimate of the oscillation period.\n",
    "\n",
    "Here is one way to implement this in code, using [scipy.signal.find_peaks](https://docs.scipy.org/doc/scipy/reference/generated/scipy.signal.find_peaks.html):"
   ]
  },
  {
   "cell_type": "code",
   "execution_count": null,
   "id": "a836a794",
   "metadata": {},
   "outputs": [],
   "source": [
    "# Find the index of each peak (increase \"prominence\" if you get bad results)\n",
    "peaks = find_peaks(w_x, prominence=0)\n",
    "i_peaks = peaks[0]\n",
    "\n",
    "# Find the time at each peak\n",
    "t_peaks = t[i_peaks]\n",
    "\n",
    "# Find w_x at each peak (for visualization)\n",
    "w_x_peaks = w_x[i_peaks]\n",
    "\n",
    "# Find the difference between consecutive peak times\n",
    "#\n",
    "# Note:\n",
    "#\n",
    "#  t_peaks[1:] means t_peaks without the first element\n",
    "#  t_peaks[:-1] means t_peaks without the last element\n",
    "#\n",
    "# So, t_peaks[1:] - t_peaks[:-1] produces the following array:\n",
    "#\n",
    "#  [t_peaks[1]-t_peaks[0], t_peaks[0]-t_peaks[1], ...]\n",
    "#\n",
    "t_diff = t_peaks[1:] - t_peaks[:-1]\n",
    "\n",
    "# Find the mean difference as an estimate of the oscillation period\n",
    "T = np.mean(t_diff)\n",
    "\n",
    "# Print the estimate\n",
    "print(f'T = {T:.4f} sec')"
   ]
  },
  {
   "cell_type": "markdown",
   "id": "2b8e5857",
   "metadata": {},
   "source": [
    "Sanity check — plot the peaks. (**FIXME: How do you know these results are good?**)"
   ]
  },
  {
   "cell_type": "code",
   "execution_count": null,
   "id": "8afe849e",
   "metadata": {},
   "outputs": [],
   "source": [
    "fig, ax = plt.subplots(1, 1, figsize=(8, 4), tight_layout=True)\n",
    "ax.plot(t, w_x, label='$w_x$')\n",
    "ax.plot(t_peaks, w_x_peaks, '.', markersize=12, label='peaks')\n",
    "ax.set_xlabel('time (sec)')\n",
    "ax.set_ylabel('angular velocity (rad / sec)')\n",
    "ax.legend()\n",
    "ax.grid()\n",
    "plt.show()"
   ]
  },
  {
   "cell_type": "markdown",
   "id": "1585d967",
   "metadata": {},
   "source": [
    "Sanity check — plot the differences between consecutive peak times. (**FIXME: How do you know these results are good?**)"
   ]
  },
  {
   "cell_type": "code",
   "execution_count": null,
   "id": "9e26573a",
   "metadata": {},
   "outputs": [],
   "source": [
    "fig, ax = plt.subplots(1, 1, figsize=(8, 4), tight_layout=True)\n",
    "ax.plot(t_peaks[:-1], T * np.ones_like(t_peaks[:-1]), label='mean peak time difference')\n",
    "ax.plot(t_peaks[:-1], t_diff, '.', markersize=12, label='peak time differences')\n",
    "ax.set_ylim(0., 1.)\n",
    "ax.set_xlabel('time (sec)')\n",
    "ax.set_ylabel('time difference (sec)')\n",
    "ax.grid()\n",
    "ax.legend()\n",
    "plt.show()"
   ]
  },
  {
   "cell_type": "markdown",
   "id": "cc812386",
   "metadata": {},
   "source": [
    "Find a worst-case bound $\\Delta T$ on the uncertainty of your estimate."
   ]
  },
  {
   "cell_type": "code",
   "execution_count": null,
   "id": "0a726463",
   "metadata": {},
   "outputs": [],
   "source": [
    "delta_T = 0.00 # <-- FIXME"
   ]
  },
  {
   "cell_type": "markdown",
   "id": "1b703574",
   "metadata": {},
   "source": [
    "Find the moment of inertia about the $x$ axis."
   ]
  },
  {
   "cell_type": "code",
   "execution_count": null,
   "id": "6a304316",
   "metadata": {},
   "outputs": [],
   "source": [
    "J_x = 0.00 # <-- FIXME"
   ]
  },
  {
   "cell_type": "markdown",
   "id": "173c5ff6",
   "metadata": {},
   "source": [
    "Find a worst-case bound $\\Delta J_x$ on the uncertainty in your estimate."
   ]
  },
  {
   "cell_type": "code",
   "execution_count": null,
   "id": "8394700a",
   "metadata": {},
   "outputs": [],
   "source": [
    "delta_J_x = 0.00 # <-- FIXME"
   ]
  },
  {
   "cell_type": "markdown",
   "id": "c74d697d",
   "metadata": {},
   "source": [
    "# 4. Estimate the moment of inertia about the $y_B$-axis"
   ]
  },
  {
   "cell_type": "markdown",
   "id": "3d83ea81",
   "metadata": {},
   "source": [
    "Add cells here to repeat the same process as above..."
   ]
  },
  {
   "cell_type": "code",
   "execution_count": null,
   "id": "b86bfff3",
   "metadata": {},
   "outputs": [],
   "source": [
    "J_y = 0.00          # <-- FIXME\n",
    "delta_J_y = 0.00    # <-- FIXME"
   ]
  },
  {
   "cell_type": "markdown",
   "id": "428d3457",
   "metadata": {},
   "source": [
    "# 5. Estimate the moment of inertia about the $z_B$-axis"
   ]
  },
  {
   "cell_type": "markdown",
   "id": "49e187bb",
   "metadata": {},
   "source": [
    "Add cells here to repeat the same process as above..."
   ]
  },
  {
   "cell_type": "code",
   "execution_count": null,
   "id": "975a91c3",
   "metadata": {},
   "outputs": [],
   "source": [
    "J_z = 0.00          # <-- FIXME\n",
    "delta_J_z = 0.00    # <-- FIXME"
   ]
  },
  {
   "cell_type": "markdown",
   "id": "be4cd20d",
   "metadata": {},
   "source": [
    "# 6. Summarize and discuss the results"
   ]
  },
  {
   "cell_type": "markdown",
   "id": "18f63a6c",
   "metadata": {},
   "source": [
    "### Summary of results"
   ]
  },
  {
   "cell_type": "code",
   "execution_count": null,
   "id": "2952b085",
   "metadata": {},
   "outputs": [],
   "source": [
    "print(f'm = {m:.4f} +/- {delta_m:.4f} kg')\n",
    "print(f'J_x = {J_x:.2e} +/- {delta_J_x:.2e} kg m^2')\n",
    "print(f'J_y = {J_y:.2e} +/- {delta_J_y:.2e} kg m^2')\n",
    "print(f'J_z = {J_z:.2e} +/- {delta_J_z:.2e} kg m^2')"
   ]
  },
  {
   "cell_type": "markdown",
   "id": "48819a28",
   "metadata": {},
   "source": [
    "### Analysis of uncertainty"
   ]
  },
  {
   "cell_type": "markdown",
   "id": "db6b7415",
   "metadata": {},
   "source": [
    "**Modify the text in this cell** to answer the following questions:\n",
    "* Which computed quantities ($J_x$, $J_y$, $J_z$) are the most uncertain?\n",
    "* Which measured quantities ($m$, $r$, $T$) contribute the most to uncertainty in the computed quantities?\n",
    "* What assumptions were made and to what extent were these assumptions violated?\n",
    "* What sources of error might not be captured in your analysis of uncertainty?"
   ]
  },
  {
   "cell_type": "markdown",
   "id": "d7e97c52",
   "metadata": {},
   "source": [
    "### Ways to improve the results"
   ]
  },
  {
   "cell_type": "markdown",
   "id": "f9e5b510",
   "metadata": {},
   "source": [
    "**Modify the text in this cell** to propose at least one way in which the experiments or the analysis could be improved to get estimates of mass and moments of inertia that are more accurate (i.e., less uncertain). You could suggest improvements to your current method of approach, but you are also welcome to suggest a completely different method of approach."
   ]
  }
 ],
 "metadata": {
  "kernelspec": {
   "display_name": "Python 3 (ipykernel)",
   "language": "python",
   "name": "python3"
  },
  "language_info": {
   "codemirror_mode": {
    "name": "ipython",
    "version": 3
   },
   "file_extension": ".py",
   "mimetype": "text/x-python",
   "name": "python",
   "nbconvert_exporter": "python",
   "pygments_lexer": "ipython3",
   "version": "3.12.4"
  }
 },
 "nbformat": 4,
 "nbformat_minor": 5
}
