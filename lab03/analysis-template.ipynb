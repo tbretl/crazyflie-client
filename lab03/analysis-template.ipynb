{
 "cells": [
  {
   "cell_type": "markdown",
   "id": "f4233d19",
   "metadata": {},
   "source": [
    "# 1. Set up the notebook"
   ]
  },
  {
   "cell_type": "markdown",
   "id": "38bcc561",
   "metadata": {},
   "source": [
    "Import modules."
   ]
  },
  {
   "cell_type": "code",
   "execution_count": null,
   "id": "294d9f2d",
   "metadata": {},
   "outputs": [],
   "source": [
    "import json\n",
    "import numpy as np\n",
    "import matplotlib.pyplot as plt\n",
    "from scipy.interpolate import interp1d\n",
    "from scipy.signal import find_peaks\n",
    "from IPython.display import display, IFrame, HTML"
   ]
  },
  {
   "cell_type": "markdown",
   "id": "db664848",
   "metadata": {},
   "source": [
    "Define a function to load flight data from hardware experiments and resample it at 100 Hz using linear interpolation."
   ]
  },
  {
   "cell_type": "code",
   "execution_count": null,
   "id": "7ec4dec8",
   "metadata": {},
   "outputs": [],
   "source": [
    "def load_hardware_data(filename, t_min_offset=0, t_max_offset=0):\n",
    "    # load raw data\n",
    "    with open(filename, 'r') as f:\n",
    "        data = json.load(f)\n",
    "\n",
    "    # convert lists to numpy arrays\n",
    "    for val in data.values():\n",
    "        for key in val.keys():\n",
    "            val[key] = np.array(val[key])\n",
    "\n",
    "    # create an array of times at which to subsample\n",
    "    t_min = -np.inf\n",
    "    t_max = np.inf\n",
    "    for key, val in data.items():\n",
    "        t_min = max(t_min, val['time'][0])\n",
    "        t_max = min(t_max, val['time'][-1])\n",
    "    t_min += t_min_offset * 1000\n",
    "    t_max -= t_max_offset * 1000\n",
    "    nt = int(1 + np.floor((t_max - t_min) / 10.))\n",
    "    t = np.arange(0, 10 * nt, 10) / 1000.\n",
    "    resampled_data = {'time': t}\n",
    "\n",
    "    # resample raw data with linear interpolation\n",
    "    for k, v in data.items():\n",
    "        f = interp1d((v['time'] - t_min) / 1000., v['data'])\n",
    "        resampled_data[k] = f(t)\n",
    "        \n",
    "    # return the resampled data\n",
    "    return resampled_data"
   ]
  },
  {
   "cell_type": "markdown",
   "id": "4bbdf215",
   "metadata": {},
   "source": [
    "Define a function to embed videos that have been uploaded to [Illinois Mediaspace](https://mediaspace.illinois.edu/)."
   ]
  },
  {
   "cell_type": "code",
   "execution_count": null,
   "id": "cde4e04d",
   "metadata": {},
   "outputs": [],
   "source": [
    "def mediaspace(url, width=640, height=397):\n",
    "    video_id = url.rsplit('/', 1)[-1]\n",
    "    src = f'https://mediaspace.illinois.edu/embed/secure/iframe/entryId/{video_id}?st=0'\n",
    "    display(IFrame(src, width=width, height=height))\n",
    "    display(HTML(f'<a href=\"{url}\" target=\"_blank\">Go to video on Illinois Mediaspace</a>'))"
   ]
  },
  {
   "cell_type": "markdown",
   "id": "b848ed24",
   "metadata": {},
   "source": [
    "# 2. Define constants"
   ]
  },
  {
   "cell_type": "markdown",
   "id": "b4471de4",
   "metadata": {},
   "source": [
    "Define the acceleration of gravity in $\\text{kg}\\cdot\\text{m} \\;/\\; \\text{s}^2$:"
   ]
  },
  {
   "cell_type": "code",
   "execution_count": null,
   "id": "34d4e541",
   "metadata": {},
   "outputs": [],
   "source": [
    "g = 9.81"
   ]
  },
  {
   "cell_type": "markdown",
   "id": "c604d6c6",
   "metadata": {},
   "source": [
    "Define the mass of the drone in $\\text{kg}$:"
   ]
  },
  {
   "cell_type": "code",
   "execution_count": null,
   "id": "73d36ac6",
   "metadata": {},
   "outputs": [],
   "source": [
    "m = 1.00 # <-- FIXME"
   ]
  },
  {
   "cell_type": "markdown",
   "id": "821a96e8",
   "metadata": {},
   "source": [
    "# 3. Estimate the moment of inertia about the $x$-axis"
   ]
  },
  {
   "cell_type": "markdown",
   "id": "fa6cd877",
   "metadata": {},
   "source": [
    "Define the distance in meters between the axis of rotation and the center of mass:"
   ]
  },
  {
   "cell_type": "code",
   "execution_count": null,
   "id": "62bf58a6",
   "metadata": {},
   "outputs": [],
   "source": [
    "r = 1.00 # <-- FIXME"
   ]
  },
  {
   "cell_type": "markdown",
   "id": "3757d2da",
   "metadata": {},
   "source": [
    "Show a photo of your rig (change the file name or file extension as appropriate):\n",
    "\n",
    "![x-axis-rig](x-rig.png)"
   ]
  },
  {
   "cell_type": "markdown",
   "id": "c5e063aa",
   "metadata": {},
   "source": [
    "Show a video of the drone swinging on your rig, while you were collecting data (change the url as appropriate):"
   ]
  },
  {
   "cell_type": "code",
   "execution_count": null,
   "id": "137eab47",
   "metadata": {},
   "outputs": [],
   "source": [
    "mediaspace('https://mediaspace.illinois.edu/media/t/YOUR_VIDEO_ID')"
   ]
  },
  {
   "cell_type": "markdown",
   "id": "2965f6a8",
   "metadata": {},
   "source": [
    "Load and resample data.\n",
    "\n",
    "The `load_hardware_data` function has two optional arguments:\n",
    "\n",
    "* `t_min_offset` allows you to discard data at the *start* of the experiment - if its value is `4.`, for example, then the *first* four seconds of data will be discarded\n",
    "* `t_max_offset` allows you to discard data at the *end* of the experiment - if its value is `4.`, for example, then the *last* four seconds of data will be discarded\n",
    "\n",
    "You may find these arguments useful, since you will likely find that some of the data at the start and end of your experiment are garbage."
   ]
  },
  {
   "cell_type": "code",
   "execution_count": null,
   "id": "155864e5",
   "metadata": {},
   "outputs": [],
   "source": [
    "data = load_hardware_data(\n",
    "    'x_data.json',\n",
    "    t_min_offset=0.,\n",
    "    t_max_offset=0.\n",
    ")"
   ]
  },
  {
   "cell_type": "markdown",
   "id": "2b3c520a",
   "metadata": {},
   "source": [
    "Parse data to get time and the three components of angular velocity (in radians / second)."
   ]
  },
  {
   "cell_type": "code",
   "execution_count": null,
   "id": "8c8e5468",
   "metadata": {},
   "outputs": [],
   "source": [
    "t = data['time']\n",
    "w_x = np.deg2rad(data['gyro.x'])\n",
    "w_y = np.deg2rad(data['gyro.y'])\n",
    "w_z = np.deg2rad(data['gyro.z'])"
   ]
  },
  {
   "cell_type": "markdown",
   "id": "6a761ccb",
   "metadata": {},
   "source": [
    "Plot all three components of angular velocity. You are trying to estimate the moment of inertia about the $x$ axis. The component of angular velocity about this axis should be large, and the components of angular velocity about the other two axes should be negligibly small. It is important to check this."
   ]
  },
  {
   "cell_type": "code",
   "execution_count": null,
   "id": "adc68c83",
   "metadata": {},
   "outputs": [],
   "source": [
    "plt.figure(figsize=(12, 8))\n",
    "plt.plot(t, w_x, label='w_x')\n",
    "plt.plot(t, w_y, label='w_y')\n",
    "plt.plot(t, w_z, label='w_z')\n",
    "plt.legend()\n",
    "plt.grid()"
   ]
  },
  {
   "cell_type": "markdown",
   "id": "f812b2ed",
   "metadata": {},
   "source": [
    "You should find that `w_x` is oscillatory. The period is the peak-to-peak time. You could measure the period by hand, but it is easier to automate this process, particularly if you want to average your estimate of the period over many oscillations.\n",
    "\n",
    "Here is one way to do it:\n",
    "\n",
    "* Find the index $i_k$ of each peak $k\\in\\{0, \\dotsc, n-1\\}$ in your data.\n",
    "* Find the time $t_k$ at each peak for $k\\in\\{0, \\dotsc, n-1\\}$.\n",
    "* Find the difference $T_k = t_{k+1} - t_k$ between consecutive peak times for $k \\in \\{0, \\dotsc, n-2\\}$.\n",
    "* Find the mean difference: $$\\widehat{T} = \\dfrac{1}{n-1} \\sum_{k=0}^{n-2} T_k.$$ This is an estimate of the oscillation period.\n",
    "\n",
    "Here is one way to implement this in code, using [scipy.signal.find_peaks](https://docs.scipy.org/doc/scipy/reference/generated/scipy.signal.find_peaks.html):"
   ]
  },
  {
   "cell_type": "code",
   "execution_count": null,
   "id": "a836a794",
   "metadata": {},
   "outputs": [],
   "source": [
    "# Find the index of each peak (increase \"prominence\" if you get bad results)\n",
    "peaks = find_peaks(w_x, prominence=0)\n",
    "i_peaks = peaks[0]\n",
    "\n",
    "# Find the time at each peak\n",
    "t_peaks = t[i_peaks]\n",
    "\n",
    "# Find w_x at each peak (for visualization)\n",
    "w_x_peaks = w_x[i_peaks]\n",
    "\n",
    "# Find the difference between consecutive peak times\n",
    "#\n",
    "# Note:\n",
    "#\n",
    "#  t_peaks[1:] means t_peaks without the first element\n",
    "#  t_peaks[:-1] means t_peaks without the last element\n",
    "#\n",
    "# So, t_peaks[1:] - t_peaks[:-1] produces the following array:\n",
    "#\n",
    "#  [t_peaks[1]-t_peaks[0], t_peaks[0]-t_peaks[1], ...]\n",
    "#\n",
    "t_diff = t_peaks[1:] - t_peaks[:-1]\n",
    "\n",
    "# Find the mean difference as an estimate of the oscillation period\n",
    "T = np.mean(t_diff)"
   ]
  },
  {
   "cell_type": "markdown",
   "id": "33dcd32f",
   "metadata": {},
   "source": [
    "Sanity check - print the peak times:"
   ]
  },
  {
   "cell_type": "code",
   "execution_count": null,
   "id": "b9c0cfb9",
   "metadata": {},
   "outputs": [],
   "source": [
    "print(t_peaks)"
   ]
  },
  {
   "cell_type": "markdown",
   "id": "2b8e5857",
   "metadata": {},
   "source": [
    "Sanity check - plot the peaks:"
   ]
  },
  {
   "cell_type": "code",
   "execution_count": null,
   "id": "8afe849e",
   "metadata": {},
   "outputs": [],
   "source": [
    "plt.figure(figsize=(12, 8))\n",
    "plt.plot(t, w_x, label='w_x')\n",
    "plt.plot(t_peaks, w_x_peaks, '.', markersize=12)\n",
    "plt.legend()\n",
    "plt.grid()"
   ]
  },
  {
   "cell_type": "markdown",
   "id": "d16b1f98",
   "metadata": {},
   "source": [
    "Sanity check - print the difference between consecutive peak times, as well as the resulting estimate of the oscillation period (you may also want to look at a histogram of the time differences, or to compute their variance):"
   ]
  },
  {
   "cell_type": "code",
   "execution_count": null,
   "id": "e1f6637f",
   "metadata": {},
   "outputs": [],
   "source": [
    "print(f'time differences: {t_diff}\\n')\n",
    "print(f'period estimate (i.e., mean time difference): T = {T:.4f}')"
   ]
  },
  {
   "cell_type": "markdown",
   "id": "1b703574",
   "metadata": {},
   "source": [
    "Compute the moment of inertia about the $x$ axis (see formula from theory)."
   ]
  },
  {
   "cell_type": "code",
   "execution_count": null,
   "id": "6a304316",
   "metadata": {},
   "outputs": [],
   "source": [
    "J_x = 0.00 # <-- FIXME"
   ]
  },
  {
   "cell_type": "markdown",
   "id": "69a6da0b",
   "metadata": {},
   "source": [
    "# 4. Estimate the moment of inertia about the $y$-axis"
   ]
  },
  {
   "cell_type": "markdown",
   "id": "3d83ea81",
   "metadata": {},
   "source": [
    "Add cells here to repeat the same process as above..."
   ]
  },
  {
   "cell_type": "code",
   "execution_count": null,
   "id": "b86bfff3",
   "metadata": {},
   "outputs": [],
   "source": [
    "J_y = 0.00 # <-- FIXME"
   ]
  },
  {
   "cell_type": "markdown",
   "id": "bece17d7",
   "metadata": {},
   "source": [
    "# 5. Estimate the moment of inertia about the $z$-axis"
   ]
  },
  {
   "cell_type": "markdown",
   "id": "b74a061b",
   "metadata": {},
   "source": [
    "Add cells here to repeat the same process as above..."
   ]
  },
  {
   "cell_type": "code",
   "execution_count": null,
   "id": "407e7b35",
   "metadata": {},
   "outputs": [],
   "source": [
    "J_z = 0.00 # <-- FIXME"
   ]
  },
  {
   "cell_type": "markdown",
   "id": "be4cd20d",
   "metadata": {},
   "source": [
    "# 6. Summarize and discuss the results"
   ]
  },
  {
   "cell_type": "markdown",
   "id": "18f63a6c",
   "metadata": {},
   "source": [
    "### Summary of results"
   ]
  },
  {
   "cell_type": "code",
   "execution_count": null,
   "id": "2952b085",
   "metadata": {},
   "outputs": [],
   "source": [
    "print(f'm = {m:.2} kg')\n",
    "print(f'J_x = {J_x:.2e} kg m^2')\n",
    "print(f'J_y = {J_y:.2e} kg m^2')\n",
    "print(f'J_z = {J_z:.2e} kg m^2')"
   ]
  },
  {
   "cell_type": "markdown",
   "id": "48819a28",
   "metadata": {},
   "source": [
    "### Sources of error"
   ]
  },
  {
   "cell_type": "markdown",
   "id": "db6b7415",
   "metadata": {},
   "source": [
    "**Modify the text in this cell** to discuss possible sources of error. For example:\n",
    "* How uncertain was each measurement and each computed quantity?\n",
    "* What assumptions were made and to what extent were these assumptions violated?\n",
    "* Are there ways in which either the experiments or the analysis could be improved?"
   ]
  },
  {
   "cell_type": "markdown",
   "id": "6eb14dbe",
   "metadata": {},
   "source": [
    "### Analysis of sensitivity"
   ]
  },
  {
   "cell_type": "markdown",
   "id": "c9a1a528",
   "metadata": {},
   "source": [
    "**Modify the text in this cell** to discuss the sensitivity of your results to possible sources of error. For example:\n",
    "* Find the derivative of $J$ with respect to $m$. If you overestimate the mass, will you have overestimated or underestimated $J$?\n",
    "* Find the derivative of $J$ with respect to $r$. If you overestimate the distance between the axis of rotation and the center of mass, will you have overestimated or underestimated $J$?\n",
    "* Find the derivative of $J$ with respect to $T$. If you overestimate the period of oscillation, will you have overestimated or underestimated $J$?"
   ]
  },
  {
   "cell_type": "code",
   "execution_count": null,
   "id": "e033062b",
   "metadata": {},
   "outputs": [],
   "source": []
  }
 ],
 "metadata": {
  "kernelspec": {
   "display_name": "Python 3 (ipykernel)",
   "language": "python",
   "name": "python3"
  },
  "language_info": {
   "codemirror_mode": {
    "name": "ipython",
    "version": 3
   },
   "file_extension": ".py",
   "mimetype": "text/x-python",
   "name": "python",
   "nbconvert_exporter": "python",
   "pygments_lexer": "ipython3",
   "version": "3.10.5"
  }
 },
 "nbformat": 4,
 "nbformat_minor": 5
}
